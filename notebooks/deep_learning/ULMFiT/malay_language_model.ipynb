{
 "cells": [
  {
   "cell_type": "markdown",
   "metadata": {},
   "source": [
    "# ULMFiT Language Model for Malay Language"
   ]
  },
  {
   "cell_type": "markdown",
   "metadata": {},
   "source": [
    "## The Project\n",
    "\n",
    "### Background\n",
    "\n",
    "_This work is part of my project while studying [fast.ai's 2018 edition of Cutting Edge Deep Learning for Coders, Part 2](http://course.fast.ai/part2.html) course._\n",
    "\n",
    "I took this opportunity to implement [Universal Language Model Fine-tuning for Text Classification (ULMFiT) paper](http://nlp.fast.ai/classification/2018/05/15/introducting-ulmfit.html) in different languages together with the fast.ai community. fast.ai will soon launch a [model zoo with pre-trained language models for many languages](http://forums.fast.ai/t/language-model-zoo-gorilla/14623). You can learn more about ULMFiT in lesson 4 and lesson 10. What I learned from lesson 10 ([my notes](https://cedrickchee.gitbook.io/knowledge/courses/fast.ai/deep-learning-part-2-cutting-edge-deep-learning-for-coders/2018-edition/lesson-10-transfer-learning-nlp)) is:\n",
    "- how pre-training a full language model from scratch can greatly surpass previous approaches based on simple word vectors\n",
    "- transfer learning for NLP by using this language model to show a new state of the art result in text classification, in some sense like [NLP's ImageNet moment has arrived](http://ruder.io/nlp-imagenet/)\n",
    "\n",
    "---\n",
    "\n",
    "### Project Goal\n",
    "\n",
    "The goal of this project is to train Malay word embeddings using the fast.ai version of [AWD-LSTM Language Model](https://arxiv.org/abs/1708.02182) by Salesforce Research—basically LSTM with dropouts—with data from [Wikipedia](https://dumps.wikimedia.org/mswiki/20180901/mswiki-20180901-pages-articles.xml.bz2) (last updated Sept 2, 2018). The AWD-LSTM language model achieved the state of the art performance on the English language.\n",
    "\n",
    "Using 90/10 train-validation split, I achieved perplexity of **29.30245 with 60,002 embeddings at 400 dimensions**, compared to state-of-the-art as of June 12, 2018 at **40.68 for English WikiText-2 by [Yang et al (2017)](https://arxiv.org/abs/1711.03953)** and **29.2 for English WikiText-103 by [Rae et al (2018)](https://arxiv.org/abs/1803.10049)**. To the best of my knowledge, there is no comparable research in Malay language at the point of writing (Sept 21, 2018).\n",
    "\n",
    "My workflow is as follows:\n",
    "- Perform 90/10 train-validation split\n",
    "- Minimal text cleaning and tokenization using our own tokenizer\n",
    "- Train language model\n",
    "- Evaluate model based on perplexity and eyeballing\n",
    "- Get embeddings of dataset from train set"
   ]
  },
  {
   "cell_type": "markdown",
   "metadata": {},
   "source": [
    "**Pre-trained model**\n",
    "\n",
    "You can download the files from [Google Drive](https://drive.google.com/drive/folders/1p5fsrD97iRD-Vz6C_ae5fo4c5wY0KrJd?usp=sharing):\n",
    "- Weights for the pre-trained model (lm_malay_final.h5.tar.gz)\n",
    "    - Uncompress and put the weights (.h5 file) into `{project_root}/data/models/`.\n",
    "- Index-to-word mapping (itos.pkl.tar.gz)\n",
    "    - Uncompress and put the pickled objects (.pkl files) into `{project_root}/data/model/malay/tmp/`.\n",
    "- Pre-processed training dataset of Malay Wikipedia:\n",
    "    - tokenized training text data (tok_trn.npy.tar.gz)\n",
    "    - tokenized validation text data (tok_val.npy.tar.gz)\n",
    "    - indexed representation of train set (trn_ids.npy.tar.gz)\n",
    "    - indexed representation of validation set (val_ids.npy.tar.gz)\n",
    "    - Uncompress and put the numpy array binary (.npy files) into `{project_root}/data/model/malay/tmp/`.\n",
    "\n",
    "Note:\n",
    "\n",
    "The weights (model state dict) and the optimizer state for the model were saved at the end of the training.\n",
    "\n",
    "_Note: the model was last trained on 2018-09-22 and the weights last updated on 2018-09-22._"
   ]
  },
  {
   "cell_type": "markdown",
   "metadata": {},
   "source": [
    "## Imports"
   ]
  },
  {
   "cell_type": "code",
   "execution_count": 1,
   "metadata": {},
   "outputs": [],
   "source": [
    "%matplotlib inline\n",
    "%reload_ext autoreload\n",
    "%autoreload 2"
   ]
  },
  {
   "cell_type": "code",
   "execution_count": 2,
   "metadata": {},
   "outputs": [],
   "source": [
    "import json\n",
    "import pathlib\n",
    "import html\n",
    "import numpy as np\n",
    "import pandas as pd\n",
    "\n",
    "from fastai.text import *"
   ]
  },
  {
   "cell_type": "markdown",
   "metadata": {},
   "source": [
    "# Standardize data format"
   ]
  },
  {
   "cell_type": "code",
   "execution_count": 3,
   "metadata": {},
   "outputs": [],
   "source": [
    "BOS = \"xbos\"  # beginning-of-sentence tag\n",
    "FLD = \"xfld\"  # data field tag\n",
    "\n",
    "DATA_PATH = \"data\"\n",
    "EXTR_PATH = pathlib.Path(f\"{DATA_PATH}/wiki_extr/ms\")"
   ]
  },
  {
   "cell_type": "code",
   "execution_count": 4,
   "metadata": {},
   "outputs": [],
   "source": [
    "LM_PATH = Path(f\"{DATA_PATH}/model/malay/\")\n",
    "LM_PATH.mkdir(parents=True, exist_ok=True)"
   ]
  },
  {
   "cell_type": "code",
   "execution_count": 5,
   "metadata": {},
   "outputs": [
    {
     "name": "stdout",
     "output_type": "stream",
     "text": [
      "232\n"
     ]
    },
    {
     "data": {
      "text/plain": [
       "['data/wiki_extr/ms/AB/wiki_65',\n",
       " 'data/wiki_extr/ms/AB/wiki_11',\n",
       " 'data/wiki_extr/ms/AB/wiki_62',\n",
       " 'data/wiki_extr/ms/AB/wiki_84',\n",
       " 'data/wiki_extr/ms/AB/wiki_23']"
      ]
     },
     "execution_count": 5,
     "metadata": {},
     "output_type": "execute_result"
    }
   ],
   "source": [
    "LANG_FILENAMES = [str(f) for f in EXTR_PATH.rglob(\"*/*\")]\n",
    "print(len(LANG_FILENAMES))\n",
    "LANG_FILENAMES[0:5]"
   ]
  },
  {
   "cell_type": "code",
   "execution_count": 43,
   "metadata": {},
   "outputs": [],
   "source": [
    "LANG_TEXT = []\n",
    "for i in LANG_FILENAMES:\n",
    "    for line in open(i):\n",
    "        LANG_TEXT.append(json.loads(line))\n",
    "\n",
    "LANG_TEXT = pd.DataFrame(LANG_TEXT)"
   ]
  },
  {
   "cell_type": "code",
   "execution_count": 44,
   "metadata": {},
   "outputs": [
    {
     "data": {
      "text/html": [
       "<div>\n",
       "<style scoped>\n",
       "    .dataframe tbody tr th:only-of-type {\n",
       "        vertical-align: middle;\n",
       "    }\n",
       "\n",
       "    .dataframe tbody tr th {\n",
       "        vertical-align: top;\n",
       "    }\n",
       "\n",
       "    .dataframe thead th {\n",
       "        text-align: right;\n",
       "    }\n",
       "</style>\n",
       "<table border=\"1\" class=\"dataframe\">\n",
       "  <thead>\n",
       "    <tr style=\"text-align: right;\">\n",
       "      <th></th>\n",
       "      <th>id</th>\n",
       "      <th>text</th>\n",
       "      <th>title</th>\n",
       "      <th>url</th>\n",
       "    </tr>\n",
       "  </thead>\n",
       "  <tbody>\n",
       "    <tr>\n",
       "      <th>0</th>\n",
       "      <td>666100</td>\n",
       "      <td>Senarai penyakit anjing\\n\\nSenarai penyakit an...</td>\n",
       "      <td>Senarai penyakit anjing</td>\n",
       "      <td>https://ms.wikipedia.org/wiki?curid=666100</td>\n",
       "    </tr>\n",
       "    <tr>\n",
       "      <th>1</th>\n",
       "      <td>666132</td>\n",
       "      <td>Son\\n\\nSon, adalah satu siri televisyen Turki ...</td>\n",
       "      <td>Son</td>\n",
       "      <td>https://ms.wikipedia.org/wiki?curid=666132</td>\n",
       "    </tr>\n",
       "    <tr>\n",
       "      <th>2</th>\n",
       "      <td>666144</td>\n",
       "      <td>Kanashiki Amefuri / Adam to Eve no Dilemma\\n\\n...</td>\n",
       "      <td>Kanashiki Amefuri / Adam to Eve no Dilemma</td>\n",
       "      <td>https://ms.wikipedia.org/wiki?curid=666144</td>\n",
       "    </tr>\n",
       "    <tr>\n",
       "      <th>3</th>\n",
       "      <td>666153</td>\n",
       "      <td>Bulakan, Cibeber\\n\\nBulakan merupakan sebuah K...</td>\n",
       "      <td>Bulakan, Cibeber</td>\n",
       "      <td>https://ms.wikipedia.org/wiki?curid=666153</td>\n",
       "    </tr>\n",
       "    <tr>\n",
       "      <th>4</th>\n",
       "      <td>666155</td>\n",
       "      <td>Cibeber, Cibeber, Cilegon\\n\\nCibeber merupakan...</td>\n",
       "      <td>Cibeber, Cibeber, Cilegon</td>\n",
       "      <td>https://ms.wikipedia.org/wiki?curid=666155</td>\n",
       "    </tr>\n",
       "  </tbody>\n",
       "</table>\n",
       "</div>"
      ],
      "text/plain": [
       "       id                                               text  \\\n",
       "0  666100  Senarai penyakit anjing\\n\\nSenarai penyakit an...   \n",
       "1  666132  Son\\n\\nSon, adalah satu siri televisyen Turki ...   \n",
       "2  666144  Kanashiki Amefuri / Adam to Eve no Dilemma\\n\\n...   \n",
       "3  666153  Bulakan, Cibeber\\n\\nBulakan merupakan sebuah K...   \n",
       "4  666155  Cibeber, Cibeber, Cilegon\\n\\nCibeber merupakan...   \n",
       "\n",
       "                                        title  \\\n",
       "0                     Senarai penyakit anjing   \n",
       "1                                         Son   \n",
       "2  Kanashiki Amefuri / Adam to Eve no Dilemma   \n",
       "3                            Bulakan, Cibeber   \n",
       "4                   Cibeber, Cibeber, Cilegon   \n",
       "\n",
       "                                          url  \n",
       "0  https://ms.wikipedia.org/wiki?curid=666100  \n",
       "1  https://ms.wikipedia.org/wiki?curid=666132  \n",
       "2  https://ms.wikipedia.org/wiki?curid=666144  \n",
       "3  https://ms.wikipedia.org/wiki?curid=666153  \n",
       "4  https://ms.wikipedia.org/wiki?curid=666155  "
      ]
     },
     "execution_count": 44,
     "metadata": {},
     "output_type": "execute_result"
    }
   ],
   "source": [
    "LANG_TEXT.head()"
   ]
  },
  {
   "cell_type": "code",
   "execution_count": 45,
   "metadata": {},
   "outputs": [],
   "source": [
    "# Getting rid of the title name in the text field\n",
    "def split_title_from_text(text):\n",
    "    words = text.split(\"\\n\\n\")\n",
    "    if len(words) >= 2:\n",
    "        return ''.join(words[1:])\n",
    "    else:\n",
    "        return ''.join(words)\n",
    "    \n",
    "LANG_TEXT[\"text\"] = LANG_TEXT[\"text\"].apply(lambda x: split_title_from_text(x))"
   ]
  },
  {
   "cell_type": "code",
   "execution_count": 46,
   "metadata": {},
   "outputs": [
    {
     "data": {
      "text/html": [
       "<div>\n",
       "<style scoped>\n",
       "    .dataframe tbody tr th:only-of-type {\n",
       "        vertical-align: middle;\n",
       "    }\n",
       "\n",
       "    .dataframe tbody tr th {\n",
       "        vertical-align: top;\n",
       "    }\n",
       "\n",
       "    .dataframe thead th {\n",
       "        text-align: right;\n",
       "    }\n",
       "</style>\n",
       "<table border=\"1\" class=\"dataframe\">\n",
       "  <thead>\n",
       "    <tr style=\"text-align: right;\">\n",
       "      <th></th>\n",
       "      <th>id</th>\n",
       "      <th>text</th>\n",
       "      <th>title</th>\n",
       "      <th>url</th>\n",
       "    </tr>\n",
       "  </thead>\n",
       "  <tbody>\n",
       "    <tr>\n",
       "      <th>0</th>\n",
       "      <td>666100</td>\n",
       "      <td>Senarai penyakit anjing ialah pilihan penyakit...</td>\n",
       "      <td>Senarai penyakit anjing</td>\n",
       "      <td>https://ms.wikipedia.org/wiki?curid=666100</td>\n",
       "    </tr>\n",
       "    <tr>\n",
       "      <th>1</th>\n",
       "      <td>666132</td>\n",
       "      <td>Son, adalah satu siri televisyen Turki yang di...</td>\n",
       "      <td>Son</td>\n",
       "      <td>https://ms.wikipedia.org/wiki?curid=666132</td>\n",
       "    </tr>\n",
       "    <tr>\n",
       "      <th>2</th>\n",
       "      <td>666144</td>\n",
       "      <td>Kanashiki Amefuri / Adam to Eve no Dilemma (悲し...</td>\n",
       "      <td>Kanashiki Amefuri / Adam to Eve no Dilemma</td>\n",
       "      <td>https://ms.wikipedia.org/wiki?curid=666144</td>\n",
       "    </tr>\n",
       "    <tr>\n",
       "      <th>3</th>\n",
       "      <td>666153</td>\n",
       "      <td>Bulakan merupakan sebuah Kelurahan yang terlet...</td>\n",
       "      <td>Bulakan, Cibeber</td>\n",
       "      <td>https://ms.wikipedia.org/wiki?curid=666153</td>\n",
       "    </tr>\n",
       "    <tr>\n",
       "      <th>4</th>\n",
       "      <td>666155</td>\n",
       "      <td>Cibeber merupakan sebuah desa yang terletak da...</td>\n",
       "      <td>Cibeber, Cibeber, Cilegon</td>\n",
       "      <td>https://ms.wikipedia.org/wiki?curid=666155</td>\n",
       "    </tr>\n",
       "  </tbody>\n",
       "</table>\n",
       "</div>"
      ],
      "text/plain": [
       "       id                                               text  \\\n",
       "0  666100  Senarai penyakit anjing ialah pilihan penyakit...   \n",
       "1  666132  Son, adalah satu siri televisyen Turki yang di...   \n",
       "2  666144  Kanashiki Amefuri / Adam to Eve no Dilemma (悲し...   \n",
       "3  666153  Bulakan merupakan sebuah Kelurahan yang terlet...   \n",
       "4  666155  Cibeber merupakan sebuah desa yang terletak da...   \n",
       "\n",
       "                                        title  \\\n",
       "0                     Senarai penyakit anjing   \n",
       "1                                         Son   \n",
       "2  Kanashiki Amefuri / Adam to Eve no Dilemma   \n",
       "3                            Bulakan, Cibeber   \n",
       "4                   Cibeber, Cibeber, Cilegon   \n",
       "\n",
       "                                          url  \n",
       "0  https://ms.wikipedia.org/wiki?curid=666100  \n",
       "1  https://ms.wikipedia.org/wiki?curid=666132  \n",
       "2  https://ms.wikipedia.org/wiki?curid=666144  \n",
       "3  https://ms.wikipedia.org/wiki?curid=666153  \n",
       "4  https://ms.wikipedia.org/wiki?curid=666155  "
      ]
     },
     "execution_count": 46,
     "metadata": {},
     "output_type": "execute_result"
    }
   ],
   "source": [
    "LANG_TEXT.head()"
   ]
  },
  {
   "cell_type": "code",
   "execution_count": 47,
   "metadata": {},
   "outputs": [],
   "source": [
    "LANG_TEXT.to_csv(f\"{LM_PATH}/wiki_malay_corpus.csv\", index=False)"
   ]
  },
  {
   "cell_type": "code",
   "execution_count": 48,
   "metadata": {},
   "outputs": [],
   "source": [
    "LANG_TEXT = pd.read_csv(f\"{LM_PATH}/wiki_malay_corpus.csv\")"
   ]
  },
  {
   "cell_type": "code",
   "execution_count": 49,
   "metadata": {},
   "outputs": [],
   "source": [
    "LANG_TEXT = LANG_TEXT.assign(length = 0)\n",
    "LANG_TEXT.columns = [\"id\", \"text\", \"title\", \"url\", \"length\"]\n",
    "LANG_TEXT = LANG_TEXT.assign(labels = 0).pipe(lambda x: x[[\"labels\", \"text\", \"length\"]])"
   ]
  },
  {
   "cell_type": "code",
   "execution_count": 50,
   "metadata": {},
   "outputs": [
    {
     "data": {
      "text/html": [
       "<div>\n",
       "<style scoped>\n",
       "    .dataframe tbody tr th:only-of-type {\n",
       "        vertical-align: middle;\n",
       "    }\n",
       "\n",
       "    .dataframe tbody tr th {\n",
       "        vertical-align: top;\n",
       "    }\n",
       "\n",
       "    .dataframe thead th {\n",
       "        text-align: right;\n",
       "    }\n",
       "</style>\n",
       "<table border=\"1\" class=\"dataframe\">\n",
       "  <thead>\n",
       "    <tr style=\"text-align: right;\">\n",
       "      <th></th>\n",
       "      <th>labels</th>\n",
       "      <th>text</th>\n",
       "      <th>length</th>\n",
       "    </tr>\n",
       "  </thead>\n",
       "  <tbody>\n",
       "    <tr>\n",
       "      <th>0</th>\n",
       "      <td>0</td>\n",
       "      <td>Senarai penyakit anjing ialah pilihan penyakit...</td>\n",
       "      <td>0</td>\n",
       "    </tr>\n",
       "    <tr>\n",
       "      <th>1</th>\n",
       "      <td>0</td>\n",
       "      <td>Son, adalah satu siri televisyen Turki yang di...</td>\n",
       "      <td>0</td>\n",
       "    </tr>\n",
       "    <tr>\n",
       "      <th>2</th>\n",
       "      <td>0</td>\n",
       "      <td>Kanashiki Amefuri / Adam to Eve no Dilemma (悲し...</td>\n",
       "      <td>0</td>\n",
       "    </tr>\n",
       "    <tr>\n",
       "      <th>3</th>\n",
       "      <td>0</td>\n",
       "      <td>Bulakan merupakan sebuah Kelurahan yang terlet...</td>\n",
       "      <td>0</td>\n",
       "    </tr>\n",
       "    <tr>\n",
       "      <th>4</th>\n",
       "      <td>0</td>\n",
       "      <td>Cibeber merupakan sebuah desa yang terletak da...</td>\n",
       "      <td>0</td>\n",
       "    </tr>\n",
       "  </tbody>\n",
       "</table>\n",
       "</div>"
      ],
      "text/plain": [
       "   labels                                               text  length\n",
       "0       0  Senarai penyakit anjing ialah pilihan penyakit...       0\n",
       "1       0  Son, adalah satu siri televisyen Turki yang di...       0\n",
       "2       0  Kanashiki Amefuri / Adam to Eve no Dilemma (悲し...       0\n",
       "3       0  Bulakan merupakan sebuah Kelurahan yang terlet...       0\n",
       "4       0  Cibeber merupakan sebuah desa yang terletak da...       0"
      ]
     },
     "execution_count": 50,
     "metadata": {},
     "output_type": "execute_result"
    }
   ],
   "source": [
    "LANG_TEXT.head()"
   ]
  },
  {
   "cell_type": "code",
   "execution_count": 51,
   "metadata": {},
   "outputs": [],
   "source": [
    "LANG_TEXT[\"length\"] = LANG_TEXT[\"text\"].str.len()\n",
    "LANG_TEXT = LANG_TEXT.sort_values(by=[\"length\"], ascending=False)"
   ]
  },
  {
   "cell_type": "code",
   "execution_count": 52,
   "metadata": {},
   "outputs": [
    {
     "data": {
      "text/html": [
       "<div>\n",
       "<style scoped>\n",
       "    .dataframe tbody tr th:only-of-type {\n",
       "        vertical-align: middle;\n",
       "    }\n",
       "\n",
       "    .dataframe tbody tr th {\n",
       "        vertical-align: top;\n",
       "    }\n",
       "\n",
       "    .dataframe thead th {\n",
       "        text-align: right;\n",
       "    }\n",
       "</style>\n",
       "<table border=\"1\" class=\"dataframe\">\n",
       "  <thead>\n",
       "    <tr style=\"text-align: right;\">\n",
       "      <th></th>\n",
       "      <th>labels</th>\n",
       "      <th>text</th>\n",
       "      <th>length</th>\n",
       "    </tr>\n",
       "  </thead>\n",
       "  <tbody>\n",
       "    <tr>\n",
       "      <th>298556</th>\n",
       "      <td>0</td>\n",
       "      <td>Dalam agama Islam, Asmaul Husna () merupakan s...</td>\n",
       "      <td>200069.0</td>\n",
       "    </tr>\n",
       "    <tr>\n",
       "      <th>287674</th>\n",
       "      <td>0</td>\n",
       "      <td>Tasbih Cinta merupakan sebuah Drama lipur lara...</td>\n",
       "      <td>154934.0</td>\n",
       "    </tr>\n",
       "    <tr>\n",
       "      <th>289705</th>\n",
       "      <td>0</td>\n",
       "      <td>Ketuanan Melayu merupakan kontrak sosial yang ...</td>\n",
       "      <td>101706.0</td>\n",
       "    </tr>\n",
       "    <tr>\n",
       "      <th>315332</th>\n",
       "      <td>0</td>\n",
       "      <td>Dato' Sri Siti Nurhaliza binti Tarudin (Jawi: ...</td>\n",
       "      <td>98675.0</td>\n",
       "    </tr>\n",
       "    <tr>\n",
       "      <th>95126</th>\n",
       "      <td>0</td>\n",
       "      <td>Kebebasan beragama di Malaysia adalah tertaklu...</td>\n",
       "      <td>94949.0</td>\n",
       "    </tr>\n",
       "  </tbody>\n",
       "</table>\n",
       "</div>"
      ],
      "text/plain": [
       "        labels                                               text    length\n",
       "298556       0  Dalam agama Islam, Asmaul Husna () merupakan s...  200069.0\n",
       "287674       0  Tasbih Cinta merupakan sebuah Drama lipur lara...  154934.0\n",
       "289705       0  Ketuanan Melayu merupakan kontrak sosial yang ...  101706.0\n",
       "315332       0  Dato' Sri Siti Nurhaliza binti Tarudin (Jawi: ...   98675.0\n",
       "95126        0  Kebebasan beragama di Malaysia adalah tertaklu...   94949.0"
      ]
     },
     "execution_count": 52,
     "metadata": {},
     "output_type": "execute_result"
    }
   ],
   "source": [
    "LANG_TEXT.head()"
   ]
  },
  {
   "cell_type": "code",
   "execution_count": 53,
   "metadata": {},
   "outputs": [],
   "source": [
    "LANG_TEXT.to_csv(f\"{LM_PATH}/wiki_malay_corpus_sorted_by_len.csv\", index=False)"
   ]
  },
  {
   "cell_type": "code",
   "execution_count": 134,
   "metadata": {},
   "outputs": [],
   "source": [
    "LANG_TEXT = pd.read_csv(f\"{LM_PATH}/wiki_malay_corpus_sorted_by_len.csv\")"
   ]
  },
  {
   "cell_type": "code",
   "execution_count": 135,
   "metadata": {},
   "outputs": [
    {
     "data": {
      "text/plain": [
       "319374"
      ]
     },
     "execution_count": 135,
     "metadata": {},
     "output_type": "execute_result"
    }
   ],
   "source": [
    "len(LANG_TEXT)"
   ]
  },
  {
   "cell_type": "code",
   "execution_count": 136,
   "metadata": {},
   "outputs": [
    {
     "data": {
      "text/html": [
       "<div>\n",
       "<style scoped>\n",
       "    .dataframe tbody tr th:only-of-type {\n",
       "        vertical-align: middle;\n",
       "    }\n",
       "\n",
       "    .dataframe tbody tr th {\n",
       "        vertical-align: top;\n",
       "    }\n",
       "\n",
       "    .dataframe thead th {\n",
       "        text-align: right;\n",
       "    }\n",
       "</style>\n",
       "<table border=\"1\" class=\"dataframe\">\n",
       "  <thead>\n",
       "    <tr style=\"text-align: right;\">\n",
       "      <th></th>\n",
       "      <th>labels</th>\n",
       "      <th>text</th>\n",
       "      <th>length</th>\n",
       "    </tr>\n",
       "  </thead>\n",
       "  <tbody>\n",
       "    <tr>\n",
       "      <th>0</th>\n",
       "      <td>0</td>\n",
       "      <td>Dalam agama Islam, Asmaul Husna () merupakan s...</td>\n",
       "      <td>200069.0</td>\n",
       "    </tr>\n",
       "    <tr>\n",
       "      <th>1</th>\n",
       "      <td>0</td>\n",
       "      <td>Tasbih Cinta merupakan sebuah Drama lipur lara...</td>\n",
       "      <td>154934.0</td>\n",
       "    </tr>\n",
       "    <tr>\n",
       "      <th>2</th>\n",
       "      <td>0</td>\n",
       "      <td>Ketuanan Melayu merupakan kontrak sosial yang ...</td>\n",
       "      <td>101706.0</td>\n",
       "    </tr>\n",
       "    <tr>\n",
       "      <th>3</th>\n",
       "      <td>0</td>\n",
       "      <td>Dato' Sri Siti Nurhaliza binti Tarudin (Jawi: ...</td>\n",
       "      <td>98675.0</td>\n",
       "    </tr>\n",
       "    <tr>\n",
       "      <th>4</th>\n",
       "      <td>0</td>\n",
       "      <td>Kebebasan beragama di Malaysia adalah tertaklu...</td>\n",
       "      <td>94949.0</td>\n",
       "    </tr>\n",
       "  </tbody>\n",
       "</table>\n",
       "</div>"
      ],
      "text/plain": [
       "   labels                                               text    length\n",
       "0       0  Dalam agama Islam, Asmaul Husna () merupakan s...  200069.0\n",
       "1       0  Tasbih Cinta merupakan sebuah Drama lipur lara...  154934.0\n",
       "2       0  Ketuanan Melayu merupakan kontrak sosial yang ...  101706.0\n",
       "3       0  Dato' Sri Siti Nurhaliza binti Tarudin (Jawi: ...   98675.0\n",
       "4       0  Kebebasan beragama di Malaysia adalah tertaklu...   94949.0"
      ]
     },
     "execution_count": 136,
     "metadata": {},
     "output_type": "execute_result"
    }
   ],
   "source": [
    "LANG_TEXT.head()"
   ]
  },
  {
   "cell_type": "code",
   "execution_count": 137,
   "metadata": {},
   "outputs": [],
   "source": [
    "LANG_TEXT = LANG_TEXT[LANG_TEXT['length'] > 10]"
   ]
  },
  {
   "cell_type": "code",
   "execution_count": 138,
   "metadata": {},
   "outputs": [],
   "source": [
    "LANG_TEXT = LANG_TEXT.iloc[0:1000000]"
   ]
  },
  {
   "cell_type": "code",
   "execution_count": 139,
   "metadata": {},
   "outputs": [
    {
     "data": {
      "text/plain": [
       "316081"
      ]
     },
     "execution_count": 139,
     "metadata": {},
     "output_type": "execute_result"
    }
   ],
   "source": [
    "len(LANG_TEXT)"
   ]
  },
  {
   "cell_type": "markdown",
   "metadata": {},
   "source": [
    "# Some statistics of Malay Wikipedia"
   ]
  },
  {
   "cell_type": "markdown",
   "metadata": {},
   "source": [
    "### Number of documents"
   ]
  },
  {
   "cell_type": "code",
   "execution_count": 140,
   "metadata": {},
   "outputs": [
    {
     "name": "stdout",
     "output_type": "stream",
     "text": [
      "0    Dalam agama Islam, Asmaul Husna () merupakan s...\n",
      "1    Tasbih Cinta merupakan sebuah Drama lipur lara...\n",
      "2    Ketuanan Melayu merupakan kontrak sosial yang ...\n",
      "3    Dato' Sri Siti Nurhaliza binti Tarudin (Jawi: ...\n",
      "4    Kebebasan beragama di Malaysia adalah tertaklu...\n",
      "5    England sudah dihuni manusia sejak lebih darip...\n",
      "6    Perang Bosnia merupakan sebuah konflik bersenj...\n",
      "7    Masakan Zaman Pertengahan termasuk makanan, ta...\n",
      "8    Perang Vietnam, ada kalinya disebut juga \"Pera...\n",
      "9    Operasi Market-Garden adalah satu operasi sera...\n",
      "Name: text, dtype: object\n"
     ]
    },
    {
     "data": {
      "text/plain": [
       "(316081, 3)"
      ]
     },
     "execution_count": 140,
     "metadata": {},
     "output_type": "execute_result"
    }
   ],
   "source": [
    "print(LANG_TEXT[\"text\"][:10])\n",
    "LANG_TEXT.shape"
   ]
  },
  {
   "cell_type": "markdown",
   "metadata": {},
   "source": [
    "### Number of words in all the documents"
   ]
  },
  {
   "cell_type": "code",
   "execution_count": 141,
   "metadata": {},
   "outputs": [
    {
     "data": {
      "text/plain": [
       "26509826"
      ]
     },
     "execution_count": 141,
     "metadata": {},
     "output_type": "execute_result"
    }
   ],
   "source": [
    "LANG_TEXT[\"text\"].apply(lambda x: len(x.split(\" \"))).sum()"
   ]
  },
  {
   "cell_type": "markdown",
   "metadata": {},
   "source": [
    "### Number of unique tokens across documents"
   ]
  },
  {
   "cell_type": "code",
   "execution_count": 142,
   "metadata": {},
   "outputs": [
    {
     "data": {
      "text/plain": [
       "1742401"
      ]
     },
     "execution_count": 142,
     "metadata": {},
     "output_type": "execute_result"
    }
   ],
   "source": [
    "len(set(\"\".join(LANG_TEXT[\"text\"].values).split(\" \")))"
   ]
  },
  {
   "cell_type": "markdown",
   "metadata": {},
   "source": [
    "## Text processing"
   ]
  },
  {
   "cell_type": "markdown",
   "metadata": {},
   "source": [
    "We perform the following minimal text processing:\n",
    "\n",
    "- Remove html tags\n",
    "- The token `xbos` is used to note start of a text since we will be chaining them together for the language model training."
   ]
  },
  {
   "cell_type": "markdown",
   "metadata": {},
   "source": [
    "### Clean plain text"
   ]
  },
  {
   "cell_type": "code",
   "execution_count": 155,
   "metadata": {},
   "outputs": [],
   "source": [
    "re1 = re.compile(r'  +')\n",
    "\n",
    "def fixup(x):\n",
    "    x = x.replace('#39;', \"'\").replace('amp;', '&').replace('#146;', \"'\").replace(\n",
    "        'nbsp;', ' ').replace('#36;', '$').replace('\\\\n', \"\\n\").replace('quot;', \"'\").replace(\n",
    "        '<br />', \"\\n\").replace('\\\\\"', '\"').replace('<unk>','u_n').replace(' @.@ ','.').replace(\n",
    "        ' @-@ ','-').replace('\\\\', ' \\\\ ')\n",
    "    return re1.sub(' ', html.unescape(x))"
   ]
  },
  {
   "cell_type": "markdown",
   "metadata": {},
   "source": [
    "### Tokenize"
   ]
  },
  {
   "cell_type": "code",
   "execution_count": 156,
   "metadata": {},
   "outputs": [],
   "source": [
    "def get_texts(df, n_lbls=1):\n",
    "    labels = df.iloc[:, range(n_lbls)].values.astype(np.int64)\n",
    "    texts = f\"\\n{BOS} {FLD} 1 \" + df[n_lbls].astype(str)\n",
    "    for i in range(n_lbls + 1, len(df.columns)):\n",
    "        texts += f\" {FLD} {i-n_lbls} \" + df[i].astype(str)\n",
    "    texts = texts.apply(fixup).values.astype(str)\n",
    "\n",
    "    tok = Tokenizer().proc_all_mp(partition_by_cores(texts)) # splits the list into sublists for processing by each core\n",
    "    # Lower and upper case is inside the tokenizer\n",
    "    return tok, list(labels)\n",
    "\n",
    "def get_all(df, n_lbls):\n",
    "    tok, labels = [], []\n",
    "    for i, r in enumerate(df):\n",
    "        print(i)\n",
    "        #pdb.set_trace()\n",
    "        tok_, labels_ = get_texts(r, n_lbls)\n",
    "        tok += tok_;\n",
    "        labels += labels_\n",
    "    return tok, labels"
   ]
  },
  {
   "cell_type": "markdown",
   "metadata": {},
   "source": [
    "## Create validation set"
   ]
  },
  {
   "cell_type": "code",
   "execution_count": 145,
   "metadata": {},
   "outputs": [],
   "source": [
    "# Split the data into train and validation sets\n",
    "# Splitting 10% for validation.\n",
    "trn_texts, val_texts = sklearn.model_selection.train_test_split(LANG_TEXT, test_size=0.1)"
   ]
  },
  {
   "cell_type": "code",
   "execution_count": 166,
   "metadata": {},
   "outputs": [
    {
     "data": {
      "text/plain": [
       "(284472, 31609)"
      ]
     },
     "execution_count": 166,
     "metadata": {},
     "output_type": "execute_result"
    }
   ],
   "source": [
    "len(trn_texts), len(val_texts)"
   ]
  },
  {
   "cell_type": "code",
   "execution_count": 149,
   "metadata": {},
   "outputs": [],
   "source": [
    "np.random.seed(42)\n",
    "\n",
    "trn_idx = np.random.permutation(len(trn_texts)) # generate a random ordering\n",
    "val_idx = np.random.permutation(len(val_texts))\n",
    "\n",
    "df_trn = trn_texts.iloc[trn_idx, :] # sort things randomly\n",
    "df_val = val_texts.iloc[val_idx, :] # sort things randomly\n",
    "\n",
    "df_trn.columns = [\"labels\", \"text\", \"length\"]\n",
    "df_val.columns = [\"labels\", \"text\", \"length\"]\n",
    "\n",
    "df_trn.to_csv(LM_PATH / \"train.csv\", header=False, index=False)\n",
    "df_val.to_csv(LM_PATH / \"test.csv\", header=False, index=False) # saving the data in our new format to disk"
   ]
  },
  {
   "cell_type": "code",
   "execution_count": 150,
   "metadata": {},
   "outputs": [],
   "source": [
    "chunksize = 10000\n",
    "df_trn = pd.read_csv(LM_PATH / \"train.csv\", header=None, chunksize=chunksize)\n",
    "df_val = pd.read_csv(LM_PATH / \"test.csv\", header=None, chunksize=chunksize)"
   ]
  },
  {
   "cell_type": "markdown",
   "metadata": {},
   "source": [
    "## Data Preparation"
   ]
  },
  {
   "cell_type": "markdown",
   "metadata": {},
   "source": [
    "We write a simple custom function to perform tokenization. Out of 24,911,449 tokens from all of training set, we chose 60,000 for the vocabulary size (plus one for unknown and another for padding) of tokens which are not rare words (appeared more than twice and not typos) in the training set."
   ]
  },
  {
   "cell_type": "code",
   "execution_count": 158,
   "metadata": {
    "collapsed": true
   },
   "outputs": [
    {
     "name": "stdout",
     "output_type": "stream",
     "text": [
      "0\n",
      "1\n",
      "2\n",
      "3\n",
      "4\n",
      "5\n",
      "6\n",
      "7\n",
      "8\n",
      "9\n",
      "10\n",
      "11\n",
      "12\n",
      "13\n",
      "14\n",
      "15\n",
      "16\n",
      "17\n",
      "18\n",
      "19\n",
      "20\n",
      "21\n",
      "22\n",
      "0\n",
      "1\n",
      "2\n",
      "3\n"
     ]
    }
   ],
   "source": [
    "# Finally, tokenize text data\n",
    "tok_trn, trn_labels = get_all(df_trn, 1)\n",
    "tok_val, val_labels = get_all(df_val, 1)"
   ]
  },
  {
   "cell_type": "markdown",
   "metadata": {},
   "source": [
    "### Data loader"
   ]
  },
  {
   "cell_type": "code",
   "execution_count": 159,
   "metadata": {},
   "outputs": [],
   "source": [
    "# Create a tmp directory to store the upcoming numpy arrays\n",
    "(LM_PATH / \"tmp\").mkdir(exist_ok=True)\n",
    "\n",
    "# Save the train and validation tokens in the tmp directories\n",
    "np.save(LM_PATH / \"tmp\" / \"tok_trn.npy\", tok_trn)\n",
    "np.save(LM_PATH / \"tmp\" / \"tok_val.npy\", tok_val)"
   ]
  },
  {
   "cell_type": "code",
   "execution_count": 160,
   "metadata": {},
   "outputs": [],
   "source": [
    "tok_trn = np.load(LM_PATH / \"tmp\" / \"tok_trn.npy\")\n",
    "tok_val = np.load(LM_PATH / \"tmp\" / \"tok_val.npy\")"
   ]
  },
  {
   "cell_type": "code",
   "execution_count": 161,
   "metadata": {},
   "outputs": [
    {
     "data": {
      "text/plain": [
       "array([list(['\\n', 'xbos', 'xfld', '1', 'gräfenhainichen', 'merupakan', 'sebuah', 'bandar', 'terletak', 'di', 'daerah', 'wittenberg', ',', 'saxony', '-', 'anhalt', ',', 'jerman', '.', '\\n ', 'xfld', '1', '94.0']),\n",
       "       list(['\\n', 'xbos', 'xfld', '1', '19', 'merupakan', 'tahun', 'biasa', 'yang', 'bermula', 'pada', 'hari', 'ahad', 'dalam', 'kalendar', 'gregory', '.', '\\n', '<', 'br', 'clear', '=', 'all', '>', '\\n ', 'xfld', '1', '92.0'])],\n",
       "      dtype=object)"
      ]
     },
     "execution_count": 161,
     "metadata": {},
     "output_type": "execute_result"
    }
   ],
   "source": [
    "# Sanity check: get the first 2 train tokens\n",
    "tok_trn[:2]"
   ]
  },
  {
   "cell_type": "code",
   "execution_count": 162,
   "metadata": {},
   "outputs": [
    {
     "data": {
      "text/html": [
       "<div>\n",
       "<style scoped>\n",
       "    .dataframe tbody tr th:only-of-type {\n",
       "        vertical-align: middle;\n",
       "    }\n",
       "\n",
       "    .dataframe tbody tr th {\n",
       "        vertical-align: top;\n",
       "    }\n",
       "\n",
       "    .dataframe thead th {\n",
       "        text-align: right;\n",
       "    }\n",
       "</style>\n",
       "<table border=\"1\" class=\"dataframe\">\n",
       "  <thead>\n",
       "    <tr style=\"text-align: right;\">\n",
       "      <th></th>\n",
       "      <th>0</th>\n",
       "    </tr>\n",
       "  </thead>\n",
       "  <tbody>\n",
       "    <tr>\n",
       "      <th>,</th>\n",
       "      <td>1102901</td>\n",
       "    </tr>\n",
       "    <tr>\n",
       "      <th>.</th>\n",
       "      <td>999701</td>\n",
       "    </tr>\n",
       "    <tr>\n",
       "      <th>yang</th>\n",
       "      <td>548167</td>\n",
       "    </tr>\n",
       "    <tr>\n",
       "      <th>di</th>\n",
       "      <td>532424</td>\n",
       "    </tr>\n",
       "    <tr>\n",
       "      <th>dan</th>\n",
       "      <td>509869</td>\n",
       "    </tr>\n",
       "    <tr>\n",
       "      <th>1</th>\n",
       "      <td>465667</td>\n",
       "    </tr>\n",
       "    <tr>\n",
       "      <th>xfld</th>\n",
       "      <td>448944</td>\n",
       "    </tr>\n",
       "    <tr>\n",
       "      <th>\\n</th>\n",
       "      <td>403986</td>\n",
       "    </tr>\n",
       "    <tr>\n",
       "      <th>\"</th>\n",
       "      <td>378261</td>\n",
       "    </tr>\n",
       "    <tr>\n",
       "      <th>-</th>\n",
       "      <td>355521</td>\n",
       "    </tr>\n",
       "    <tr>\n",
       "      <th>pada</th>\n",
       "      <td>232686</td>\n",
       "    </tr>\n",
       "    <tr>\n",
       "      <th>xbos</th>\n",
       "      <td>224472</td>\n",
       "    </tr>\n",
       "    <tr>\n",
       "      <th>dalam</th>\n",
       "      <td>210035</td>\n",
       "    </tr>\n",
       "    <tr>\n",
       "      <th>(</th>\n",
       "      <td>202054</td>\n",
       "    </tr>\n",
       "    <tr>\n",
       "      <th>)</th>\n",
       "      <td>195057</td>\n",
       "    </tr>\n",
       "    <tr>\n",
       "      <th>merupakan</th>\n",
       "      <td>189399</td>\n",
       "    </tr>\n",
       "    <tr>\n",
       "      <th>t_up</th>\n",
       "      <td>188865</td>\n",
       "    </tr>\n",
       "    <tr>\n",
       "      <th>sebuah</th>\n",
       "      <td>184610</td>\n",
       "    </tr>\n",
       "    <tr>\n",
       "      <th>dengan</th>\n",
       "      <td>174237</td>\n",
       "    </tr>\n",
       "    <tr>\n",
       "      <th>untuk</th>\n",
       "      <td>151121</td>\n",
       "    </tr>\n",
       "    <tr>\n",
       "      <th>ini</th>\n",
       "      <td>145098</td>\n",
       "    </tr>\n",
       "    <tr>\n",
       "      <th>terletak</th>\n",
       "      <td>138483</td>\n",
       "    </tr>\n",
       "    <tr>\n",
       "      <th>\\n</th>\n",
       "      <td>134853</td>\n",
       "    </tr>\n",
       "    <tr>\n",
       "      <th>tahun</th>\n",
       "      <td>115035</td>\n",
       "    </tr>\n",
       "    <tr>\n",
       "      <th>dari</th>\n",
       "      <td>110815</td>\n",
       "    </tr>\n",
       "  </tbody>\n",
       "</table>\n",
       "</div>"
      ],
      "text/plain": [
       "                 0\n",
       ",          1102901\n",
       ".           999701\n",
       "yang        548167\n",
       "di          532424\n",
       "dan         509869\n",
       "1           465667\n",
       "xfld        448944\n",
       "\\n          403986\n",
       "\"           378261\n",
       "-           355521\n",
       "pada        232686\n",
       "xbos        224472\n",
       "dalam       210035\n",
       "(           202054\n",
       ")           195057\n",
       "merupakan   189399\n",
       "t_up        188865\n",
       "sebuah      184610\n",
       "dengan      174237\n",
       "untuk       151121\n",
       "ini         145098\n",
       "terletak    138483\n",
       "\\n          134853\n",
       "tahun       115035\n",
       "dari        110815"
      ]
     },
     "execution_count": 162,
     "metadata": {},
     "output_type": "execute_result"
    }
   ],
   "source": [
    "# Get the Counter object from all the splitted files.\n",
    "# Identify the most common tokens\n",
    "freq = Counter(p for o in tok_trn for p in o) \n",
    "freqs = pd.DataFrame.from_dict(freq, orient=\"index\")\n",
    "freqs.sort_values(0, ascending=False).head(25)"
   ]
  },
  {
   "cell_type": "code",
   "execution_count": 163,
   "metadata": {},
   "outputs": [
    {
     "data": {
      "text/plain": [
       "24911449"
      ]
     },
     "execution_count": 163,
     "metadata": {},
     "output_type": "execute_result"
    }
   ],
   "source": [
    "# Sanity check\n",
    "len([p for o in tok_trn for p in o])"
   ]
  },
  {
   "cell_type": "code",
   "execution_count": 164,
   "metadata": {},
   "outputs": [],
   "source": [
    "cnt = []\n",
    "for i in range(49):\n",
    "    row_cnt = freqs[freqs[0]>=i+1].shape[0]\n",
    "    cnt.append(row_cnt)"
   ]
  },
  {
   "cell_type": "code",
   "execution_count": 165,
   "metadata": {},
   "outputs": [
    {
     "data": {
      "text/plain": [
       "<matplotlib.lines.Line2D at 0x7f24d52484e0>"
      ]
     },
     "execution_count": 165,
     "metadata": {},
     "output_type": "execute_result"
    },
    {
     "data": {
      "image/png": "[encoded data removed]",
      "text/plain": [
       "<Figure size 432x288 with 1 Axes>"
      ]
     },
     "metadata": {},
     "output_type": "display_data"
    }
   ],
   "source": [
    "plt.plot(cnt)\n",
    "plt.axvline(x=2, color=\"red\", linestyle=\"--\")"
   ]
  },
  {
   "cell_type": "markdown",
   "metadata": {},
   "source": [
    " ## Numericalize the text"
   ]
  },
  {
   "cell_type": "markdown",
   "metadata": {},
   "source": [
    "We trained the language model based on 224,472 texts and validated on 31,609 texts from Malay Wikipedia using various tricks detailed in the [ULMFiT paper](https://arxiv.org/abs/1801.06146). The validation perplexity is 29.30245."
   ]
  },
  {
   "cell_type": "code",
   "execution_count": 167,
   "metadata": {},
   "outputs": [],
   "source": [
    "# Truncating our vocab to ignore the rare words\n",
    "max_vocab = 60000\n",
    "min_freq = 5"
   ]
  },
  {
   "cell_type": "code",
   "execution_count": 168,
   "metadata": {},
   "outputs": [],
   "source": [
    "itos = [o for o, c in freq.most_common(max_vocab) if c > min_freq] # getting rid of the rare words\n",
    "itos.insert(0, \"_pad_\")\n",
    "itos.insert(0, \"_unk_\") # itos is the list of all the strings in the vocab"
   ]
  },
  {
   "cell_type": "code",
   "execution_count": 169,
   "metadata": {},
   "outputs": [
    {
     "data": {
      "text/plain": [
       "60002"
      ]
     },
     "execution_count": 169,
     "metadata": {},
     "output_type": "execute_result"
    }
   ],
   "source": [
    "# Creating a index-key dictionary for our vocabulary\n",
    "stoi = collections.defaultdict(lambda: 0, {v:k for k, v in enumerate(itos)})\n",
    "len(itos)"
   ]
  },
  {
   "cell_type": "code",
   "execution_count": 170,
   "metadata": {},
   "outputs": [],
   "source": [
    "# Creating a index representation for our train and validation dataset\n",
    "trn_lm = np.array([[stoi[o] for o in p] for p in tok_trn])\n",
    "val_lm = np.array([[stoi[o] for o in p] for p in tok_val])"
   ]
  },
  {
   "cell_type": "code",
   "execution_count": 171,
   "metadata": {},
   "outputs": [],
   "source": [
    "# Saving our indexed representation of our dataset to disk.\n",
    "# We also save the index-word mapping to retrieve the complete text representation from these numpy arrays\n",
    "np.save(LM_PATH / \"tmp\" / \"trn_ids.npy\", trn_lm)\n",
    "np.save(LM_PATH / \"tmp\" / \"val_ids.npy\", val_lm)\n",
    "pickle.dump(itos, open(LM_PATH / \"tmp\" / \"itos.pkl\", \"wb\"))"
   ]
  },
  {
   "cell_type": "code",
   "execution_count": 9,
   "metadata": {},
   "outputs": [],
   "source": [
    "# Loading the indexed representation of our dataset from disk.\n",
    "# We also load the index-word mapping to to help us convert the indexes to word datasets, if need be.\n",
    "trn_lm = np.load(LM_PATH / \"tmp\" / \"trn_ids.npy\")\n",
    "val_lm = np.load(LM_PATH / \"tmp\" / \"val_ids.npy\")\n",
    "itos = pickle.load(open(LM_PATH / \"tmp\" / \"itos.pkl\", \"rb\"))"
   ]
  },
  {
   "cell_type": "code",
   "execution_count": 10,
   "metadata": {},
   "outputs": [
    {
     "data": {
      "text/plain": [
       "(60002, 224472, 31609)"
      ]
     },
     "execution_count": 10,
     "metadata": {},
     "output_type": "execute_result"
    }
   ],
   "source": [
    "# Check vocabulary size\n",
    "vocab_size = len(itos)\n",
    "trn_set_size = len(trn_lm)\n",
    "val_set_size = len(val_lm)\n",
    "vocab_size, trn_set_size, val_set_size"
   ]
  },
  {
   "cell_type": "code",
   "execution_count": 11,
   "metadata": {},
   "outputs": [
    {
     "data": {
      "text/plain": [
       "array([list([9, 13, 8, 7, 0, 17, 19, 58, 23, 5, 43, 33863, 2, 3841, 11, 7682, 2, 146, 3, 24, 8, 7, 1675]),\n",
       "       list([9, 13, 8, 7, 700, 17, 25, 298, 4, 225, 12, 119, 2533, 14, 978, 1386, 3, 9, 687, 1835, 2184, 669, 1215, 648, 24, 8, 7, 1587])],\n",
       "      dtype=object)"
      ]
     },
     "execution_count": 11,
     "metadata": {},
     "output_type": "execute_result"
    }
   ],
   "source": [
    "# Sanity check\n",
    "trn_lm[:2]"
   ]
  },
  {
   "cell_type": "markdown",
   "metadata": {},
   "source": [
    "# Model Setup"
   ]
  },
  {
   "cell_type": "code",
   "execution_count": 174,
   "metadata": {},
   "outputs": [],
   "source": [
    "# We train from scratch, so these are unused\n",
    "\n",
    "# ! wget -nH -r -np http://files.fast.ai/models/wt103/\n",
    "# mv models/ {LM_PATH}\n",
    "\n",
    "# PRE_PATH = LM_PATH / \"models\" / \"wt103\"\n",
    "# PRE_LM_PATH = PRE_PATH / \"fwd_wt103.h5\"\n",
    "\n",
    "# itos2 = pickle.load((PRE_PATH/'itos_wt103.pkl').open('rb')) # mapping the itos from wiki to our own mapping\n",
    "# stoi2 = collections.defaultdict(lambda:-1, {v:k for k,v in enumerate(itos2)})\n",
    "\n",
    "# wgts = torch.load(PRE_LM_PATH, map_location=lambda storage, loc: storage)\n",
    "# enc_wgts = to_np(wgts['0.encoder.weight'])\n",
    "# row_m = enc_wgts.mean(0)\n",
    "# wgts['0.encoder.weight'] = T(new_w)\n",
    "# wgts['0.encoder_with_dropout.embed.weight'] = T(np.copy(new_w))\n",
    "# wgts['1.decoder.weight'] = T(np.copy(new_w))"
   ]
  },
  {
   "cell_type": "markdown",
   "metadata": {},
   "source": [
    "## Language Model"
   ]
  },
  {
   "cell_type": "code",
   "execution_count": 25,
   "metadata": {},
   "outputs": [],
   "source": [
    "em_sz = 400  # size of each embedding vector\n",
    "nh = 1150    # number of hidden activations per layer\n",
    "nl = 3       # number of layers\n",
    "\n",
    "wd = 1e-7\n",
    "bptt = 70\n",
    "bs = 64\n",
    "# opt_fn = partial(optim.Adam, betas=(0.8, 0.99))\n",
    "opt_fn = partial(optim.SGD, momentum=0.9)\n",
    "weight_factor = 0.3"
   ]
  },
  {
   "cell_type": "code",
   "execution_count": 26,
   "metadata": {},
   "outputs": [],
   "source": [
    "# if you're overfitting, increase this. Underfitting? decrease this.\n",
    "drops = np.array([0.25, 0.1, 0.2, 0.02, 0.15]) * weight_factor"
   ]
  },
  {
   "cell_type": "code",
   "execution_count": 27,
   "metadata": {},
   "outputs": [
    {
     "name": "stdout",
     "output_type": "stream",
     "text": [
      "CPU times: user 0 ns, sys: 0 ns, total: 0 ns\n",
      "Wall time: 6.44 µs\n"
     ]
    }
   ],
   "source": [
    "%time\n",
    "trn_dl = LanguageModelLoader(np.concatenate(trn_lm), bs, bptt)\n",
    "val_dl = LanguageModelLoader(np.concatenate(val_lm), bs, bptt)\n",
    "md = LanguageModelData(DATA_PATH, pad_idx=1, n_tok=vocab_size, trn_dl=trn_dl, val_dl=val_dl, bs=bs, bptt=bptt)"
   ]
  },
  {
   "cell_type": "code",
   "execution_count": 28,
   "metadata": {},
   "outputs": [],
   "source": [
    "learner= md.get_model(opt_fn, em_sz, nh, nl, \n",
    "    dropouti=drops[0], dropout=drops[1], wdrop=drops[2], dropoute=drops[3], dropouth=drops[4])\n",
    "\n",
    "learner.metrics = [accuracy]\n",
    "learner.clip = 0.2\n",
    "learner.unfreeze()"
   ]
  },
  {
   "cell_type": "code",
   "execution_count": 42,
   "metadata": {
    "collapsed": true
   },
   "outputs": [
    {
     "data": {
      "text/plain": [
       "<bound method Learner.summary of SequentialRNN(\n",
       "  (0): RNN_Encoder(\n",
       "    (encoder): Embedding(60002, 400, padding_idx=1)\n",
       "    (encoder_with_dropout): EmbeddingDropout(\n",
       "      (embed): Embedding(60002, 400, padding_idx=1)\n",
       "    )\n",
       "    (rnns): ModuleList(\n",
       "      (0): WeightDrop(\n",
       "        (module): LSTM(400, 1150)\n",
       "      )\n",
       "      (1): WeightDrop(\n",
       "        (module): LSTM(1150, 1150)\n",
       "      )\n",
       "      (2): WeightDrop(\n",
       "        (module): LSTM(1150, 400)\n",
       "      )\n",
       "    )\n",
       "    (dropouti): LockedDropout(\n",
       "    )\n",
       "    (dropouths): ModuleList(\n",
       "      (0): LockedDropout(\n",
       "      )\n",
       "      (1): LockedDropout(\n",
       "      )\n",
       "      (2): LockedDropout(\n",
       "      )\n",
       "    )\n",
       "  )\n",
       "  (1): LinearDecoder(\n",
       "    (decoder): Linear(in_features=400, out_features=60002, bias=False)\n",
       "    (dropout): LockedDropout(\n",
       "    )\n",
       "  )\n",
       ")>"
      ]
     },
     "execution_count": 42,
     "metadata": {},
     "output_type": "execute_result"
    }
   ],
   "source": [
    "# AWD-LSTM network\n",
    "learner.summary"
   ]
  },
  {
   "cell_type": "markdown",
   "metadata": {},
   "source": [
    "### Train"
   ]
  },
  {
   "cell_type": "markdown",
   "metadata": {},
   "source": [
    "**Hyper-parameter search**\n",
    "\n",
    "Properly setting the hyper-parameters of a neural network can be challenging, thankfully, there are some technique that can help.\n",
    "\n",
    "We will speed up training using Leslie Smith's work on 1cycle policy that he described the [super-convergence] phenomenon in this [paper](https://arxiv.org/abs/1708.07120). Here's an [application of super-convergence to win the DAWNBench challenge](http://www.fast.ai/2018/04/30/dawnbench-fastai/).\n",
    "\n",
    "Based on my own experiments with this method previously, the AWS-LSTM model converged faster, instead of 15 epochs, now it takes just 10 epochs.\n",
    "\n",
    "We will be using an [implementation of this method](http://forums.fast.ai/t/the-1cycle-policy-an-experiment-that-investigate-super-convergence-phenomenon-described-in-leslie-smiths-research/14737):\n",
    "- A simple guide on how to use 1cycle policy [Cyclical Learning Rate (CLR)](http://forums.fast.ai/t/using-use-clr-beta-and-new-plotting-tools/14702)\n",
    "- Some [tips on super-convergence(ish) on WikiText-2](http://forums.fast.ai/t/super-convergence-ish-on-wikitext-2/17091), a similar LM task like ours."
   ]
  },
  {
   "cell_type": "code",
   "execution_count": 18,
   "metadata": {},
   "outputs": [
    {
     "data": {
      "application/vnd.jupyter.widget-view+json": {
       "model_id": "ec21c7f8b3654333a6ed135a80eedc15",
       "version_major": 2,
       "version_minor": 0
      },
      "text/plain": [
       "HBox(children=(IntProgress(value=0, description='Epoch', max=1), HTML(value='')))"
      ]
     },
     "metadata": {},
     "output_type": "display_data"
    },
    {
     "name": "stdout",
     "output_type": "stream",
     "text": [
      "  9%|▉         | 500/5559 [09:32<1:32:51,  1.10s/it, loss=7.94]"
     ]
    }
   ],
   "source": [
    "# Find learning rate\n",
    "learner.lr_find2(num_it=500)"
   ]
  },
  {
   "cell_type": "code",
   "execution_count": 23,
   "metadata": {},
   "outputs": [
    {
     "data": {
      "image/png": "[encoded data removed]",
      "text/plain": [
       "<Figure size 432x864 with 3 Axes>"
      ]
     },
     "metadata": {},
     "output_type": "display_data"
    }
   ],
   "source": [
    "learner.sched.plot()"
   ]
  },
  {
   "cell_type": "code",
   "execution_count": 29,
   "metadata": {},
   "outputs": [],
   "source": [
    "# Set learning rate\n",
    "lr = 8"
   ]
  },
  {
   "cell_type": "code",
   "execution_count": 30,
   "metadata": {},
   "outputs": [
    {
     "data": {
      "application/vnd.jupyter.widget-view+json": {
       "model_id": "4f505918b0b34cb18bb9bbefb96e4d3d",
       "version_major": 2,
       "version_minor": 0
      },
      "text/plain": [
       "HBox(children=(IntProgress(value=0, description='Epoch', max=10), HTML(value='')))"
      ]
     },
     "metadata": {},
     "output_type": "display_data"
    },
    {
     "name": "stdout",
     "output_type": "stream",
     "text": [
      "epoch      trn_loss   val_loss   accuracy                       \n",
      "    0      4.114716   3.936571   0.367859  \n",
      "    1      3.83864    3.711561   0.382893                       \n",
      "    2      3.669321   3.603781   0.391633                       \n",
      "    3      3.63252    3.560706   0.394518                       \n",
      "    4      3.478959   3.513905   0.399009                       \n",
      "    5      3.518267   3.480469   0.401523                       \n",
      "    6      3.409158   3.465206   0.402808                       \n",
      "    7      3.426483   3.437133   0.405097                       \n",
      "    8      3.296175   3.409095   0.409595                       \n",
      "    9      3.185208   3.377671   0.413643                       \n"
     ]
    },
    {
     "data": {
      "text/plain": [
       "[array([3.37767]), 0.41364255045710613]"
      ]
     },
     "execution_count": 30,
     "metadata": {},
     "output_type": "execute_result"
    }
   ],
   "source": [
    "learner.fit(lr, 1, wds=wd, cycle_len=10, use_clr=(10,33,0.95,0.85), best_save_name='best_lm_malay_1cycle')"
   ]
  },
  {
   "cell_type": "markdown",
   "metadata": {},
   "source": [
    "Visualize loss history and learning rate history"
   ]
  },
  {
   "cell_type": "code",
   "execution_count": 35,
   "metadata": {},
   "outputs": [
    {
     "data": {
      "image/png": "[encoded data removed]",
      "text/plain": [
       "<Figure size 432x288 with 1 Axes>"
      ]
     },
     "metadata": {},
     "output_type": "display_data"
    }
   ],
   "source": [
    "learner.sched.plot_loss()"
   ]
  },
  {
   "cell_type": "code",
   "execution_count": 36,
   "metadata": {},
   "outputs": [
    {
     "data": {
      "image/png": "[encoded data removed]",
      "text/plain": [
       "<Figure size 864x288 with 2 Axes>"
      ]
     },
     "metadata": {},
     "output_type": "display_data"
    }
   ],
   "source": [
    "learner.sched.plot_lr()"
   ]
  },
  {
   "cell_type": "markdown",
   "metadata": {},
   "source": [
    "#### Save weights"
   ]
  },
  {
   "cell_type": "code",
   "execution_count": 33,
   "metadata": {},
   "outputs": [],
   "source": [
    "learner.save('lm_malay_final')"
   ]
  },
  {
   "cell_type": "code",
   "execution_count": 34,
   "metadata": {},
   "outputs": [],
   "source": [
    "learner.save_encoder('lm_malay_enc_final')"
   ]
  },
  {
   "cell_type": "markdown",
   "metadata": {},
   "source": [
    "#### Results"
   ]
  },
  {
   "cell_type": "markdown",
   "metadata": {},
   "source": [
    "Let's see how our model did. Losses after 10 epochs:\n",
    "- Training: 3.185208\n",
    "- Validation: **3.377671**"
   ]
  },
  {
   "cell_type": "code",
   "execution_count": 32,
   "metadata": {},
   "outputs": [
    {
     "data": {
      "text/plain": [
       "29.30244618263257"
      ]
     },
     "execution_count": 32,
     "metadata": {},
     "output_type": "execute_result"
    }
   ],
   "source": [
    "np.exp(3.377671)"
   ]
  },
  {
   "cell_type": "markdown",
   "metadata": {},
   "source": [
    "**Analysis**:\n",
    "\n",
    "The **perplexity** of this language model after 10 epochs is **29.30245**.\n",
    "\n",
    "It took me ~1 hour 24 minutes (5016.09s) to train 1 epoch on one Tesla K80 GPU, roughly 1.1 iteration/s. The full training took me ~14 hours."
   ]
  },
  {
   "cell_type": "markdown",
   "metadata": {},
   "source": [
    "## Evaluate"
   ]
  },
  {
   "cell_type": "markdown",
   "metadata": {},
   "source": [
    "### Generate text using the model"
   ]
  },
  {
   "cell_type": "markdown",
   "metadata": {},
   "source": [
    "We perform eyeballing test by having the model \"fill in the blanks\"."
   ]
  },
  {
   "cell_type": "code",
   "execution_count": 38,
   "metadata": {},
   "outputs": [],
   "source": [
    "# Load model from saved weights\n",
    "learner.load('lm_malay_final')"
   ]
  },
  {
   "cell_type": "code",
   "execution_count": 39,
   "metadata": {},
   "outputs": [],
   "source": [
    "m = learner.model # initialized model\n",
    "m.eval() # ensure you switch your model to inference mode\n",
    "m[0].bs = 1 # set batch size to 1"
   ]
  },
  {
   "cell_type": "code",
   "execution_count": 43,
   "metadata": {},
   "outputs": [
    {
     "data": {
      "text/plain": [
       "60002"
      ]
     },
     "execution_count": 43,
     "metadata": {},
     "output_type": "execute_result"
    }
   ],
   "source": [
    "# Load the index-word mapping from the picked file on disk to help us convert the indexes to words.\n",
    "itos = pickle.load(open(LM_PATH / \"tmp\" / \"itos.pkl\", \"rb\"))\n",
    "\n",
    "# String to index lambda function\n",
    "stoi = collections.defaultdict(lambda: 0, {v:k for k, v in enumerate(itos)})\n",
    "len(itos)"
   ]
  },
  {
   "cell_type": "code",
   "execution_count": 44,
   "metadata": {},
   "outputs": [],
   "source": [
    "# Utility functions\n",
    "\n",
    "def gen_text(ss, topk):\n",
    "    s = ss.strip().split(\" \")\n",
    "    t = LongTensor([stoi[i] for i in s]).view(-1, 1).cuda()\n",
    "    t = Variable(t, volatile=False)\n",
    "    m.reset()\n",
    "    pred, *_ = m(t)\n",
    "    pred_i = torch.topk(pred[-1], topk)[1]\n",
    "\n",
    "    return [itos[o] for o in to_np(pred_i)]\n",
    "\n",
    "def generate_sentences(ss, nb_words):\n",
    "    result = []\n",
    "    s = ss.strip().split(\" \")\n",
    "    t = LongTensor([stoi[i] for i in s]).view(-1, 1).cuda()\n",
    "    t = Variable(t, volatile=False)\n",
    "    m.reset()\n",
    "    pred, *_ = m(t)\n",
    "    \n",
    "    for i in range(nb_words):\n",
    "        pred_i = pred[-1].topk(2)[1]\n",
    "        pred_i = pred_i[1] if pred_i.data[0] < 2 else pred_i[0]\n",
    "        word = itos[pred_i.data[0]]\n",
    "        if word != \"xbos\":\n",
    "            result.append(word)\n",
    "        else:\n",
    "            break\n",
    "        pred, *_ = m(pred_i[0].unsqueeze(0))\n",
    "    \n",
    "    result = re.sub('\\s+([.,])', r'\\1', \"{} {}\".format(ss, \" \".join(result).rstrip()))\n",
    "\n",
    "    return(result)"
   ]
  },
  {
   "cell_type": "markdown",
   "metadata": {},
   "source": [
    "#### Inference"
   ]
  },
  {
   "cell_type": "code",
   "execution_count": 138,
   "metadata": {},
   "outputs": [],
   "source": [
    "strings = [\n",
    "    \"Menara Petronas\",\n",
    "    \"Dr Mahathir merupakan Perdana Menteri\",\n",
    "    \"Tunku ialah Bapa Kemerdekaan\",\n",
    "    \"Syarikat penerbangan\",\n",
    "    \"Durian ialah buah\",\n",
    "    \"P Ramlee ialah seorang\",\n",
    "    \"Pemenang badminton Piala Thomas\",\n",
    "    \"Lee Chong Wei dan badminton\",\n",
    "    \"Jurulatih Rashid Sidek\",\n",
    "    \"Pokok getah\",\n",
    "    \"Industri kelapa sawit di Malaysia\",\n",
    "    \"Penyelidikan minyak sawit\",\n",
    "    \"Negara terbesar di Asia Tenggara ialah\",\n",
    "    \"Proton Saga adalah\",\n",
    "    \"Penyanyi terkenal\"\n",
    "]"
   ]
  },
  {
   "cell_type": "code",
   "execution_count": 139,
   "metadata": {
    "scrolled": true
   },
   "outputs": [
    {
     "name": "stdout",
     "output_type": "stream",
     "text": [
      "Menara Petronas... \n",
      "menara petronas. \n",
      " pada tahun 2005, sebuah syarikat yang dikenali sebagai t_up petronas, yang dimiliki oleh t_up petronas, telah membeli sebuah syarikat yang dimiliki oleh t_up petronas, t_up petronas. pada tahun 2008, t_up petronas membeli saham mereka daripada t_up petronas, dan t_up petronas, dan t_up petronas, dan t_up petronas, dan t_up petronas, dan t_up petronas, dan t_up petronas, yang telah membeli saham mereka pada tahun 2008. t_up\n",
      "\n",
      "Dr Mahathir merupakan Perdana Menteri... \n",
      "dr mahathir merupakan perdana menteri malaysia yang pertama. beliau juga merupakan seorang ahli parlimen bagi kawasan t_up dun t_up n53. beliau juga merupakan ahli parlimen bagi kawasan t_up dun t_up n53. beliau juga merupakan ahli parlimen bagi kawasan t_up dun t_up n53. beliau juga merupakan ahli parlimen bagi kawasan t_up dun t_up n53. beliau juga merupakan ahli parlimen bagi kawasan t_up dun t_up n53. beliau juga merupakan ahli parlimen bagi kawasan bukit gelugor, negeri sembilan. beliau juga\n",
      "\n",
      "Tunku ialah Bapa Kemerdekaan... \n",
      "tunku ialah bapa kemerdekaan malaysia. beliau juga merupakan seorang ahli politik yang pernah berkhidmat sebagai perdana menteri malaysia ke-6. beliau juga merupakan seorang ahli parlimen bagi kawasan bukit besi, malaysia. beliau juga merupakan ahli parlimen bagi kawasan bukit gelugor, pulau pinang. beliau juga merupakan ahli parlimen bagi kawasan bukit gelugor, pulau pinang. beliau juga merupakan ahli parlimen bagi kawasan bukit gelugor, pulau pinang. beliau juga merupakan ahli parlimen bagi kawasan bukit gelugor, pulau\n",
      "\n",
      "Syarikat penerbangan... \n",
      "syarikat penerbangan ini. \n",
      " pada tahun 2005, sebuah syarikat penerbangan antarabangsa, t_up bae systems, telah ditubuhkan. pada tahun 2005, syarikat penerbangan ini telah melancarkan operasi untuk melancarkan pesawat pejuang generasi baru, \" t_up atr 72 \". pada tahun 2009, syarikat penerbangan ini telah melancarkan operasi untuk melancarkan pesawat pejuang generasi baru, \" t_up atr 72 \". pada tahun 2014, syarikat penerbangan ini telah melancarkan operasi untuk melancarkan pesawat pejuang generasi\n",
      "\n",
      "Durian ialah buah... \n",
      "durian ialah buah - buahan yang ditanam di dalam hutan. \n",
      "  xfld 1 1137.0\n",
      "\n",
      "P Ramlee ialah seorang... \n",
      "p ramlee ialah seorang ahli perniagaan yang berjaya. beliau juga merupakan seorang ahli perniagaan yang berjaya. beliau juga merupakan seorang ahli perniagaan yang berjaya. beliau juga merupakan seorang ahli perniagaan dan ahli perniagaan. beliau juga merupakan seorang ahli perniagaan dan ahli perniagaan. beliau juga merupakan seorang ahli perniagaan dan ahli perniagaan. beliau juga merupakan seorang ahli perniagaan dan ahli perniagaan. beliau juga merupakan seorang ahli perniagaan dan ahli perniagaan. beliau juga merupakan seorang ahli perniagaan dan\n",
      "\n",
      "Pemenang badminton Piala Thomas... \n",
      "pemenang badminton piala thomas, t_up pbb. \n",
      " pada tahun 2005, persatuan bola sepak malaysia ( t_up fam ) mengumumkan bahawa t_up fam akan menubuhkan persatuan bola sepak malaysia ( t_up fam ). pada tahun 2009, t_up fam mengumumkan bahawa t_up fam akan menyertai t_up aff pada tahun 2013. t_up fam juga telah mencadangkan bahawa t_up fam akan menyertai t_up aff pada tahun 2013. t_up fam juga telah bersetuju untuk menyertai t_up aff pada tahun 2014. t_up\n",
      "\n",
      "Lee Chong Wei dan badminton... \n",
      "lee chong wei dan badminton. \n",
      " pada tahun 2005, sebuah lagi acara sukan diadakan di stadium nasional bukit jalil, kuala lumpur. pada tahun 2009, persatuan bola sepak malaysia ( t_up fam ) telah mengadakan perlawanan persahabatan menentang t_up fam, t_up fam, t_up fam, t_up fam, t_up fam, t_up fam, t_up fam, t_up afc dan t_up fifa. pada tahun 2009, t_up fam mengumumkan bahawa mereka akan bertanding dalam piala malaysia pada tahun\n",
      "\n",
      "Jurulatih Rashid Sidek... \n",
      "jurulatih rashid sidek, seorang ahli politik yang telah berkhidmat sebagai perdana menteri malaysia. beliau juga merupakan seorang ahli parlimen bagi kawasan t_up dun t_up n53. beliau juga merupakan ahli parlimen bagi kawasan bukit gelugor, negeri sembilan. beliau juga merupakan ahli parlimen bagi kawasan bukit gelugor, negeri sembilan. beliau juga merupakan ahli parlimen bagi kawasan bukit gelugor, negeri sembilan. beliau juga merupakan ahli parlimen bagi kawasan bukit gelugor, negeri sembilan. beliau juga merupakan\n",
      "\n",
      "Pokok getah... \n",
      "pokok getah. \n",
      " pada tahun 2011, sebuah lagi projek baru yang dikenali sebagai \" the new york times \" telah dilancarkan. pada tahun 2011, sebuah lagi projek baru yang dikenali sebagai \" the new york times \" telah dilancarkan. pada tahun 2013, sebuah siri \" the last airbender \" telah diterbitkan semula sebagai siri \" the last airbender \". pada tahun 2013, \" the new york times \" melaporkan bahawa \" the new york\n",
      "\n",
      "Industri kelapa sawit di Malaysia... \n",
      "industri kelapa sawit di malaysia. \n",
      " pada tahun 2005, sebuah syarikat yang dikenali sebagai t_up petronas, telah ditubuhkan untuk membangunkan dan memajukan t_up petronas sebagai sebuah syarikat yang bertanggungjawab untuk pembangunan dan pembangunan teknologi maklumat. t_up petronas telah ditubuhkan pada tahun 1990, dan pada tahun 1992, t_up petronas telah menjadi syarikat yang pertama untuk membangunkan dan menghasilkan produk - produk yang berkualiti. t_up petronas telah membeli dan membeli sebuah syarikat yang dikenali sebagai t_up petronas t_up petronas,\n",
      "\n",
      "Penyelidikan minyak sawit... \n",
      "penyelidikan minyak sawit, dan juga beberapa jenis produk yang berkaitan dengan industri. \n",
      "  xfld 1 1137.0\n",
      "\n",
      "Negara terbesar di Asia Tenggara ialah... \n",
      "negara terbesar di asia tenggara ialah t_up unesco. \n",
      " sejarah. \n",
      " pada tahun 2011, sebuah lagi muzium sejarah di indonesia, iaitu muzium negara indonesia, telah dibuka di jakarta, indonesia. muzium ini telah dirasmikan oleh t_up yab perdana menteri malaysia, tun dr. mahathir bin mohamad pada 1 jun 2007. muzium ini mempamerkan koleksi seni bina yang unik dan menarik. muzium ini mempamerkan koleksi seni bina yang unik dan menarik. muzium ini mempamerkan koleksi seni bina\n",
      "\n",
      "Proton Saga adalah... \n",
      "proton saga adalah sebuah kereta kebal utama yang digunakan oleh tentera udara diraja malaysia. xfld 1 1137.0\n",
      "\n",
      "Penyanyi terkenal... \n",
      "penyanyi terkenal, penyanyi, penyanyi, penulis lagu, komposer, komposer, komposer, komposer, dan artis. \n",
      " lagu. \n",
      " lagu ini digubah oleh komposer terkenal, komposer terkenal, komposer terkenal, ahmad nawab. lagu ini digubah oleh ahmad nawab, dan liriknya ditulis oleh ahmad nawab. lagu ini digubah oleh ahmad nawab, dan liriknya ditulis oleh ahmad nawab. lagu ini digubah oleh ahmad nawab, dan dinyanyikan oleh p. ramlee.\n",
      "\n"
     ]
    }
   ],
   "source": [
    "for s in strings:\n",
    "    print(f\"{s}... \\n{generate_sentences(s.lower(), 80)}\\n\")"
   ]
  },
  {
   "cell_type": "markdown",
   "metadata": {},
   "source": [
    "### Embeddings"
   ]
  },
  {
   "cell_type": "markdown",
   "metadata": {},
   "source": [
    "We extract the embedding layer of the encoder to be used in the same manner as word2vec. We can also create sentence vector by summing or averaging the vectors. For more details about word2vec use cases, see word2vec_examples.ipynb."
   ]
  },
  {
   "cell_type": "markdown",
   "metadata": {},
   "source": [
    "#### Extract"
   ]
  },
  {
   "cell_type": "code",
   "execution_count": 140,
   "metadata": {},
   "outputs": [],
   "source": [
    "emb_weights = list(learner.model.named_parameters())[0][1]\n",
    "emb_np = to_np(emb_weights.data)"
   ]
  },
  {
   "cell_type": "code",
   "execution_count": 148,
   "metadata": {},
   "outputs": [
    {
     "data": {
      "text/html": [
       "<div>\n",
       "<style scoped>\n",
       "    .dataframe tbody tr th:only-of-type {\n",
       "        vertical-align: middle;\n",
       "    }\n",
       "\n",
       "    .dataframe tbody tr th {\n",
       "        vertical-align: top;\n",
       "    }\n",
       "\n",
       "    .dataframe thead th {\n",
       "        text-align: right;\n",
       "    }\n",
       "</style>\n",
       "<table border=\"1\" class=\"dataframe\">\n",
       "  <thead>\n",
       "    <tr style=\"text-align: right;\">\n",
       "      <th></th>\n",
       "      <th>0</th>\n",
       "      <th>1</th>\n",
       "      <th>2</th>\n",
       "      <th>3</th>\n",
       "      <th>4</th>\n",
       "      <th>5</th>\n",
       "      <th>6</th>\n",
       "      <th>7</th>\n",
       "      <th>8</th>\n",
       "      <th>9</th>\n",
       "      <th>...</th>\n",
       "      <th>390</th>\n",
       "      <th>391</th>\n",
       "      <th>392</th>\n",
       "      <th>393</th>\n",
       "      <th>394</th>\n",
       "      <th>395</th>\n",
       "      <th>396</th>\n",
       "      <th>397</th>\n",
       "      <th>398</th>\n",
       "      <th>399</th>\n",
       "    </tr>\n",
       "  </thead>\n",
       "  <tbody>\n",
       "    <tr>\n",
       "      <th>semua</th>\n",
       "      <td>0.013038</td>\n",
       "      <td>0.515365</td>\n",
       "      <td>0.050658</td>\n",
       "      <td>0.403895</td>\n",
       "      <td>-0.076790</td>\n",
       "      <td>-0.274187</td>\n",
       "      <td>-0.294301</td>\n",
       "      <td>-0.482214</td>\n",
       "      <td>-0.942632</td>\n",
       "      <td>-0.382407</td>\n",
       "      <td>...</td>\n",
       "      <td>0.000483</td>\n",
       "      <td>0.049201</td>\n",
       "      <td>-0.237344</td>\n",
       "      <td>-0.195282</td>\n",
       "      <td>0.318259</td>\n",
       "      <td>-0.085800</td>\n",
       "      <td>-0.082405</td>\n",
       "      <td>-0.008426</td>\n",
       "      <td>-0.548818</td>\n",
       "      <td>-0.450443</td>\n",
       "    </tr>\n",
       "    <tr>\n",
       "      <th>kanak</th>\n",
       "      <td>-0.261232</td>\n",
       "      <td>0.187345</td>\n",
       "      <td>0.054948</td>\n",
       "      <td>-0.388966</td>\n",
       "      <td>0.347622</td>\n",
       "      <td>0.906619</td>\n",
       "      <td>-0.085901</td>\n",
       "      <td>-0.067504</td>\n",
       "      <td>-0.227947</td>\n",
       "      <td>0.385188</td>\n",
       "      <td>...</td>\n",
       "      <td>0.133744</td>\n",
       "      <td>0.541352</td>\n",
       "      <td>-0.151185</td>\n",
       "      <td>0.144295</td>\n",
       "      <td>0.467201</td>\n",
       "      <td>0.060089</td>\n",
       "      <td>0.736018</td>\n",
       "      <td>0.356920</td>\n",
       "      <td>0.567058</td>\n",
       "      <td>-0.463647</td>\n",
       "    </tr>\n",
       "    <tr>\n",
       "      <th>album</th>\n",
       "      <td>0.493681</td>\n",
       "      <td>-0.060911</td>\n",
       "      <td>-0.029997</td>\n",
       "      <td>0.046737</td>\n",
       "      <td>-0.580396</td>\n",
       "      <td>0.530397</td>\n",
       "      <td>-0.035759</td>\n",
       "      <td>0.317195</td>\n",
       "      <td>-0.029852</td>\n",
       "      <td>0.295080</td>\n",
       "      <td>...</td>\n",
       "      <td>0.263408</td>\n",
       "      <td>-0.229109</td>\n",
       "      <td>0.182056</td>\n",
       "      <td>-0.561614</td>\n",
       "      <td>-0.144355</td>\n",
       "      <td>-0.297672</td>\n",
       "      <td>-0.030824</td>\n",
       "      <td>0.462025</td>\n",
       "      <td>0.147016</td>\n",
       "      <td>0.053593</td>\n",
       "    </tr>\n",
       "    <tr>\n",
       "      <th>menteri</th>\n",
       "      <td>-0.222996</td>\n",
       "      <td>-0.038149</td>\n",
       "      <td>0.061630</td>\n",
       "      <td>-0.323144</td>\n",
       "      <td>-0.102095</td>\n",
       "      <td>0.199310</td>\n",
       "      <td>-0.400978</td>\n",
       "      <td>-0.040864</td>\n",
       "      <td>-0.019013</td>\n",
       "      <td>-0.120582</td>\n",
       "      <td>...</td>\n",
       "      <td>0.412610</td>\n",
       "      <td>0.142238</td>\n",
       "      <td>-0.350635</td>\n",
       "      <td>0.059112</td>\n",
       "      <td>-0.300906</td>\n",
       "      <td>0.396439</td>\n",
       "      <td>0.035477</td>\n",
       "      <td>0.269761</td>\n",
       "      <td>-0.146999</td>\n",
       "      <td>-0.197764</td>\n",
       "    </tr>\n",
       "    <tr>\n",
       "      <th>turut</th>\n",
       "      <td>-0.314148</td>\n",
       "      <td>-0.329103</td>\n",
       "      <td>0.084600</td>\n",
       "      <td>0.258733</td>\n",
       "      <td>-0.126275</td>\n",
       "      <td>-0.426062</td>\n",
       "      <td>-0.482648</td>\n",
       "      <td>-0.129092</td>\n",
       "      <td>0.201955</td>\n",
       "      <td>0.143144</td>\n",
       "      <td>...</td>\n",
       "      <td>-0.096362</td>\n",
       "      <td>-0.009566</td>\n",
       "      <td>-0.645949</td>\n",
       "      <td>0.033635</td>\n",
       "      <td>-0.120077</td>\n",
       "      <td>0.654878</td>\n",
       "      <td>-0.348052</td>\n",
       "      <td>0.138207</td>\n",
       "      <td>-0.021835</td>\n",
       "      <td>-0.045728</td>\n",
       "    </tr>\n",
       "    <tr>\n",
       "      <th>kira</th>\n",
       "      <td>-0.989307</td>\n",
       "      <td>-0.055768</td>\n",
       "      <td>0.138539</td>\n",
       "      <td>-0.709911</td>\n",
       "      <td>-0.174012</td>\n",
       "      <td>-0.861263</td>\n",
       "      <td>-0.491223</td>\n",
       "      <td>0.044874</td>\n",
       "      <td>-0.403155</td>\n",
       "      <td>0.109385</td>\n",
       "      <td>...</td>\n",
       "      <td>0.157908</td>\n",
       "      <td>-0.044533</td>\n",
       "      <td>0.267241</td>\n",
       "      <td>-0.251010</td>\n",
       "      <td>-0.141131</td>\n",
       "      <td>-0.171218</td>\n",
       "      <td>0.155060</td>\n",
       "      <td>-0.295976</td>\n",
       "      <td>0.203567</td>\n",
       "      <td>-0.208005</td>\n",
       "    </tr>\n",
       "    <tr>\n",
       "      <th>murid</th>\n",
       "      <td>0.248733</td>\n",
       "      <td>-0.059398</td>\n",
       "      <td>-0.023560</td>\n",
       "      <td>-0.273422</td>\n",
       "      <td>-0.298870</td>\n",
       "      <td>0.082709</td>\n",
       "      <td>-0.414381</td>\n",
       "      <td>0.048601</td>\n",
       "      <td>-0.398422</td>\n",
       "      <td>0.156399</td>\n",
       "      <td>...</td>\n",
       "      <td>0.035820</td>\n",
       "      <td>-0.110192</td>\n",
       "      <td>0.296525</td>\n",
       "      <td>0.256502</td>\n",
       "      <td>-0.831308</td>\n",
       "      <td>-0.100444</td>\n",
       "      <td>-0.141868</td>\n",
       "      <td>0.223650</td>\n",
       "      <td>-0.933487</td>\n",
       "      <td>0.428067</td>\n",
       "    </tr>\n",
       "    <tr>\n",
       "      <th>kuala</th>\n",
       "      <td>0.151282</td>\n",
       "      <td>-0.164024</td>\n",
       "      <td>-0.214619</td>\n",
       "      <td>-0.244270</td>\n",
       "      <td>-0.234031</td>\n",
       "      <td>-0.298997</td>\n",
       "      <td>0.021982</td>\n",
       "      <td>0.546422</td>\n",
       "      <td>0.604748</td>\n",
       "      <td>-0.260872</td>\n",
       "      <td>...</td>\n",
       "      <td>-0.326803</td>\n",
       "      <td>0.072062</td>\n",
       "      <td>-0.017195</td>\n",
       "      <td>0.266519</td>\n",
       "      <td>0.331591</td>\n",
       "      <td>-0.068582</td>\n",
       "      <td>0.175815</td>\n",
       "      <td>0.104983</td>\n",
       "      <td>0.110367</td>\n",
       "      <td>0.049074</td>\n",
       "    </tr>\n",
       "    <tr>\n",
       "      <th>semula</th>\n",
       "      <td>0.125103</td>\n",
       "      <td>-0.197420</td>\n",
       "      <td>0.751799</td>\n",
       "      <td>-0.990424</td>\n",
       "      <td>-0.583707</td>\n",
       "      <td>0.293708</td>\n",
       "      <td>-0.224855</td>\n",
       "      <td>-0.778633</td>\n",
       "      <td>-0.698253</td>\n",
       "      <td>-0.438961</td>\n",
       "      <td>...</td>\n",
       "      <td>-0.231747</td>\n",
       "      <td>0.037555</td>\n",
       "      <td>0.303921</td>\n",
       "      <td>-0.279731</td>\n",
       "      <td>-0.914102</td>\n",
       "      <td>0.339698</td>\n",
       "      <td>0.337318</td>\n",
       "      <td>0.274428</td>\n",
       "      <td>-0.103200</td>\n",
       "      <td>0.126072</td>\n",
       "    </tr>\n",
       "    <tr>\n",
       "      <th>perempuan</th>\n",
       "      <td>0.344372</td>\n",
       "      <td>0.385741</td>\n",
       "      <td>-0.095603</td>\n",
       "      <td>0.161351</td>\n",
       "      <td>0.259355</td>\n",
       "      <td>0.608875</td>\n",
       "      <td>-0.228196</td>\n",
       "      <td>-0.217302</td>\n",
       "      <td>-0.557234</td>\n",
       "      <td>0.143539</td>\n",
       "      <td>...</td>\n",
       "      <td>0.383469</td>\n",
       "      <td>-0.132593</td>\n",
       "      <td>0.077143</td>\n",
       "      <td>0.672117</td>\n",
       "      <td>-0.278821</td>\n",
       "      <td>0.018481</td>\n",
       "      <td>-0.199514</td>\n",
       "      <td>0.894665</td>\n",
       "      <td>0.157668</td>\n",
       "      <td>0.372751</td>\n",
       "    </tr>\n",
       "  </tbody>\n",
       "</table>\n",
       "<p>10 rows × 400 columns</p>\n",
       "</div>"
      ],
      "text/plain": [
       "                0         1         2         3         4         5    \\\n",
       "semua      0.013038  0.515365  0.050658  0.403895 -0.076790 -0.274187   \n",
       "kanak     -0.261232  0.187345  0.054948 -0.388966  0.347622  0.906619   \n",
       "album      0.493681 -0.060911 -0.029997  0.046737 -0.580396  0.530397   \n",
       "menteri   -0.222996 -0.038149  0.061630 -0.323144 -0.102095  0.199310   \n",
       "turut     -0.314148 -0.329103  0.084600  0.258733 -0.126275 -0.426062   \n",
       "kira      -0.989307 -0.055768  0.138539 -0.709911 -0.174012 -0.861263   \n",
       "murid      0.248733 -0.059398 -0.023560 -0.273422 -0.298870  0.082709   \n",
       "kuala      0.151282 -0.164024 -0.214619 -0.244270 -0.234031 -0.298997   \n",
       "semula     0.125103 -0.197420  0.751799 -0.990424 -0.583707  0.293708   \n",
       "perempuan  0.344372  0.385741 -0.095603  0.161351  0.259355  0.608875   \n",
       "\n",
       "                6         7         8         9      ...          390  \\\n",
       "semua     -0.294301 -0.482214 -0.942632 -0.382407    ...     0.000483   \n",
       "kanak     -0.085901 -0.067504 -0.227947  0.385188    ...     0.133744   \n",
       "album     -0.035759  0.317195 -0.029852  0.295080    ...     0.263408   \n",
       "menteri   -0.400978 -0.040864 -0.019013 -0.120582    ...     0.412610   \n",
       "turut     -0.482648 -0.129092  0.201955  0.143144    ...    -0.096362   \n",
       "kira      -0.491223  0.044874 -0.403155  0.109385    ...     0.157908   \n",
       "murid     -0.414381  0.048601 -0.398422  0.156399    ...     0.035820   \n",
       "kuala      0.021982  0.546422  0.604748 -0.260872    ...    -0.326803   \n",
       "semula    -0.224855 -0.778633 -0.698253 -0.438961    ...    -0.231747   \n",
       "perempuan -0.228196 -0.217302 -0.557234  0.143539    ...     0.383469   \n",
       "\n",
       "                391       392       393       394       395       396  \\\n",
       "semua      0.049201 -0.237344 -0.195282  0.318259 -0.085800 -0.082405   \n",
       "kanak      0.541352 -0.151185  0.144295  0.467201  0.060089  0.736018   \n",
       "album     -0.229109  0.182056 -0.561614 -0.144355 -0.297672 -0.030824   \n",
       "menteri    0.142238 -0.350635  0.059112 -0.300906  0.396439  0.035477   \n",
       "turut     -0.009566 -0.645949  0.033635 -0.120077  0.654878 -0.348052   \n",
       "kira      -0.044533  0.267241 -0.251010 -0.141131 -0.171218  0.155060   \n",
       "murid     -0.110192  0.296525  0.256502 -0.831308 -0.100444 -0.141868   \n",
       "kuala      0.072062 -0.017195  0.266519  0.331591 -0.068582  0.175815   \n",
       "semula     0.037555  0.303921 -0.279731 -0.914102  0.339698  0.337318   \n",
       "perempuan -0.132593  0.077143  0.672117 -0.278821  0.018481 -0.199514   \n",
       "\n",
       "                397       398       399  \n",
       "semua     -0.008426 -0.548818 -0.450443  \n",
       "kanak      0.356920  0.567058 -0.463647  \n",
       "album      0.462025  0.147016  0.053593  \n",
       "menteri    0.269761 -0.146999 -0.197764  \n",
       "turut      0.138207 -0.021835 -0.045728  \n",
       "kira      -0.295976  0.203567 -0.208005  \n",
       "murid      0.223650 -0.933487  0.428067  \n",
       "kuala      0.104983  0.110367  0.049074  \n",
       "semula     0.274428 -0.103200  0.126072  \n",
       "perempuan  0.894665  0.157668  0.372751  \n",
       "\n",
       "[10 rows x 400 columns]"
      ]
     },
     "execution_count": 148,
     "metadata": {},
     "output_type": "execute_result"
    }
   ],
   "source": [
    "malay2vec = pd.DataFrame(emb_np)\n",
    "new_itos = itos\n",
    "# replace space with token\n",
    "new_itos[2] = '_space_'\n",
    "# replace space for named entities with _\n",
    "new_itos = [re.sub(' ', '_', i) for i in new_itos]\n",
    "malay2vec.index = new_itos\n",
    "malay2vec.iloc[200:210]"
   ]
  },
  {
   "cell_type": "code",
   "execution_count": 151,
   "metadata": {},
   "outputs": [
    {
     "data": {
      "text/plain": [
       "(60002, 400)"
      ]
     },
     "execution_count": 151,
     "metadata": {},
     "output_type": "execute_result"
    }
   ],
   "source": [
    "malay2vec.to_csv(f\"{LM_PATH}/malay2vec_embeddings.csv\", sep=\" \", header=False, line_terminator=\"\\n\")\n",
    "malay2vec.shape"
   ]
  },
  {
   "cell_type": "code",
   "execution_count": null,
   "metadata": {},
   "outputs": [],
   "source": [
    "# from gensim.models import KeyedVectors\n",
    "\n",
    "# model = KeyedVectors.load_word2vec_format(f\"{LM_PATH}/malay2vec.csv\", binary=False,\n",
    "#                                           unicode_errors = \"ignore\")"
   ]
  },
  {
   "cell_type": "code",
   "execution_count": null,
   "metadata": {},
   "outputs": [],
   "source": [
    "# model.save_word2vec_format(f'{LM_PATH}/malay2vec.bin', None, True)"
   ]
  }
 ],
 "metadata": {
  "gist": {
   "data": {
    "description": "mywork/Telugu_Language_Model.ipynb",
    "public": false
   },
   "id": ""
  },
  "kernelspec": {
   "display_name": "Python 3",
   "language": "python",
   "name": "python3"
  },
  "language_info": {
   "codemirror_mode": {
    "name": "ipython",
    "version": 3
   },
   "file_extension": ".py",
   "mimetype": "text/x-python",
   "name": "python",
   "nbconvert_exporter": "python",
   "pygments_lexer": "ipython3",
   "version": "3.6.5"
  }
 },
 "nbformat": 4,
 "nbformat_minor": 2
}
