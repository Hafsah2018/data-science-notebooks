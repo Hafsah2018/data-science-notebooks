{
 "cells": [
  {
   "cell_type": "markdown",
   "metadata": {},
   "source": [
    "# Malay Text Classification using ULMFiT"
   ]
  },
  {
   "cell_type": "code",
   "execution_count": 3,
   "metadata": {},
   "outputs": [],
   "source": [
    "%matplotlib inline\n",
    "%reload_ext autoreload\n",
    "%autoreload 2"
   ]
  },
  {
   "cell_type": "markdown",
   "metadata": {},
   "source": [
    "## Imports"
   ]
  },
  {
   "cell_type": "code",
   "execution_count": 44,
   "metadata": {},
   "outputs": [],
   "source": [
    "import json\n",
    "import pathlib\n",
    "import html\n",
    "import numpy as np\n",
    "import pandas as pd\n",
    "from unidecode import unidecode\n",
    "\n",
    "from fastai.text import *"
   ]
  },
  {
   "cell_type": "markdown",
   "metadata": {},
   "source": [
    "## Download data"
   ]
  },
  {
   "cell_type": "code",
   "execution_count": 8,
   "metadata": {
    "collapsed": true
   },
   "outputs": [
    {
     "name": "stdout",
     "output_type": "stream",
     "text": [
      "total 881768\r\n",
      "drwxrwxr-x 3 ubuntu ubuntu      4096 Sep 22 11:27 .\r\n",
      "drwxrwxr-x 3 ubuntu ubuntu      4096 Sep 22 10:05 ..\r\n",
      "-rw-rw-r-- 1 ubuntu ubuntu 282627815 Sep 22 10:05 malay2vec_embeddings.csv\r\n",
      "-rw-rw-r-- 1 ubuntu ubuntu  19881603 Sep 21 11:09 test.csv\r\n",
      "drwxrwxr-x 2 ubuntu ubuntu      4096 Sep 22 11:26 tmp\r\n",
      "-rw-rw-r-- 1 ubuntu ubuntu 180414425 Sep 21 11:09 train.csv\r\n",
      "-rw-rw-r-- 1 ubuntu ubuntu 219657951 Sep 21 10:29 wiki_malay_corpus.csv\r\n",
      "-rw-rw-r-- 1 ubuntu ubuntu 200324811 Sep 21 10:29 wiki_malay_corpus_sorted_by_len.csv\r\n"
     ]
    }
   ],
   "source": [
    "!ls -la data/model/malay"
   ]
  },
  {
   "cell_type": "code",
   "execution_count": 21,
   "metadata": {},
   "outputs": [],
   "source": [
    "!mkdir -p data/model/malay/dataset/malaya"
   ]
  },
  {
   "cell_type": "code",
   "execution_count": 22,
   "metadata": {
    "collapsed": true
   },
   "outputs": [
    {
     "name": "stdout",
     "output_type": "stream",
     "text": [
      "  % Total    % Received % Xferd  Average Speed   Time    Time     Time  Current\n",
      "                                 Dload  Upload   Total   Spent    Left  Speed\n",
      "100  484k  100  484k    0     0   484k      0  0:00:01  0:00:01 --:--:--  267k\n"
     ]
    }
   ],
   "source": [
    "!curl -o data/model/malay/dataset/malaya/sentiment-data-v2.csv \\\n",
    "--header 'Accept: application/vnd.github.v3.raw' \\\n",
    "--remote-name \\\n",
    "--location https://api.github.com/repos/DevconX/Malaya/contents/dataset/sentiment-data-v2.csv"
   ]
  },
  {
   "cell_type": "code",
   "execution_count": 48,
   "metadata": {
    "collapsed": true
   },
   "outputs": [
    {
     "name": "stdout",
     "output_type": "stream",
     "text": [
      "  % Total    % Received % Xferd  Average Speed   Time    Time     Time  Current\n",
      "                                 Dload  Upload   Total   Spent    Left  Speed\n",
      "100  620k  100  620k    0     0   620k      0  0:00:01  0:00:01 --:--:--  392k\n"
     ]
    }
   ],
   "source": [
    "!curl -o data/model/malay/dataset/malaya/polarity-negative-translated.txt \\\n",
    "--header 'Accept: application/vnd.github.v3.raw' \\\n",
    "--remote-name \\\n",
    "--location https://api.github.com/repos/DevconX/Malaya/contents/dataset/polarity-negative-translated.txt"
   ]
  },
  {
   "cell_type": "code",
   "execution_count": 49,
   "metadata": {},
   "outputs": [
    {
     "name": "stdout",
     "output_type": "stream",
     "text": [
      "  % Total    % Received % Xferd  Average Speed   Time    Time     Time  Current\n",
      "                                 Dload  Upload   Total   Spent    Left  Speed\n",
      "100  625k  100  625k    0     0   625k      0  0:00:01  0:00:01 --:--:--  333k\n"
     ]
    }
   ],
   "source": [
    "!curl -o data/model/malay/dataset/malaya/polarity-positive-translated.txt \\\n",
    "--header 'Accept: application/vnd.github.v3.raw' \\\n",
    "--remote-name \\\n",
    "--location https://api.github.com/repos/DevconX/Malaya/contents/dataset/polarity-positive-translated.txt"
   ]
  },
  {
   "cell_type": "code",
   "execution_count": 23,
   "metadata": {
    "collapsed": true
   },
   "outputs": [
    {
     "name": "stdout",
     "output_type": "stream",
     "text": [
      "total 496K\r\n",
      "drwxrwxr-x 2 ubuntu ubuntu 4.0K Nov  7 17:05 .\r\n",
      "drwxrwxr-x 3 ubuntu ubuntu 4.0K Nov  7 17:05 ..\r\n",
      "-rw-rw-r-- 1 ubuntu ubuntu 485K Nov  7 17:05 sentiment-data-v2.csv\r\n"
     ]
    }
   ],
   "source": [
    "!ls -lah data/model/malay/dataset/malaya"
   ]
  },
  {
   "cell_type": "code",
   "execution_count": 24,
   "metadata": {
    "collapsed": true
   },
   "outputs": [
    {
     "name": "stdout",
     "output_type": "stream",
     "text": [
      "label,text\r\n",
      "Negative,\"Lebih-lebih lagi dengan  kemudahan internet dan laman sosial, taktik ini semakin mudah dikembangkan.\"\r\n",
      "Positive,boleh memberi teguran kepada parti tetapi perlu ikut cara yang betul\r\n",
      "Negative,Adalah membingungkan mengapa masyarakat Cina bersorak gembira apabila Mahathir menyertai gabungan pakatan pembangkang\r\n",
      "Positive,Kami menurunkan defisit daripada 6.7 peratus pada tahun 2009 kepada tiga peratus pada tahun lalu\r\n",
      "Negative,\"Ini masalahnya. Bukan rakyat, tetapi sistem\"\r\n",
      "Positive,Masyarakat Cina dapat melihat bagaimana perancangan kerajaan di bawah pimpinan perdana menteri merangka pembangunan dan berjaya melaksanakannya dan mereka juga dapat melihat bagaimana pembangkang tidak dapat melaksanakan janji-janji yang pernah dibuat sebelum ini.\r\n",
      "Positive,\"Tetapi penyelenggaraan ini ada skop tertentu yang perlu mendapat kelulusan Kementerian Kewangan dan ia merangkumi pembaikan kecil seperti bumbung, tandas, paip dan kerja-kerja elektrikal sahaja\"\r\n",
      "Positive,\"Jika memilih untuk tidak dikritik, duduk saja di rumah dan jangan terlibat\"\r\n",
      "Negative,Ini membawa erti haram juga untuk sokong BN kerana MCA serta Gerakan yang anti hudud juga adalah rakan sekutu BN\r\n",
      "cat: write error: Broken pipe\r\n"
     ]
    }
   ],
   "source": [
    "!cat data/model/malay/dataset/malaya/sentiment-data-v2.csv | head -n 10"
   ]
  },
  {
   "cell_type": "markdown",
   "metadata": {},
   "source": [
    "## Standardize data format"
   ]
  },
  {
   "cell_type": "markdown",
   "metadata": {},
   "source": [
    "## Data"
   ]
  },
  {
   "cell_type": "code",
   "execution_count": 187,
   "metadata": {},
   "outputs": [],
   "source": [
    "BOS = \"xbos\"  # beginning-of-sentence tag\n",
    "FLD = \"xfld\"  # data field tag\n",
    "\n",
    "LANG = 'malay'\n",
    "DATA_PATH = 'data'\n",
    "\n",
    "ROOT_PATH = Path(f\"{DATA_PATH}/model/{LANG}/\")\n",
    "\n",
    "# Malaya dataset and LM\n",
    "DATASET_PATH = Path(f'{ROOT_PATH}/dataset/malaya/')\n",
    "PKL_PATH = Path(f'{DATASET_PATH}/pkl/')\n",
    "TMP_PATH = Path(f'{DATASET_PATH}/tmp/')\n",
    "\n",
    "# Wikipedia LM\n",
    "MODELS_PATH = Path(f'{DATA_PATH}/models/')\n",
    "PRETRAINED_WIKI_LM_PATH = Path(f'{ROOT_PATH}/tmp/')"
   ]
  },
  {
   "cell_type": "code",
   "execution_count": 26,
   "metadata": {},
   "outputs": [],
   "source": [
    "df = pd.read_csv(DATASET_PATH / 'sentiment-data-v2.csv')"
   ]
  },
  {
   "cell_type": "code",
   "execution_count": 34,
   "metadata": {},
   "outputs": [
    {
     "data": {
      "text/plain": [
       "0    Negative\n",
       "1    Positive\n",
       "2    Negative\n",
       "3    Positive\n",
       "4    Negative\n",
       "Name: label, dtype: object"
      ]
     },
     "execution_count": 34,
     "metadata": {},
     "output_type": "execute_result"
    }
   ],
   "source": [
    "# SANITY CHECK\n",
    "df.label.head()"
   ]
  },
  {
   "cell_type": "code",
   "execution_count": 29,
   "metadata": {},
   "outputs": [
    {
     "data": {
      "text/html": [
       "<div>\n",
       "<style scoped>\n",
       "    .dataframe tbody tr th:only-of-type {\n",
       "        vertical-align: middle;\n",
       "    }\n",
       "\n",
       "    .dataframe tbody tr th {\n",
       "        vertical-align: top;\n",
       "    }\n",
       "\n",
       "    .dataframe thead th {\n",
       "        text-align: right;\n",
       "    }\n",
       "</style>\n",
       "<table border=\"1\" class=\"dataframe\">\n",
       "  <thead>\n",
       "    <tr style=\"text-align: right;\">\n",
       "      <th></th>\n",
       "      <th>label</th>\n",
       "      <th>text</th>\n",
       "    </tr>\n",
       "  </thead>\n",
       "  <tbody>\n",
       "    <tr>\n",
       "      <th>0</th>\n",
       "      <td>Negative</td>\n",
       "      <td>Lebih-lebih lagi dengan  kemudahan internet da...</td>\n",
       "    </tr>\n",
       "    <tr>\n",
       "      <th>1</th>\n",
       "      <td>Positive</td>\n",
       "      <td>boleh memberi teguran kepada parti tetapi perl...</td>\n",
       "    </tr>\n",
       "    <tr>\n",
       "      <th>2</th>\n",
       "      <td>Negative</td>\n",
       "      <td>Adalah membingungkan mengapa masyarakat Cina b...</td>\n",
       "    </tr>\n",
       "    <tr>\n",
       "      <th>3</th>\n",
       "      <td>Positive</td>\n",
       "      <td>Kami menurunkan defisit daripada 6.7 peratus p...</td>\n",
       "    </tr>\n",
       "    <tr>\n",
       "      <th>4</th>\n",
       "      <td>Negative</td>\n",
       "      <td>Ini masalahnya. Bukan rakyat, tetapi sistem</td>\n",
       "    </tr>\n",
       "  </tbody>\n",
       "</table>\n",
       "</div>"
      ],
      "text/plain": [
       "      label                                               text\n",
       "0  Negative  Lebih-lebih lagi dengan  kemudahan internet da...\n",
       "1  Positive  boleh memberi teguran kepada parti tetapi perl...\n",
       "2  Negative  Adalah membingungkan mengapa masyarakat Cina b...\n",
       "3  Positive  Kami menurunkan defisit daripada 6.7 peratus p...\n",
       "4  Negative        Ini masalahnya. Bukan rakyat, tetapi sistem"
      ]
     },
     "execution_count": 29,
     "metadata": {},
     "output_type": "execute_result"
    }
   ],
   "source": [
    "Y = preprocessing.LabelEncoder().fit_transform(df.label)\n",
    "df.head()"
   ]
  },
  {
   "cell_type": "code",
   "execution_count": 35,
   "metadata": {},
   "outputs": [
    {
     "data": {
      "text/plain": [
       "((3685,), array([0, 1, 0, 1, 0]))"
      ]
     },
     "execution_count": 35,
     "metadata": {},
     "output_type": "execute_result"
    }
   ],
   "source": [
    "# SANITY CHECK\n",
    "Y.shape, Y[:5]"
   ]
  },
  {
   "cell_type": "code",
   "execution_count": 36,
   "metadata": {},
   "outputs": [
    {
     "data": {
      "text/plain": [
       "3685"
      ]
     },
     "execution_count": 36,
     "metadata": {},
     "output_type": "execute_result"
    }
   ],
   "source": [
    "# SANITY CHECK\n",
    "df.shape[0]"
   ]
  },
  {
   "cell_type": "code",
   "execution_count": 41,
   "metadata": {},
   "outputs": [
    {
     "data": {
      "text/plain": [
       "'Lebih-lebih lagi dengan\\xa0 kemudahan internet dan laman sosial, taktik ini semakin mudah dikembangkan.'"
      ]
     },
     "execution_count": 41,
     "metadata": {},
     "output_type": "execute_result"
    }
   ],
   "source": [
    "# SANITY CHECK\n",
    "df.iloc[0, 1]"
   ]
  },
  {
   "cell_type": "markdown",
   "metadata": {},
   "source": [
    "### Process text"
   ]
  },
  {
   "cell_type": "code",
   "execution_count": 45,
   "metadata": {},
   "outputs": [],
   "source": [
    "def textcleaning(string):\n",
    "    \"\"\"A simple helper function to clean text\"\"\"\n",
    "    string = re.sub('http\\S+|www.\\S+', '',' '.join([i for i in string.split() if i.find('#')<0 and i.find('@')<0]))\n",
    "    string = unidecode(string).replace('.', '. ').replace(',', ', ')\n",
    "    string = re.sub('[^\\'\\\"A-Za-z\\- ]+', ' ', string)\n",
    "    return ' '.join([i for i in re.findall(\"[\\\\w']+|[;:\\-\\(\\)&.,!?\\\"]\", string) if len(i)>1]).lower()"
   ]
  },
  {
   "cell_type": "code",
   "execution_count": 46,
   "metadata": {},
   "outputs": [],
   "source": [
    "# Iterate over the df rows and clean the text and inline update the Pandas dataframe.\n",
    "for i in range(df.shape[0]):\n",
    "    df.iloc[i,1] = textcleaning(df.iloc[i,1])"
   ]
  },
  {
   "cell_type": "code",
   "execution_count": 47,
   "metadata": {},
   "outputs": [
    {
     "data": {
      "text/plain": [
       "'lebih lebih lagi dengan kemudahan internet dan laman sosial taktik ini semakin mudah dikembangkan'"
      ]
     },
     "execution_count": 47,
     "metadata": {},
     "output_type": "execute_result"
    }
   ],
   "source": [
    "# SANITY CHECK\n",
    "df.iloc[0, 1]"
   ]
  },
  {
   "cell_type": "markdown",
   "metadata": {},
   "source": [
    "**Concat sentiment dataset with polarity datasets**"
   ]
  },
  {
   "cell_type": "code",
   "execution_count": 50,
   "metadata": {},
   "outputs": [],
   "source": [
    "with open(DATASET_PATH / 'polarity-negative-translated.txt','r') as fopen:\n",
    "    texts = fopen.read().split('\\n')\n",
    "labels = [0] * len(texts)"
   ]
  },
  {
   "cell_type": "code",
   "execution_count": 66,
   "metadata": {},
   "outputs": [
    {
     "data": {
      "text/plain": [
       "(5306, [0, 0, 0, 0, 0])"
      ]
     },
     "execution_count": 66,
     "metadata": {},
     "output_type": "execute_result"
    }
   ],
   "source": [
    "# SANITY CHECK\n",
    "len(texts), labels[:5]"
   ]
  },
  {
   "cell_type": "code",
   "execution_count": 59,
   "metadata": {},
   "outputs": [],
   "source": [
    "with open(DATASET_PATH / 'polarity-positive-translated.txt','r') as fopen:\n",
    "    positive_texts = fopen.read().split('\\n')\n",
    "labels += [1] * len(positive_texts)"
   ]
  },
  {
   "cell_type": "code",
   "execution_count": 61,
   "metadata": {},
   "outputs": [
    {
     "data": {
      "text/plain": [
       "5288"
      ]
     },
     "execution_count": 61,
     "metadata": {},
     "output_type": "execute_result"
    }
   ],
   "source": [
    "# SANITY CHECK\n",
    "len(positive_texts)"
   ]
  },
  {
   "cell_type": "code",
   "execution_count": 67,
   "metadata": {},
   "outputs": [],
   "source": [
    "texts += positive_texts # type of list\n",
    "texts += df.iloc[:, 1].tolist() # get all rows for the 'text' column and returns as list\n",
    "labels += Y.tolist() # append encoded labels of sentiment positive (1), negative (0)\n",
    "\n",
    "assert len(labels) == len(texts) # if this prints nothing, it means no error and we are all good"
   ]
  },
  {
   "cell_type": "markdown",
   "metadata": {},
   "source": [
    "**Simple analysis of vocab and common words**"
   ]
  },
  {
   "cell_type": "code",
   "execution_count": 68,
   "metadata": {},
   "outputs": [],
   "source": [
    "def build_dataset(words, n_words):\n",
    "    \"\"\"A helper function to build dataset\"\"\"\n",
    "    count = [['GO', 0], ['PAD', 1], ['EOS', 2], ['UNK', 3]]\n",
    "    count.extend(collections.Counter(words).most_common(n_words - 1))\n",
    "    dictionary = dict()\n",
    "    for word, _ in count:\n",
    "        dictionary[word] = len(dictionary)\n",
    "    data = list()\n",
    "    unk_count = 0\n",
    "    for word in words:\n",
    "        index = dictionary.get(word, 0)\n",
    "        if index == 0:\n",
    "            unk_count += 1\n",
    "        data.append(index)\n",
    "    count[0][1] = unk_count\n",
    "    reversed_dictionary = dict(zip(dictionary.values(), dictionary.keys()))\n",
    "    return data, count, dictionary, reversed_dictionary"
   ]
  },
  {
   "cell_type": "code",
   "execution_count": 74,
   "metadata": {},
   "outputs": [
    {
     "name": "stdout",
     "output_type": "stream",
     "text": [
      "Vocab from size: 18957\n",
      "Most common words: [('yang', 14891), ('dan', 8177), ('tidak', 4578), ('untuk', 4023), ('dengan', 3349), ('filem', 3279)]\n",
      "Sample data: [1606, 204, 5, 160, 217, 106, 300, 4, 78, 202] ['ringkas', 'bodoh', 'dan', 'membosankan', 'kanak-kanak', 'lelaki', 'remaja', 'yang', 'begitu', 'muda']\n"
     ]
    }
   ],
   "source": [
    "concat = ' '.join(texts).split()\n",
    "vocabulary_size = len(list(set(concat)))\n",
    "data, count, dictionary, rev_dictionary = build_dataset(concat, vocabulary_size)\n",
    "\n",
    "print('Vocab from size: %d' % (vocabulary_size))\n",
    "print('Most common words:', count[4:10])\n",
    "print('Sample data:', data[:10], [rev_dictionary[i] for i in data[:10]])"
   ]
  },
  {
   "cell_type": "markdown",
   "metadata": {},
   "source": [
    "**Create final dataframe**"
   ]
  },
  {
   "cell_type": "code",
   "execution_count": 109,
   "metadata": {},
   "outputs": [
    {
     "name": "stdout",
     "output_type": "stream",
     "text": [
      "['Enigma dibuat dengan baik tetapi terlalu kering dan terlalu tenang'] [0]\n",
      "['batu itu ditakdirkan untuk menjadi 21 centurys baru conan dan bahawa dia akan membuat percikan yang lebih besar daripada arnold schwarzenegger jeanclaud van damme atau steven segal'] [1]\n",
      "['lebih lebih lagi dengan kemudahan internet dan laman sosial taktik ini semakin mudah dikembangkan'] [0]\n"
     ]
    }
   ],
   "source": [
    "# SANITY CHECK\n",
    "print(texts[5305:5306], labels[5305:5306]) # start of polarity-negative-translated.txt\n",
    "print(texts[5306:5307], labels[5306:5307]) # start of polarity-positive-translated.txt\n",
    "print(texts[5306 + 5288:5306 + 5288 + 1], labels[5306 + 5288:5306 + 5288 + 1]) # start of sentiment-data-v2.csv"
   ]
  },
  {
   "cell_type": "code",
   "execution_count": 106,
   "metadata": {},
   "outputs": [],
   "source": [
    "df_all = pd.DataFrame.from_records({ 'label': labels, 'text': texts })"
   ]
  },
  {
   "cell_type": "code",
   "execution_count": 118,
   "metadata": {},
   "outputs": [
    {
     "data": {
      "text/html": [
       "<div>\n",
       "<style scoped>\n",
       "    .dataframe tbody tr th:only-of-type {\n",
       "        vertical-align: middle;\n",
       "    }\n",
       "\n",
       "    .dataframe tbody tr th {\n",
       "        vertical-align: top;\n",
       "    }\n",
       "\n",
       "    .dataframe thead th {\n",
       "        text-align: right;\n",
       "    }\n",
       "</style>\n",
       "<table border=\"1\" class=\"dataframe\">\n",
       "  <thead>\n",
       "    <tr style=\"text-align: right;\">\n",
       "      <th></th>\n",
       "      <th>label</th>\n",
       "      <th>text</th>\n",
       "    </tr>\n",
       "  </thead>\n",
       "  <tbody>\n",
       "    <tr>\n",
       "      <th>0</th>\n",
       "      <td>0</td>\n",
       "      <td>ringkas bodoh dan membosankan</td>\n",
       "    </tr>\n",
       "    <tr>\n",
       "      <th>1</th>\n",
       "      <td>0</td>\n",
       "      <td>kanak-kanak lelaki remaja yang begitu muda dan...</td>\n",
       "    </tr>\n",
       "    <tr>\n",
       "      <th>2</th>\n",
       "      <td>0</td>\n",
       "      <td>eksploitatif dan sebahagian besarnya tidak mem...</td>\n",
       "    </tr>\n",
       "    <tr>\n",
       "      <th>3</th>\n",
       "      <td>0</td>\n",
       "      <td>Garbus membuang potensi untuk kajian patologi ...</td>\n",
       "    </tr>\n",
       "    <tr>\n",
       "      <th>4</th>\n",
       "      <td>0</td>\n",
       "      <td>senaman lucah tetapi terang secara terang-tera...</td>\n",
       "    </tr>\n",
       "  </tbody>\n",
       "</table>\n",
       "</div>"
      ],
      "text/plain": [
       "   label                                               text\n",
       "0      0                      ringkas bodoh dan membosankan\n",
       "1      0  kanak-kanak lelaki remaja yang begitu muda dan...\n",
       "2      0  eksploitatif dan sebahagian besarnya tidak mem...\n",
       "3      0  Garbus membuang potensi untuk kajian patologi ...\n",
       "4      0  senaman lucah tetapi terang secara terang-tera..."
      ]
     },
     "execution_count": 118,
     "metadata": {},
     "output_type": "execute_result"
    }
   ],
   "source": [
    "df_all.head()"
   ]
  },
  {
   "cell_type": "code",
   "execution_count": 115,
   "metadata": {},
   "outputs": [
    {
     "name": "stdout",
     "output_type": "stream",
     "text": [
      "label                                                    0\n",
      "text     Enigma dibuat dengan baik tetapi terlalu kerin...\n",
      "Name: 5305, dtype: object\n",
      "label                                                    1\n",
      "text     batu itu ditakdirkan untuk menjadi 21 centurys...\n",
      "Name: 5306, dtype: object\n",
      "       label                                               text\n",
      "10594      0  lebih lebih lagi dengan kemudahan internet dan...\n",
      "10595      1  boleh memberi teguran kepada parti tetapi perl...\n",
      "10596      0  adalah membingungkan mengapa masyarakat cina b...\n"
     ]
    }
   ],
   "source": [
    "# SANITY CHECK\n",
    "print(df_all.iloc[5305])\n",
    "print(df_all.iloc[5306])\n",
    "print(df_all.iloc[5306 + 5288:5306 + 5288 + 3])"
   ]
  },
  {
   "cell_type": "code",
   "execution_count": 119,
   "metadata": {},
   "outputs": [],
   "source": [
    "df_all.to_csv(f'{DATASET_PATH}/all.csv', header=False, index=False)"
   ]
  },
  {
   "cell_type": "code",
   "execution_count": 120,
   "metadata": {},
   "outputs": [
    {
     "data": {
      "text/plain": [
       "14279"
      ]
     },
     "execution_count": 120,
     "metadata": {},
     "output_type": "execute_result"
    }
   ],
   "source": [
    "# SANITY CHECK\n",
    "df_all.shape[0]"
   ]
  },
  {
   "cell_type": "code",
   "execution_count": 127,
   "metadata": {},
   "outputs": [],
   "source": [
    "df_all = pd.read_csv(f'{DATASET_PATH}/all.csv')\n",
    "df_all.columns = ['label', 'text']"
   ]
  },
  {
   "cell_type": "code",
   "execution_count": 130,
   "metadata": {},
   "outputs": [
    {
     "data": {
      "text/html": [
       "<div>\n",
       "<style scoped>\n",
       "    .dataframe tbody tr th:only-of-type {\n",
       "        vertical-align: middle;\n",
       "    }\n",
       "\n",
       "    .dataframe tbody tr th {\n",
       "        vertical-align: top;\n",
       "    }\n",
       "\n",
       "    .dataframe thead th {\n",
       "        text-align: right;\n",
       "    }\n",
       "</style>\n",
       "<table border=\"1\" class=\"dataframe\">\n",
       "  <thead>\n",
       "    <tr style=\"text-align: right;\">\n",
       "      <th></th>\n",
       "      <th>label</th>\n",
       "      <th>text</th>\n",
       "    </tr>\n",
       "  </thead>\n",
       "  <tbody>\n",
       "    <tr>\n",
       "      <th>0</th>\n",
       "      <td>0</td>\n",
       "      <td>kanak-kanak lelaki remaja yang begitu muda dan...</td>\n",
       "    </tr>\n",
       "    <tr>\n",
       "      <th>1</th>\n",
       "      <td>0</td>\n",
       "      <td>eksploitatif dan sebahagian besarnya tidak mem...</td>\n",
       "    </tr>\n",
       "    <tr>\n",
       "      <th>2</th>\n",
       "      <td>0</td>\n",
       "      <td>Garbus membuang potensi untuk kajian patologi ...</td>\n",
       "    </tr>\n",
       "    <tr>\n",
       "      <th>3</th>\n",
       "      <td>0</td>\n",
       "      <td>senaman lucah tetapi terang secara terang-tera...</td>\n",
       "    </tr>\n",
       "    <tr>\n",
       "      <th>4</th>\n",
       "      <td>0</td>\n",
       "      <td>cerita itu juga tidak asli kerana mereka datan...</td>\n",
       "    </tr>\n",
       "  </tbody>\n",
       "</table>\n",
       "</div>"
      ],
      "text/plain": [
       "   label                                               text\n",
       "0      0  kanak-kanak lelaki remaja yang begitu muda dan...\n",
       "1      0  eksploitatif dan sebahagian besarnya tidak mem...\n",
       "2      0  Garbus membuang potensi untuk kajian patologi ...\n",
       "3      0  senaman lucah tetapi terang secara terang-tera...\n",
       "4      0  cerita itu juga tidak asli kerana mereka datan..."
      ]
     },
     "execution_count": 130,
     "metadata": {},
     "output_type": "execute_result"
    }
   ],
   "source": [
    "# SANITY CHECK\n",
    "df_all.head()"
   ]
  },
  {
   "cell_type": "markdown",
   "metadata": {},
   "source": [
    "## Validation Sets"
   ]
  },
  {
   "cell_type": "markdown",
   "metadata": {},
   "source": [
    "Split the data into train and validation sets. Splitting 10% for validation."
   ]
  },
  {
   "cell_type": "code",
   "execution_count": 131,
   "metadata": {},
   "outputs": [],
   "source": [
    "trn_texts, val_texts = sklearn.model_selection.train_test_split(df_all, test_size=0.1)"
   ]
  },
  {
   "cell_type": "code",
   "execution_count": 132,
   "metadata": {},
   "outputs": [
    {
     "data": {
      "text/plain": [
       "(12850, 1428)"
      ]
     },
     "execution_count": 132,
     "metadata": {},
     "output_type": "execute_result"
    }
   ],
   "source": [
    "# SANITY CHECK\n",
    "len(trn_texts), len(val_texts)"
   ]
  },
  {
   "cell_type": "code",
   "execution_count": 137,
   "metadata": {},
   "outputs": [],
   "source": [
    "np.random.seed(42)\n",
    "\n",
    "trn_idx = np.random.permutation(len(trn_texts)) # generate a random ordering\n",
    "val_idx = np.random.permutation(len(val_texts))\n",
    "\n",
    "df_trn = trn_texts.iloc[trn_idx, :] # sort things randomly\n",
    "df_val = val_texts.iloc[val_idx, :] # sort things randomly"
   ]
  },
  {
   "cell_type": "code",
   "execution_count": 142,
   "metadata": {},
   "outputs": [],
   "source": [
    "df_trn.columns = ['label', 'text']\n",
    "df_val.columns = ['label', 'text']\n",
    "\n",
    "df_trn.to_csv(DATASET_PATH / 'train.csv', header=False, index=False)\n",
    "df_val.to_csv(DATASET_PATH / 'test.csv', header=False, index=False) # saving the data in our new format to disk"
   ]
  },
  {
   "cell_type": "code",
   "execution_count": 145,
   "metadata": {},
   "outputs": [],
   "source": [
    "chunksize = 10000\n",
    "df_trn = pd.read_csv(DATASET_PATH / 'train.csv', header=None, chunksize=chunksize)\n",
    "df_val = pd.read_csv(DATASET_PATH / 'test.csv', header=None, chunksize=chunksize)"
   ]
  },
  {
   "cell_type": "markdown",
   "metadata": {},
   "source": [
    "## Data Preparation"
   ]
  },
  {
   "cell_type": "markdown",
   "metadata": {},
   "source": [
    "We write a simple custom function to perform tokenization. Out of all tokens from all of training set, we chose 60,000 for the vocabulary size (plus one for unknown and another for padding) of tokens which are not rare words (appeared more than twice and not typos) in the training set."
   ]
  },
  {
   "cell_type": "markdown",
   "metadata": {},
   "source": [
    "We perform the following minimal text processing:\n",
    "\n",
    "- The token `xbos` is used to note start of a text since we will be chaining them together for the language model training."
   ]
  },
  {
   "cell_type": "markdown",
   "metadata": {},
   "source": [
    "### Tokenize"
   ]
  },
  {
   "cell_type": "code",
   "execution_count": 150,
   "metadata": {},
   "outputs": [],
   "source": [
    "# Utility functions\n",
    "def get_texts(df, n_lbls=1):\n",
    "    labels = df.iloc[:, range(n_lbls)].values.astype(np.int64)\n",
    "    texts = f'\\n{BOS} {FLD} 1 ' + df[n_lbls].astype(str)\n",
    "    for i in range(n_lbls + 1, len(df.columns)):\n",
    "        texts += f' {FLD} {i - n_lbls} ' + df[i].astype(str)\n",
    "    # texts = texts.apply(fixup).values.astype(str) # create plain text\n",
    "\n",
    "    tok = Tokenizer().proc_all_mp(partition_by_cores(texts)) # splits the list into sublists for processing by each core\n",
    "    # Lower and upper case is inside the tokenizer\n",
    "    return tok, list(labels)\n",
    "\n",
    "def get_all(df, n_lbls):\n",
    "    tok, labels = [], []\n",
    "    for i, r in enumerate(df):\n",
    "        print(i)\n",
    "        #pdb.set_trace()\n",
    "        tok_, labels_ = get_texts(r, n_lbls)\n",
    "        tok += tok_\n",
    "        labels += labels_\n",
    "    return tok, labels"
   ]
  },
  {
   "cell_type": "code",
   "execution_count": 151,
   "metadata": {},
   "outputs": [
    {
     "name": "stdout",
     "output_type": "stream",
     "text": [
      "0\n"
     ]
    },
    {
     "name": "stderr",
     "output_type": "stream",
     "text": [
      "/home/ubuntu/anaconda3/envs/fastai/lib/python3.6/importlib/_bootstrap.py:219: RuntimeWarning: numpy.dtype size changed, may indicate binary incompatibility. Expected 96, got 88\n",
      "  return f(*args, **kwds)\n",
      "/home/ubuntu/anaconda3/envs/fastai/lib/python3.6/importlib/_bootstrap.py:219: RuntimeWarning: numpy.ufunc size changed, may indicate binary incompatibility. Expected 192, got 176\n",
      "  return f(*args, **kwds)\n"
     ]
    },
    {
     "name": "stdout",
     "output_type": "stream",
     "text": [
      "1\n",
      "0\n"
     ]
    }
   ],
   "source": [
    "# Finally, tokenize text data\n",
    "tok_trn, trn_labels = get_all(df_trn, 1)\n",
    "tok_val, val_labels = get_all(df_val, 1)"
   ]
  },
  {
   "cell_type": "code",
   "execution_count": 153,
   "metadata": {
    "collapsed": true
   },
   "outputs": [
    {
     "data": {
      "text/plain": [
       "[['\\n',\n",
       "  'xbos',\n",
       "  'xfld',\n",
       "  '1',\n",
       "  'visi',\n",
       "  'menghantui',\n",
       "  'dengan',\n",
       "  'imej',\n",
       "  'yang',\n",
       "  'kelihatan',\n",
       "  'seperti',\n",
       "  'halusinasi',\n",
       "  'mengganggu'],\n",
       " ['\\n',\n",
       "  'xbos',\n",
       "  'xfld',\n",
       "  '1',\n",
       "  'sampah',\n",
       "  'yang',\n",
       "  'tidak',\n",
       "  'masuk',\n",
       "  'akal',\n",
       "  'seperti',\n",
       "  'ini',\n",
       "  'yang',\n",
       "  'membuat',\n",
       "  'anda',\n",
       "  'menghargai',\n",
       "  'komedi',\n",
       "  'romantis',\n",
       "  'asal',\n",
       "  'seperti',\n",
       "  'cinta',\n",
       "  'punchdrunk']]"
      ]
     },
     "execution_count": 153,
     "metadata": {},
     "output_type": "execute_result"
    }
   ],
   "source": [
    "# SANITY CHECK\n",
    "tok_trn[:2]"
   ]
  },
  {
   "cell_type": "markdown",
   "metadata": {},
   "source": [
    "### Data loader"
   ]
  },
  {
   "cell_type": "code",
   "execution_count": 157,
   "metadata": {},
   "outputs": [],
   "source": [
    "# Create a tmp directory to store the upcoming numpy arrays\n",
    "(TMP_PATH).mkdir(exist_ok=True)\n",
    "\n",
    "# Save the train and validation tokens in the tmp directories\n",
    "np.save(TMP_PATH / 'tok_trn.npy', tok_trn)\n",
    "np.save(TMP_PATH / 'tok_val.npy', tok_val)"
   ]
  },
  {
   "cell_type": "code",
   "execution_count": 158,
   "metadata": {},
   "outputs": [],
   "source": [
    "tok_trn = np.load(TMP_PATH / 'tok_trn.npy')\n",
    "tok_val = np.load(TMP_PATH / 'tok_val.npy')"
   ]
  },
  {
   "cell_type": "code",
   "execution_count": 159,
   "metadata": {},
   "outputs": [
    {
     "data": {
      "text/plain": [
       "array([list(['\\n', 'xbos', 'xfld', '1', 'visi', 'menghantui', 'dengan', 'imej', 'yang', 'kelihatan', 'seperti', 'halusinasi', 'mengganggu']),\n",
       "       list(['\\n', 'xbos', 'xfld', '1', 'sampah', 'yang', 'tidak', 'masuk', 'akal', 'seperti', 'ini', 'yang', 'membuat', 'anda', 'menghargai', 'komedi', 'romantis', 'asal', 'seperti', 'cinta', 'punchdrunk'])],\n",
       "      dtype=object)"
      ]
     },
     "execution_count": 159,
     "metadata": {},
     "output_type": "execute_result"
    }
   ],
   "source": [
    "# SANITY CHECK\n",
    "# get the first 2 train tokens\n",
    "tok_trn[:2]"
   ]
  },
  {
   "cell_type": "markdown",
   "metadata": {},
   "source": [
    "Get the `Counter` object from all the splitted files. Identify the most common tokens."
   ]
  },
  {
   "cell_type": "code",
   "execution_count": 163,
   "metadata": {},
   "outputs": [
    {
     "data": {
      "text/plain": [
       "[('yang', 13305),\n",
       " ('1', 12858),\n",
       " ('\\n', 12850),\n",
       " ('xbos', 12850),\n",
       " ('xfld', 12850),\n",
       " ('dan', 7389),\n",
       " ('tidak', 4095),\n",
       " ('untuk', 3592),\n",
       " ('-', 3476),\n",
       " ('filem', 3276),\n",
       " ('dengan', 2994),\n",
       " ('ini', 2639),\n",
       " ('dalam', 2199),\n",
       " ('di', 2161),\n",
       " ('adalah', 1909),\n",
       " ('tetapi', 1623),\n",
       " ('itu', 1556),\n",
       " ('ia', 1369),\n",
       " ('lebih', 1314),\n",
       " ('anda', 1268),\n",
       " ('mereka', 1254),\n",
       " ('kita', 1222),\n",
       " ('akan', 1199),\n",
       " ('saya', 1167),\n",
       " ('pada', 1047)]"
      ]
     },
     "execution_count": 163,
     "metadata": {},
     "output_type": "execute_result"
    }
   ],
   "source": [
    "freq = Counter(p for o in tok_trn for p in o)\n",
    "freq.most_common(25)"
   ]
  },
  {
   "cell_type": "code",
   "execution_count": 164,
   "metadata": {},
   "outputs": [
    {
     "data": {
      "text/plain": [
       "277225"
      ]
     },
     "execution_count": 164,
     "metadata": {},
     "output_type": "execute_result"
    }
   ],
   "source": [
    "# SANITY CHECK\n",
    "len([p for o in tok_trn for p in o])"
   ]
  },
  {
   "cell_type": "code",
   "execution_count": 165,
   "metadata": {},
   "outputs": [],
   "source": [
    "cnt = []\n",
    "for i in range(49):\n",
    "    row_cnt = freqs[freqs[0]>=i+1].shape[0]\n",
    "    cnt.append(row_cnt)"
   ]
  },
  {
   "cell_type": "code",
   "execution_count": 166,
   "metadata": {},
   "outputs": [
    {
     "data": {
      "text/plain": [
       "<matplotlib.lines.Line2D at 0x7fedfef16a58>"
      ]
     },
     "execution_count": 166,
     "metadata": {},
     "output_type": "execute_result"
    },
    {
     "data": {
      "image/png": "[encoded data removed]",
      "text/plain": [
       "<Figure size 432x288 with 1 Axes>"
      ]
     },
     "metadata": {},
     "output_type": "display_data"
    }
   ],
   "source": [
    "plt.plot(cnt)\n",
    "plt.axvline(x=2, color=\"red\", linestyle=\"--\")"
   ]
  },
  {
   "cell_type": "markdown",
   "metadata": {},
   "source": [
    " ## Numericalize the text"
   ]
  },
  {
   "cell_type": "code",
   "execution_count": 167,
   "metadata": {},
   "outputs": [],
   "source": [
    "# Truncating our vocab to ignore the rare words\n",
    "max_vocab = 60000\n",
    "min_freq = 5"
   ]
  },
  {
   "cell_type": "code",
   "execution_count": 168,
   "metadata": {},
   "outputs": [],
   "source": [
    "itos = [o for o, c in freq.most_common(max_vocab) if c > min_freq] # getting rid of the rare words\n",
    "itos.insert(0, \"_pad_\")\n",
    "itos.insert(0, \"_unk_\") # itos is the list of all the strings in the vocab"
   ]
  },
  {
   "cell_type": "code",
   "execution_count": 169,
   "metadata": {},
   "outputs": [
    {
     "data": {
      "text/plain": [
       "3826"
      ]
     },
     "execution_count": 169,
     "metadata": {},
     "output_type": "execute_result"
    }
   ],
   "source": [
    "# Creating a index-key dictionary for our vocabulary\n",
    "stoi = collections.defaultdict(lambda: 0, {v:k for k, v in enumerate(itos)})\n",
    "len(itos)"
   ]
  },
  {
   "cell_type": "code",
   "execution_count": 170,
   "metadata": {},
   "outputs": [],
   "source": [
    "# Creating a index representation for our train and validation dataset\n",
    "trn_lm = np.array([[stoi[o] for o in p] for p in tok_trn])\n",
    "val_lm = np.array([[stoi[o] for o in p] for p in tok_val])"
   ]
  },
  {
   "cell_type": "code",
   "execution_count": 172,
   "metadata": {},
   "outputs": [
    {
     "data": {
      "text/plain": [
       "array([list([4, 5, 6, 3, 1476, 1417, 12, 471, 2, 164, 28, 0, 538]),\n",
       "       list([4, 5, 6, 3, 757, 2, 8, 181, 226, 28, 13, 2, 58, 21, 1160, 85, 253, 415, 28, 172, 0]),\n",
       "       list([4, 5, 6, 3, 19, 585, 12, 0, 0, 2, 8, 356, 7, 3071, 183, 2, 109, 8, 44, 0])], dtype=object)"
      ]
     },
     "execution_count": 172,
     "metadata": {},
     "output_type": "execute_result"
    }
   ],
   "source": [
    "# SANITY CHECK\n",
    "trn_lm[:3]"
   ]
  },
  {
   "cell_type": "code",
   "execution_count": 174,
   "metadata": {},
   "outputs": [],
   "source": [
    "# Create a pkl directory to store the upcoming pickled object\n",
    "(PKL_PATH).mkdir(exist_ok=True)"
   ]
  },
  {
   "cell_type": "code",
   "execution_count": 175,
   "metadata": {},
   "outputs": [],
   "source": [
    "# Saving our indexed representation of our dataset to disk.\n",
    "# We also save the index-word mapping to retrieve the complete text representation from these numpy arrays\n",
    "np.save(TMP_PATH / 'trn_ids.npy', trn_lm)\n",
    "np.save(TMP_PATH / 'val_ids.npy', val_lm)\n",
    "pickle.dump(itos, open(PKL_PATH / 'itos.pkl', 'wb'))"
   ]
  },
  {
   "cell_type": "code",
   "execution_count": 176,
   "metadata": {},
   "outputs": [],
   "source": [
    "# Loading the indexed representation of our dataset from disk.\n",
    "# We also load the index-word mapping to to help us convert the indexes to word datasets, if need be.\n",
    "trn_lm = np.load(TMP_PATH / 'trn_ids.npy')\n",
    "val_lm = np.load(TMP_PATH / 'val_ids.npy')\n",
    "itos = pickle.load(open(PKL_PATH / 'itos.pkl', 'rb'))"
   ]
  },
  {
   "cell_type": "code",
   "execution_count": 178,
   "metadata": {},
   "outputs": [
    {
     "data": {
      "text/plain": [
       "(3826, 12850, 1428)"
      ]
     },
     "execution_count": 178,
     "metadata": {},
     "output_type": "execute_result"
    }
   ],
   "source": [
    "# Check vocabulary size\n",
    "vocab_size = len(itos)\n",
    "trn_set_size = len(trn_lm)\n",
    "val_set_size = len(val_lm)\n",
    "vocab_size, trn_set_size, val_set_size"
   ]
  },
  {
   "cell_type": "code",
   "execution_count": 180,
   "metadata": {},
   "outputs": [
    {
     "data": {
      "text/plain": [
       "array([list([4, 5, 6, 3, 1476, 1417, 12, 471, 2, 164, 28, 0, 538]),\n",
       "       list([4, 5, 6, 3, 757, 2, 8, 181, 226, 28, 13, 2, 58, 21, 1160, 85, 253, 415, 28, 172, 0]),\n",
       "       list([4, 5, 6, 3, 19, 585, 12, 0, 0, 2, 8, 356, 7, 3071, 183, 2, 109, 8, 44, 0])], dtype=object)"
      ]
     },
     "execution_count": 180,
     "metadata": {},
     "output_type": "execute_result"
    }
   ],
   "source": [
    "# SANITY CHECK\n",
    "trn_lm[:3]"
   ]
  },
  {
   "cell_type": "markdown",
   "metadata": {},
   "source": [
    "## Model Setup"
   ]
  },
  {
   "cell_type": "markdown",
   "metadata": {},
   "source": [
    "Set hyper-parameters"
   ]
  },
  {
   "cell_type": "code",
   "execution_count": 339,
   "metadata": {},
   "outputs": [],
   "source": [
    "em_sz = 400  # size of each embedding vector\n",
    "nh = 1150    # number of hidden activations per layer\n",
    "nl = 3       # number of layers\n",
    "\n",
    "wd = 1e-7\n",
    "bptt = 70\n",
    "bs = 64\n",
    "# opt_fn = partial(optim.Adam, betas=(0.8, 0.99))\n",
    "opt_fn = partial(optim.SGD, momentum=0.9)\n",
    "weight_factor = 0.1 # was 0.3"
   ]
  },
  {
   "cell_type": "markdown",
   "metadata": {},
   "source": [
    "#### Load weights for the pre-trained model for Malay Wikipedia dataset"
   ]
  },
  {
   "cell_type": "code",
   "execution_count": 183,
   "metadata": {},
   "outputs": [],
   "source": [
    "PRETRAINED_LM_PATH = MODELS_PATH / 'lm_malay_final.h5'"
   ]
  },
  {
   "cell_type": "code",
   "execution_count": 184,
   "metadata": {},
   "outputs": [],
   "source": [
    "wgts = torch.load(PRETRAINED_LM_PATH, map_location=lambda storage, loc: storage)"
   ]
  },
  {
   "cell_type": "code",
   "execution_count": 185,
   "metadata": {},
   "outputs": [],
   "source": [
    "enc_wgts = to_np(wgts['0.encoder.weight'])\n",
    "row_m = enc_wgts.mean(0)"
   ]
  },
  {
   "cell_type": "code",
   "execution_count": 188,
   "metadata": {},
   "outputs": [],
   "source": [
    "itos_wiki = pickle.load((PRETRAINED_WIKI_LM_PATH / 'itos.pkl').open('rb'))\n",
    "stoi_wiki = collections.defaultdict(lambda:-1, {v:k for k, v in enumerate(itos_wiki)})"
   ]
  },
  {
   "cell_type": "markdown",
   "metadata": {},
   "source": [
    "Map Malaya vocab to Wikipedia LM embeddings:"
   ]
  },
  {
   "cell_type": "code",
   "execution_count": 190,
   "metadata": {},
   "outputs": [],
   "source": [
    "new_w = np.zeros((vocab_size, em_sz), dtype=np.float32)\n",
    "\n",
    "for i, w in enumerate(itos):\n",
    "    r = stoi_wiki[w]\n",
    "    new_w[i] = enc_wgts[r] if r >= 0 else row_m"
   ]
  },
  {
   "cell_type": "markdown",
   "metadata": {},
   "source": [
    "Update Wikipedia LM weights"
   ]
  },
  {
   "cell_type": "code",
   "execution_count": 191,
   "metadata": {},
   "outputs": [],
   "source": [
    "wgts['0.encoder.weight'] = T(new_w)\n",
    "wgts['0.encoder_with_dropout.embed.weight'] = T(np.copy(new_w))\n",
    "wgts['1.decoder.weight'] = T(np.copy(new_w))"
   ]
  },
  {
   "cell_type": "markdown",
   "metadata": {},
   "source": [
    "### Language Model"
   ]
  },
  {
   "cell_type": "code",
   "execution_count": 192,
   "metadata": {},
   "outputs": [],
   "source": [
    "# if you're overfitting, increase this. Underfitting? decrease this.\n",
    "drops = np.array([0.25, 0.1, 0.2, 0.02, 0.15]) * weight_factor"
   ]
  },
  {
   "cell_type": "code",
   "execution_count": 193,
   "metadata": {},
   "outputs": [
    {
     "name": "stdout",
     "output_type": "stream",
     "text": [
      "CPU times: user 0 ns, sys: 0 ns, total: 0 ns\n",
      "Wall time: 6.44 µs\n"
     ]
    }
   ],
   "source": [
    "%time\n",
    "trn_dl = LanguageModelLoader(np.concatenate(trn_lm), bs, bptt)\n",
    "val_dl = LanguageModelLoader(np.concatenate(val_lm), bs, bptt)\n",
    "md = LanguageModelData(DATASET_PATH, pad_idx=1, n_tok=vocab_size, trn_dl=trn_dl, val_dl=val_dl, bs=bs, bptt=bptt)"
   ]
  },
  {
   "cell_type": "code",
   "execution_count": 340,
   "metadata": {},
   "outputs": [],
   "source": [
    "learner= md.get_model(opt_fn, em_sz, nh, nl, \n",
    "    dropouti=drops[0], dropout=drops[1], wdrop=drops[2], dropoute=drops[3], dropouth=drops[4])\n",
    "\n",
    "learner.metrics = [accuracy]\n",
    "# learner.clip = 0.2\n",
    "learner.freeze_to(-1)"
   ]
  },
  {
   "cell_type": "code",
   "execution_count": 341,
   "metadata": {},
   "outputs": [],
   "source": [
    "learner.model.load_state_dict(wgts)"
   ]
  },
  {
   "cell_type": "markdown",
   "metadata": {},
   "source": [
    "#### AWD-LSTM network"
   ]
  },
  {
   "cell_type": "code",
   "execution_count": 342,
   "metadata": {},
   "outputs": [
    {
     "data": {
      "text/plain": [
       "<bound method Learner.summary of SequentialRNN(\n",
       "  (0): RNN_Encoder(\n",
       "    (encoder): Embedding(3826, 400, padding_idx=1)\n",
       "    (encoder_with_dropout): EmbeddingDropout(\n",
       "      (embed): Embedding(3826, 400, padding_idx=1)\n",
       "    )\n",
       "    (rnns): ModuleList(\n",
       "      (0): WeightDrop(\n",
       "        (module): LSTM(400, 1150)\n",
       "      )\n",
       "      (1): WeightDrop(\n",
       "        (module): LSTM(1150, 1150)\n",
       "      )\n",
       "      (2): WeightDrop(\n",
       "        (module): LSTM(1150, 400)\n",
       "      )\n",
       "    )\n",
       "    (dropouti): LockedDropout()\n",
       "    (dropouths): ModuleList(\n",
       "      (0): LockedDropout()\n",
       "      (1): LockedDropout()\n",
       "      (2): LockedDropout()\n",
       "    )\n",
       "  )\n",
       "  (1): LinearDecoder(\n",
       "    (decoder): Linear(in_features=400, out_features=3826, bias=False)\n",
       "    (dropout): LockedDropout()\n",
       "  )\n",
       ")>"
      ]
     },
     "execution_count": 342,
     "metadata": {},
     "output_type": "execute_result"
    }
   ],
   "source": [
    "learner.summary"
   ]
  },
  {
   "cell_type": "markdown",
   "metadata": {},
   "source": [
    "### Train"
   ]
  },
  {
   "cell_type": "markdown",
   "metadata": {},
   "source": [
    "**Hyper-parameter search**\n",
    "\n",
    "Properly setting the hyper-parameters of a neural network can be challenging, thankfully, there are some technique that can help.\n",
    "\n",
    "We will speed up training using Leslie Smith's work on 1cycle policy that he described the [super-convergence] phenomenon in this [paper](https://arxiv.org/abs/1708.07120). Here's an [application of super-convergence to win the DAWNBench challenge](http://www.fast.ai/2018/04/30/dawnbench-fastai/).\n",
    "\n",
    "Based on my own experiments with this method previously, the AWS-LSTM model converged faster, instead of 15 epochs, now it takes just 10 epochs.\n",
    "\n",
    "We will be using an [implementation of this method](http://forums.fast.ai/t/the-1cycle-policy-an-experiment-that-investigate-super-convergence-phenomenon-described-in-leslie-smiths-research/14737):\n",
    "- A simple guide on how to use 1cycle policy [Cyclical Learning Rate (CLR)](http://forums.fast.ai/t/using-use-clr-beta-and-new-plotting-tools/14702)\n",
    "- Some [tips on super-convergence(ish) on WikiText-2](http://forums.fast.ai/t/super-convergence-ish-on-wikitext-2/17091), a similar LM task like ours."
   ]
  },
  {
   "cell_type": "code",
   "execution_count": 343,
   "metadata": {},
   "outputs": [
    {
     "data": {
      "application/vnd.jupyter.widget-view+json": {
       "model_id": "e0a85e41dd8a4bb989a3c798b8cc0f6b",
       "version_major": 2,
       "version_minor": 0
      },
      "text/plain": [
       "HBox(children=(IntProgress(value=0, description='Epoch', max=1), HTML(value='')))"
      ]
     },
     "metadata": {},
     "output_type": "display_data"
    },
    {
     "name": "stdout",
     "output_type": "stream",
     "text": [
      " 97%|█████████▋| 58/60 [00:17<00:00,  3.30it/s, loss=22.1]"
     ]
    }
   ],
   "source": [
    "# Find learning rate\n",
    "learner.lr_find(wds=wd, end_lr=1000)"
   ]
  },
  {
   "cell_type": "code",
   "execution_count": 345,
   "metadata": {
    "collapsed": true
   },
   "outputs": [
    {
     "data": {
      "image/png": "[encoded data removed]",
      "text/plain": [
       "<Figure size 432x288 with 1 Axes>"
      ]
     },
     "metadata": {},
     "output_type": "display_data"
    }
   ],
   "source": [
    "learner.sched.plot()"
   ]
  },
  {
   "cell_type": "code",
   "execution_count": 346,
   "metadata": {},
   "outputs": [],
   "source": [
    "# Set learning rate\n",
    "lr = 10 # 8e-4\n",
    "lrs = lr"
   ]
  },
  {
   "cell_type": "code",
   "execution_count": 347,
   "metadata": {},
   "outputs": [
    {
     "name": "stdout",
     "output_type": "stream",
     "text": [
      "CPU times: user 0 ns, sys: 0 ns, total: 0 ns\n",
      "Wall time: 5.96 µs\n"
     ]
    },
    {
     "data": {
      "application/vnd.jupyter.widget-view+json": {
       "model_id": "cd1641ccf79942ee88097c182c72967b",
       "version_major": 2,
       "version_minor": 0
      },
      "text/plain": [
       "HBox(children=(IntProgress(value=0, description='Epoch', max=1), HTML(value='')))"
      ]
     },
     "metadata": {},
     "output_type": "display_data"
    },
    {
     "name": "stdout",
     "output_type": "stream",
     "text": [
      "epoch      trn_loss   val_loss   accuracy                 \n",
      "    0      4.557393   4.237017   0.312686  \n"
     ]
    },
    {
     "data": {
      "text/plain": [
       "[4.23701696395874, 0.3126858949661255]"
      ]
     },
     "execution_count": 347,
     "metadata": {},
     "output_type": "execute_result"
    }
   ],
   "source": [
    "%time\n",
    "learner.fit(lrs / 2, 1, wds=wd, use_clr=(32, 2), cycle_len=1)"
   ]
  },
  {
   "cell_type": "code",
   "execution_count": 348,
   "metadata": {
    "collapsed": true
   },
   "outputs": [
    {
     "data": {
      "image/png": "[encoded data removed]",
      "text/plain": [
       "<Figure size 432x288 with 1 Axes>"
      ]
     },
     "metadata": {},
     "output_type": "display_data"
    }
   ],
   "source": [
    "learner.sched.plot_loss()"
   ]
  },
  {
   "cell_type": "code",
   "execution_count": 349,
   "metadata": {
    "collapsed": true
   },
   "outputs": [
    {
     "data": {
      "image/png": "[encoded data removed]",
      "text/plain": [
       "<Figure size 432x288 with 1 Axes>"
      ]
     },
     "metadata": {},
     "output_type": "display_data"
    }
   ],
   "source": [
    "learner.sched.plot_lr()"
   ]
  },
  {
   "cell_type": "code",
   "execution_count": 352,
   "metadata": {},
   "outputs": [
    {
     "name": "stdout",
     "output_type": "stream",
     "text": [
      "CPU times: user 0 ns, sys: 0 ns, total: 0 ns\n",
      "Wall time: 6.44 µs\n"
     ]
    },
    {
     "data": {
      "application/vnd.jupyter.widget-view+json": {
       "model_id": "63811d9c4ec74beeb3fc99d6fbde3831",
       "version_major": 2,
       "version_minor": 0
      },
      "text/plain": [
       "HBox(children=(IntProgress(value=0, description='Epoch', max=5), HTML(value='')))"
      ]
     },
     "metadata": {},
     "output_type": "display_data"
    },
    {
     "name": "stdout",
     "output_type": "stream",
     "text": [
      "epoch      trn_loss   val_loss   accuracy                 \n",
      "    0      4.279974   4.146692   0.314382  \n",
      "    1      4.162824   4.110045   0.318157                 \n",
      "    2      4.10558    4.096226   0.31969                  \n",
      "    3      4.067971   4.091104   0.319405                 \n",
      "    4      4.039491   4.080481   0.321299                 \n"
     ]
    },
    {
     "data": {
      "text/plain": [
       "[4.080480575561523, 0.32129873633384703]"
      ]
     },
     "execution_count": 352,
     "metadata": {},
     "output_type": "execute_result"
    }
   ],
   "source": [
    "%time\n",
    "learner.fit(lrs / 2, 5, wds=wd, use_clr=(32, 2), cycle_len=1)"
   ]
  },
  {
   "cell_type": "code",
   "execution_count": 353,
   "metadata": {},
   "outputs": [],
   "source": [
    "learner.save('lm_malay_class_freeze_to_neg_1')"
   ]
  },
  {
   "cell_type": "code",
   "execution_count": 355,
   "metadata": {},
   "outputs": [],
   "source": [
    "learner.load('lm_malay_class_freeze_to_neg_1')"
   ]
  },
  {
   "cell_type": "code",
   "execution_count": 356,
   "metadata": {},
   "outputs": [
    {
     "name": "stdout",
     "output_type": "stream",
     "text": [
      "CPU times: user 0 ns, sys: 0 ns, total: 0 ns\n",
      "Wall time: 5.96 µs\n"
     ]
    },
    {
     "data": {
      "application/vnd.jupyter.widget-view+json": {
       "model_id": "473ff4c46436401f84392853d21a58e5",
       "version_major": 2,
       "version_minor": 0
      },
      "text/plain": [
       "HBox(children=(IntProgress(value=0, description='Epoch', max=1), HTML(value='')))"
      ]
     },
     "metadata": {},
     "output_type": "display_data"
    },
    {
     "name": "stdout",
     "output_type": "stream",
     "text": [
      "epoch      trn_loss   val_loss   accuracy                 \n",
      "    0      4.011796   4.072989   0.321525  \n"
     ]
    },
    {
     "data": {
      "text/plain": [
       "[4.072989368438721, 0.321524578332901]"
      ]
     },
     "execution_count": 356,
     "metadata": {},
     "output_type": "execute_result"
    }
   ],
   "source": [
    "%time\n",
    "learner.fit(lrs / 2, 1, wds=wd, use_clr=(32, 2), cycle_len=1)"
   ]
  },
  {
   "cell_type": "code",
   "execution_count": 357,
   "metadata": {},
   "outputs": [],
   "source": [
    "learner.save('lm_malay_class_freeze_to_neg_2')"
   ]
  },
  {
   "cell_type": "code",
   "execution_count": 372,
   "metadata": {},
   "outputs": [],
   "source": [
    "learner.load('lm_malay_class_freeze_to_neg_2')"
   ]
  },
  {
   "cell_type": "code",
   "execution_count": 373,
   "metadata": {},
   "outputs": [],
   "source": [
    "learner.unfreeze()"
   ]
  },
  {
   "cell_type": "code",
   "execution_count": 335,
   "metadata": {},
   "outputs": [
    {
     "name": "stdout",
     "output_type": "stream",
     "text": [
      "CPU times: user 0 ns, sys: 0 ns, total: 0 ns\n",
      "Wall time: 6.2 µs\n"
     ]
    },
    {
     "data": {
      "application/vnd.jupyter.widget-view+json": {
       "model_id": "09296e59b0c442da87bac60c3ecd4744",
       "version_major": 2,
       "version_minor": 0
      },
      "text/plain": [
       "HBox(children=(IntProgress(value=0, description='Epoch', max=17), HTML(value='')))"
      ]
     },
     "metadata": {},
     "output_type": "display_data"
    },
    {
     "name": "stdout",
     "output_type": "stream",
     "text": [
      " 67%|██████▋   | 40/60 [00:21<00:10,  1.83it/s, loss=4.04]"
     ]
    }
   ],
   "source": [
    "%time\n",
    "learner.lr_find2(num_it=1000)"
   ]
  },
  {
   "cell_type": "code",
   "execution_count": 336,
   "metadata": {
    "collapsed": true
   },
   "outputs": [
    {
     "data": {
      "image/png": "[encoded data removed]",
      "text/plain": [
       "<Figure size 432x864 with 3 Axes>"
      ]
     },
     "metadata": {},
     "output_type": "display_data"
    }
   ],
   "source": [
    "learner.sched.plot()"
   ]
  },
  {
   "cell_type": "code",
   "execution_count": 374,
   "metadata": {},
   "outputs": [],
   "source": [
    "# Set learning rate\n",
    "lr = 0.2"
   ]
  },
  {
   "cell_type": "code",
   "execution_count": 375,
   "metadata": {
    "scrolled": true
   },
   "outputs": [
    {
     "data": {
      "application/vnd.jupyter.widget-view+json": {
       "model_id": "63649b99fad6466786991430aa3a05b2",
       "version_major": 2,
       "version_minor": 0
      },
      "text/plain": [
       "HBox(children=(IntProgress(value=0, description='Epoch', max=35), HTML(value='')))"
      ]
     },
     "metadata": {},
     "output_type": "display_data"
    },
    {
     "name": "stdout",
     "output_type": "stream",
     "text": [
      "epoch      trn_loss   val_loss   accuracy                 \n",
      "    0      3.93971    4.062815   0.323597  \n",
      "    1      3.944369   4.056571   0.324446                 \n",
      "    2      3.942275   4.052528   0.324996                 \n",
      "    3      3.922854   4.048201   0.324064                 \n",
      "    4      3.920488   4.050364   0.324513                 \n",
      "    5      3.911295   4.044723   0.324969                 \n",
      "    6      3.911793   4.041389   0.3254                   \n",
      "    7      3.888138   4.042178   0.324721                 \n",
      "    8      3.890764   4.037525   0.324507                 \n",
      "    9      3.886849   4.038192   0.325428                 \n",
      "    10     3.873382   4.038133   0.325122                 \n",
      "    11     3.862077   4.036903   0.325535                 \n",
      "    12     3.848454   4.036697   0.325639                 \n",
      "    13     3.853029   4.036057   0.324585                 \n",
      "    14     3.847879   4.034303   0.326148                 \n",
      "    15     3.849181   4.032324   0.326076                 \n",
      "    16     3.842216   4.032727   0.325746                 \n",
      "    17     3.833133   4.041092   0.32617                  \n",
      "    18     3.829107   4.054044   0.322883                 \n",
      "    19     3.81791    4.031055   0.325901                 \n",
      "    20     3.817275   4.030974   0.326034                 \n",
      "    21     3.796989   4.032776   0.325293                 \n",
      "    22     3.796099   4.044648   0.323809                 \n",
      "    23     3.800848   4.02953    0.325788                 \n",
      "    24     3.800919   4.030832   0.325911                 \n",
      "    25     3.790087   4.039165   0.324491                 \n",
      "    26     3.784231   4.026215   0.326921                 \n",
      "    27     3.767513   4.031517   0.325988                 \n",
      "    28     3.770868   4.030113   0.325957                 \n",
      "    29     3.777696   4.029535   0.32643                  \n",
      "    30     3.779141   4.03269    0.325296                 \n",
      "    31     3.767664   4.024541   0.326583                 \n",
      "    32     3.767208   4.030332   0.325215                 \n",
      "    33     3.760545   4.026184   0.325789                 \n",
      "    34     3.750099   4.027839   0.32585                  \n"
     ]
    },
    {
     "data": {
      "text/plain": [
       "[4.02783899307251, 0.32585022449493406]"
      ]
     },
     "execution_count": 375,
     "metadata": {},
     "output_type": "execute_result"
    }
   ],
   "source": [
    "learner.fit(lr, 1, wds=wd, cycle_len=35, use_clr=(10,33,0.95,0.85), best_save_name='best_lm_malay_class_1cycle')"
   ]
  },
  {
   "cell_type": "code",
   "execution_count": 378,
   "metadata": {
    "collapsed": true
   },
   "outputs": [
    {
     "data": {
      "image/png": "[encoded data removed]",
      "text/plain": [
       "<Figure size 432x288 with 1 Axes>"
      ]
     },
     "metadata": {},
     "output_type": "display_data"
    }
   ],
   "source": [
    "learner.sched.plot_loss()"
   ]
  },
  {
   "cell_type": "code",
   "execution_count": 379,
   "metadata": {
    "collapsed": true
   },
   "outputs": [
    {
     "data": {
      "image/png": "[encoded data removed]",
      "text/plain": [
       "<Figure size 864x288 with 2 Axes>"
      ]
     },
     "metadata": {},
     "output_type": "display_data"
    }
   ],
   "source": [
    "learner.sched.plot_lr()"
   ]
  },
  {
   "cell_type": "markdown",
   "metadata": {},
   "source": [
    "#### Save weights"
   ]
  },
  {
   "cell_type": "code",
   "execution_count": 376,
   "metadata": {},
   "outputs": [],
   "source": [
    "learner.save('lm_malay_class_final')"
   ]
  },
  {
   "cell_type": "code",
   "execution_count": 377,
   "metadata": {},
   "outputs": [],
   "source": [
    "learner.save_encoder('lm_malay_class_enc_final')"
   ]
  },
  {
   "cell_type": "markdown",
   "metadata": {},
   "source": [
    "**Train again**"
   ]
  },
  {
   "cell_type": "code",
   "execution_count": 364,
   "metadata": {
    "scrolled": true
   },
   "outputs": [
    {
     "data": {
      "application/vnd.jupyter.widget-view+json": {
       "model_id": "3e2018b7e1f94a979108969d015e4abb",
       "version_major": 2,
       "version_minor": 0
      },
      "text/plain": [
       "HBox(children=(IntProgress(value=0, description='Epoch', max=50), HTML(value='')))"
      ]
     },
     "metadata": {},
     "output_type": "display_data"
    },
    {
     "name": "stdout",
     "output_type": "stream",
     "text": [
      "epoch      trn_loss   val_loss   accuracy                 \n",
      "    0      3.95441    4.069766   0.323256  \n",
      "    1      3.961234   4.061223   0.324558                 \n",
      "    2      3.932805   4.051805   0.32403                  \n",
      "    3      3.924991   4.047925   0.325088                 \n",
      "    4      3.915586   4.048385   0.325423                 \n",
      "    5      3.916731   4.046061   0.324297                 \n",
      "    6      3.900932   4.039335   0.325086                 \n",
      "    7      3.8882     4.040588   0.32538                  \n",
      "    8      3.886258   4.039876   0.325064                 \n",
      "    9      3.876345   4.036779   0.325418                 \n",
      "    10     3.864198   4.037971   0.32509                  \n",
      "    11     3.862805   4.033976   0.32579                  \n",
      "    12     3.859321   4.034552   0.325575                 \n",
      "    13     3.851479   4.035933   0.325433                 \n",
      "    14     3.837702   4.033878   0.325492                 \n",
      "    15     3.839188   4.032169   0.325182                 \n",
      "    16     3.839225   4.035009   0.325171                 \n",
      "    17     3.828895   4.031187   0.325268                 \n",
      "    18     3.829929   4.031475   0.325764                 \n",
      "    19     3.817046   4.034944   0.325359                 \n",
      "    20     3.817931   4.030055   0.326054                 \n",
      "    21     3.803352   4.029732   0.325769                 \n",
      "    22     3.803113   4.030535   0.326051                 \n",
      "    23     3.80369    4.030862   0.326004                 \n",
      "    24     3.788175   4.031593   0.326486                 \n",
      "    25     3.791939   4.029473   0.326494                 \n",
      "    26     3.783948   4.029633   0.326374                 \n",
      "    27     3.773912   4.0329     0.32536                  \n",
      "    28     3.768236   4.032574   0.326018                 \n",
      "    29     3.770565   4.028705   0.326208                 \n",
      "    30     3.765848   4.028055   0.326269                 \n",
      "    31     3.760632   4.028798   0.325854                 \n",
      "    32     3.76017    4.035553   0.325783                 \n",
      "    33     3.756149   4.033288   0.326616                 \n",
      "    34     3.741102   4.028007   0.326055                 \n",
      "    35     3.727138   4.024369   0.326835                 \n",
      "    36     3.730329   4.025592   0.326525                 \n",
      "    37     3.72805    4.027959   0.326126                 \n",
      "    38     3.720734   4.028491   0.326557                 \n",
      "    39     3.733287   4.031516   0.325325                 \n",
      "    40     3.724342   4.027349   0.325668                 \n",
      "    41     3.715825   4.030975   0.325902                 \n",
      "    42     3.699879   4.035151   0.325241                 \n",
      "    43     3.694182   4.031491   0.326335                 \n",
      "    44     3.696761   4.031341   0.325807                 \n",
      "    45     3.692049   4.037212   0.323751                 \n",
      "    46     3.71258    4.032262   0.325212                 \n",
      "    47     3.712668   4.030954   0.325411                 \n",
      "    48     3.691792   4.032766   0.325583                 \n",
      "    49     3.690531   4.033368   0.325362                 \n"
     ]
    },
    {
     "data": {
      "text/plain": [
       "[4.033368062973023, 0.3253615975379944]"
      ]
     },
     "execution_count": 364,
     "metadata": {},
     "output_type": "execute_result"
    }
   ],
   "source": [
    "learner.fit(lr, 1, wds=wd, cycle_len=50, use_clr=(10,33,0.95,0.85), best_save_name='best_lm_malay_class_1cycle')"
   ]
  },
  {
   "cell_type": "code",
   "execution_count": 365,
   "metadata": {
    "collapsed": true
   },
   "outputs": [
    {
     "data": {
      "image/png": "[encoded data removed]",
      "text/plain": [
       "<Figure size 432x288 with 1 Axes>"
      ]
     },
     "metadata": {},
     "output_type": "display_data"
    }
   ],
   "source": [
    "learner.sched.plot_loss()"
   ]
  },
  {
   "cell_type": "code",
   "execution_count": 366,
   "metadata": {
    "collapsed": true
   },
   "outputs": [
    {
     "data": {
      "image/png": "[encoded data removed]",
      "text/plain": [
       "<Figure size 864x288 with 2 Axes>"
      ]
     },
     "metadata": {},
     "output_type": "display_data"
    }
   ],
   "source": [
    "learner.sched.plot_lr()"
   ]
  },
  {
   "cell_type": "code",
   "execution_count": 367,
   "metadata": {},
   "outputs": [],
   "source": [
    "# save weights\n",
    "learner.save('lm_malay_class_1')"
   ]
  },
  {
   "cell_type": "markdown",
   "metadata": {},
   "source": [
    "#### Results"
   ]
  },
  {
   "cell_type": "markdown",
   "metadata": {},
   "source": [
    "The best model is `lm_malay_class_final`.\n",
    "\n",
    "Let's see how our model did. Losses after 35 epochs:\n",
    "- Training: 3.750099\n",
    "- Validation: **4.027839**\n",
    "\n",
    "Accuracy: 0.32585 (32.6%)"
   ]
  },
  {
   "cell_type": "code",
   "execution_count": 380,
   "metadata": {},
   "outputs": [
    {
     "data": {
      "text/plain": [
       "56.13946269035133"
      ]
     },
     "execution_count": 380,
     "metadata": {},
     "output_type": "execute_result"
    }
   ],
   "source": [
    "np.exp(4.027839)"
   ]
  },
  {
   "cell_type": "markdown",
   "metadata": {},
   "source": [
    "**Analysis**:\n",
    "\n",
    "The **perplexity** of this language model after 35 epochs is **56.13946** (accuracy of 32.6%).\n",
    "\n",
    "On one Tesla K80 GPU, the full training took me ~20 minutes."
   ]
  },
  {
   "cell_type": "markdown",
   "metadata": {},
   "source": [
    "## Classifier tokens"
   ]
  },
  {
   "cell_type": "markdown",
   "metadata": {},
   "source": [
    "Let's now create the classifier. We will go through this pretty quickly because it's the same."
   ]
  },
  {
   "cell_type": "code",
   "execution_count": 381,
   "metadata": {},
   "outputs": [],
   "source": [
    "chunksize = 10000\n",
    "df_trn = pd.read_csv(DATASET_PATH / 'train.csv', header=None, chunksize=chunksize)\n",
    "df_val = pd.read_csv(DATASET_PATH / 'test.csv', header=None, chunksize=chunksize)"
   ]
  },
  {
   "cell_type": "code",
   "execution_count": 382,
   "metadata": {},
   "outputs": [
    {
     "name": "stdout",
     "output_type": "stream",
     "text": [
      "0\n",
      "1\n",
      "0\n"
     ]
    }
   ],
   "source": [
    "# Tokenize text data\n",
    "tok_trn, trn_labels = get_all(df_trn, 1)\n",
    "tok_val, val_labels = get_all(df_val, 1)"
   ]
  },
  {
   "cell_type": "code",
   "execution_count": 383,
   "metadata": {},
   "outputs": [],
   "source": [
    "# Create a tmp directory to store the upcoming numpy arrays\n",
    "(TMP_PATH).mkdir(exist_ok=True)\n",
    "\n",
    "# Save the train and validation tokens in the tmp directories\n",
    "np.save(TMP_PATH / 'malaya_tok_trn.npy', tok_trn)\n",
    "np.save(TMP_PATH / 'malaya_tok_val.npy', tok_val)\n",
    "\n",
    "# Save the train and validation labels in the tmp directories\n",
    "np.save(TMP_PATH / 'malaya_trn_labels.npy', trn_labels)\n",
    "np.save(TMP_PATH / 'malaya_val_labels.npy', val_labels)"
   ]
  },
  {
   "cell_type": "code",
   "execution_count": 384,
   "metadata": {},
   "outputs": [],
   "source": [
    "# Load Malaya tokens\n",
    "tok_trn = np.load(TMP_PATH / 'malaya_tok_trn.npy')\n",
    "tok_val = np.load(TMP_PATH / 'malaya_tok_val.npy')"
   ]
  },
  {
   "cell_type": "markdown",
   "metadata": {},
   "source": [
    "We don't create a new `itos` vocabulary, we obviously want to use the same vocabulary we had in the language model because we are about to reload the same encoder."
   ]
  },
  {
   "cell_type": "code",
   "execution_count": 385,
   "metadata": {},
   "outputs": [
    {
     "data": {
      "text/plain": [
       "3826"
      ]
     },
     "execution_count": 385,
     "metadata": {},
     "output_type": "execute_result"
    }
   ],
   "source": [
    "itos = pickle.load(open(PKL_PATH / 'itos.pkl', 'rb'))\n",
    "\n",
    "# Creating a index-key dictionary for our vocabulary\n",
    "stoi = collections.defaultdict(lambda: 0, {v:k for k, v in enumerate(itos)})\n",
    "len(itos)"
   ]
  },
  {
   "cell_type": "code",
   "execution_count": 386,
   "metadata": {},
   "outputs": [],
   "source": [
    "trn_clas = np.array([[stoi[o] for o in p] for p in tok_trn])\n",
    "val_clas = np.array([[stoi[o] for o in p] for p in tok_val])"
   ]
  },
  {
   "cell_type": "code",
   "execution_count": 387,
   "metadata": {},
   "outputs": [],
   "source": [
    "np.save(TMP_PATH / 'malaya_trn_ids.npy', trn_clas)\n",
    "np.save(TMP_PATH / 'malaya_val_ids.npy', val_clas)"
   ]
  },
  {
   "cell_type": "markdown",
   "metadata": {},
   "source": [
    "## Classifier"
   ]
  },
  {
   "cell_type": "markdown",
   "metadata": {},
   "source": [
    "Now we can create our final model, a classifier which is really a custom linear head over our trained 'Malaya' backbone. The steps to create the classifier model are similar to the ones for the LM.\n",
    "\n",
    "_Note: the following codes originated from lesson 10 \"transfer learning for NLP and NLP classification\" notebooks._"
   ]
  },
  {
   "cell_type": "code",
   "execution_count": 388,
   "metadata": {},
   "outputs": [],
   "source": [
    "trn_clas = np.load(TMP_PATH / 'malaya_trn_ids.npy')\n",
    "val_clas = np.load(TMP_PATH / 'malaya_val_ids.npy')"
   ]
  },
  {
   "cell_type": "code",
   "execution_count": 389,
   "metadata": {},
   "outputs": [],
   "source": [
    "trn_labels = np.squeeze(np.load(TMP_PATH / 'malaya_trn_labels.npy'))\n",
    "val_labels = np.squeeze(np.load(TMP_PATH / 'malaya_val_labels.npy'))"
   ]
  },
  {
   "cell_type": "markdown",
   "metadata": {},
   "source": [
    "The construction of the model hyper parameters are the same. We can change the dropout. Pick a batch size that is as big as you can that doesn't run out of memory."
   ]
  },
  {
   "cell_type": "code",
   "execution_count": 436,
   "metadata": {},
   "outputs": [],
   "source": [
    "bptt, em_sz, nh, nl = 70, 400, 1150, 3\n",
    "vocab_size = len(itos)\n",
    "opt_fn = partial(optim.Adam, betas=(0.8, 0.99))\n",
    "bs = 48\n",
    "weight_factor = 0.9"
   ]
  },
  {
   "cell_type": "code",
   "execution_count": 393,
   "metadata": {},
   "outputs": [],
   "source": [
    "min_lbl = trn_labels.min()\n",
    "trn_labels -= min_lbl\n",
    "val_labels -= min_lbl\n",
    "c = int(trn_labels.max()) + 1"
   ]
  },
  {
   "cell_type": "markdown",
   "metadata": {},
   "source": [
    "**TextDataset**\n",
    "\n",
    "The basic idea here is that for the classifier, we do really want to look at one document. Is this document positive or negative? So we do want to shuffle the documents. But those documents have different lengths and so if we stick them all into one batch (this is a handy thing that fastai does for you) — you can stick things of different lengths into a batch and it will automatically pad them, so you don't have to worry about that. But if they are wildly different lengths, then you're going to be wasting a lot of computation times."
   ]
  },
  {
   "cell_type": "code",
   "execution_count": 394,
   "metadata": {},
   "outputs": [],
   "source": [
    "trn_ds = TextDataset(trn_clas, trn_labels)\n",
    "val_ds = TextDataset(val_clas, val_labels)"
   ]
  },
  {
   "cell_type": "markdown",
   "metadata": {},
   "source": [
    "Turning it to a DataLoader:"
   ]
  },
  {
   "cell_type": "code",
   "execution_count": 395,
   "metadata": {},
   "outputs": [],
   "source": [
    "trn_samp = SortishSampler(trn_clas, key=lambda x: len(trn_clas[x]), bs=bs//2)\n",
    "val_samp = SortSampler(val_clas, key=lambda x: len(val_clas[x]))\n",
    "\n",
    "trn_dl = DataLoader(trn_ds, bs//2, transpose=True, num_workers=1, pad_idx=1, sampler=trn_samp)\n",
    "val_dl = DataLoader(val_ds, bs, transpose=True, num_workers=1, pad_idx=1, sampler=val_samp)"
   ]
  },
  {
   "cell_type": "code",
   "execution_count": 396,
   "metadata": {},
   "outputs": [],
   "source": [
    "md = ModelData(DATASET_PATH, trn_dl, val_dl)"
   ]
  },
  {
   "cell_type": "code",
   "execution_count": 437,
   "metadata": {},
   "outputs": [],
   "source": [
    "# part 1\n",
    "dps = np.array([0.4, 0.5, 0.05, 0.3, 0.4]) * weight_factor # scale dropouts by weight factor"
   ]
  },
  {
   "cell_type": "markdown",
   "metadata": {},
   "source": [
    "`get_rnn_classifer` going to create exactly the same encoder more or less, and we are going to pass in the same architectural details as before. But this time, with the head we add on, you have a few more things you can do. One is you can add more than one hidden layer."
   ]
  },
  {
   "cell_type": "code",
   "execution_count": 438,
   "metadata": {},
   "outputs": [],
   "source": [
    "m = get_rnn_classifer(bptt, 20 * 70, c, vocab_size, emb_sz=em_sz, n_hid=nh, n_layers=nl, pad_token=1,\n",
    "            layers=[em_sz * 3, 50, c], drops=[dps[4], 0.1],\n",
    "            dropouti=dps[0], wdrop=dps[1], dropoute=dps[2], dropouth=dps[3])"
   ]
  },
  {
   "cell_type": "code",
   "execution_count": 439,
   "metadata": {},
   "outputs": [],
   "source": [
    "opt_fn = partial(optim.Adam, betas=(0.7, 0.99))"
   ]
  },
  {
   "cell_type": "code",
   "execution_count": 440,
   "metadata": {},
   "outputs": [],
   "source": [
    "learn = RNN_Learner(md, TextModel(to_gpu(m)), opt_fn=opt_fn)\n",
    "learn.reg_fn = partial(seq2seq_reg, alpha=2, beta=1)\n",
    "learn.clip = .25\n",
    "learn.metrics = [accuracy]"
   ]
  },
  {
   "cell_type": "markdown",
   "metadata": {},
   "source": [
    "We are going to use discriminative learning rates for different layers."
   ]
  },
  {
   "cell_type": "code",
   "execution_count": 424,
   "metadata": {},
   "outputs": [],
   "source": [
    "# lr = 3e-3\n",
    "# lrm = 2.6\n",
    "# lrs = np.array([lr / (lrm**4), lr / (lrm**3), lr / (lrm**2), lr / lrm, lr])"
   ]
  },
  {
   "cell_type": "code",
   "execution_count": 441,
   "metadata": {},
   "outputs": [],
   "source": [
    "lrs = np.array([1e-4, 1e-4, 1e-4, 1e-3, 1e-2])"
   ]
  },
  {
   "cell_type": "markdown",
   "metadata": {},
   "source": [
    "Weight decay"
   ]
  },
  {
   "cell_type": "code",
   "execution_count": 442,
   "metadata": {},
   "outputs": [],
   "source": [
    "wd = 1e-7\n",
    "wd = 0\n",
    "learn.load_encoder('lm_malay_class_enc_final')"
   ]
  },
  {
   "cell_type": "markdown",
   "metadata": {},
   "source": [
    "We start out just training the last layer."
   ]
  },
  {
   "cell_type": "code",
   "execution_count": 443,
   "metadata": {},
   "outputs": [],
   "source": [
    "learn.freeze_to(-1)"
   ]
  },
  {
   "cell_type": "code",
   "execution_count": 444,
   "metadata": {},
   "outputs": [
    {
     "data": {
      "application/vnd.jupyter.widget-view+json": {
       "model_id": "e317780092c04ed4b3d81560c66d0b61",
       "version_major": 2,
       "version_minor": 0
      },
      "text/plain": [
       "HBox(children=(IntProgress(value=0, description='Epoch', max=1), HTML(value='')))"
      ]
     },
     "metadata": {},
     "output_type": "display_data"
    },
    {
     "name": "stdout",
     "output_type": "stream",
     "text": [
      " 83%|████████▎ | 443/536 [00:20<00:04, 19.50it/s, loss=2.96] "
     ]
    },
    {
     "data": {
      "image/png": "[encoded data removed]",
      "text/plain": [
       "<Figure size 432x288 with 1 Axes>"
      ]
     },
     "metadata": {},
     "output_type": "display_data"
    }
   ],
   "source": [
    "learn.lr_find(lrs / 1000)\n",
    "learn.sched.plot()"
   ]
  },
  {
   "cell_type": "code",
   "execution_count": 445,
   "metadata": {},
   "outputs": [
    {
     "data": {
      "application/vnd.jupyter.widget-view+json": {
       "model_id": "453aa9eb58ab4ada8153483e2828aeb1",
       "version_major": 2,
       "version_minor": 0
      },
      "text/plain": [
       "HBox(children=(IntProgress(value=0, description='Epoch', max=1), HTML(value='')))"
      ]
     },
     "metadata": {},
     "output_type": "display_data"
    },
    {
     "name": "stdout",
     "output_type": "stream",
     "text": [
      "epoch      trn_loss   val_loss   accuracy                    \n",
      "    0      0.651141   0.602677   0.678571  \n"
     ]
    },
    {
     "data": {
      "text/plain": [
       "[0.6026770397394645, 0.6785714531145176]"
      ]
     },
     "execution_count": 445,
     "metadata": {},
     "output_type": "execute_result"
    }
   ],
   "source": [
    "learn.fit(lrs, 1, wds=wd, use_clr=(8, 3), cycle_len=1)"
   ]
  },
  {
   "cell_type": "code",
   "execution_count": 446,
   "metadata": {},
   "outputs": [],
   "source": [
    "learn.save('clas_0')\n",
    "learn.load('clas_0')"
   ]
  },
  {
   "cell_type": "markdown",
   "metadata": {},
   "source": [
    "Then we unfreeze one more layer."
   ]
  },
  {
   "cell_type": "code",
   "execution_count": 447,
   "metadata": {},
   "outputs": [],
   "source": [
    "learn.freeze_to(-2)"
   ]
  },
  {
   "cell_type": "code",
   "execution_count": 448,
   "metadata": {},
   "outputs": [
    {
     "data": {
      "application/vnd.jupyter.widget-view+json": {
       "model_id": "3a8e57173e9046b284f47345797fa674",
       "version_major": 2,
       "version_minor": 0
      },
      "text/plain": [
       "HBox(children=(IntProgress(value=0, description='Epoch', max=1), HTML(value='')))"
      ]
     },
     "metadata": {},
     "output_type": "display_data"
    },
    {
     "name": "stdout",
     "output_type": "stream",
     "text": [
      "epoch      trn_loss   val_loss   accuracy                    \n",
      "    0      0.649661   0.596921   0.680672  \n"
     ]
    },
    {
     "data": {
      "text/plain": [
       "[0.5969214133855676, 0.6806722909462553]"
      ]
     },
     "execution_count": 448,
     "metadata": {},
     "output_type": "execute_result"
    }
   ],
   "source": [
    "learn.fit(lrs, 1, wds=wd, use_clr=(8, 3), cycle_len=1)"
   ]
  },
  {
   "cell_type": "code",
   "execution_count": 449,
   "metadata": {},
   "outputs": [],
   "source": [
    "learn.save('clas_1')\n",
    "learn.load('clas_1')"
   ]
  },
  {
   "cell_type": "markdown",
   "metadata": {},
   "source": [
    "Then we fine-tune the whole thing."
   ]
  },
  {
   "cell_type": "code",
   "execution_count": 450,
   "metadata": {},
   "outputs": [],
   "source": [
    "learn.unfreeze()"
   ]
  },
  {
   "cell_type": "code",
   "execution_count": 451,
   "metadata": {},
   "outputs": [
    {
     "data": {
      "application/vnd.jupyter.widget-view+json": {
       "model_id": "9e3b98a57e69451bb58f704b4867c734",
       "version_major": 2,
       "version_minor": 0
      },
      "text/plain": [
       "HBox(children=(IntProgress(value=0, description='Epoch', max=20), HTML(value='')))"
      ]
     },
     "metadata": {},
     "output_type": "display_data"
    },
    {
     "name": "stdout",
     "output_type": "stream",
     "text": [
      "epoch      trn_loss   val_loss   accuracy                    \n",
      "    0      0.631502   0.592999   0.693277  \n",
      "    1      0.617841   0.569909   0.696078                    \n",
      "    2      0.614908   0.563406   0.704482                    \n",
      "    3      0.612599   0.539441   0.722689                    \n",
      "    4      0.585135   0.527522   0.723389                    \n",
      "    5      0.57695    0.521039   0.72409                     \n",
      "    6      0.565664   0.536092   0.733193                    \n",
      "    7      0.545686   0.500306   0.7507                      \n",
      "    8      0.553788   0.497672   0.740896                    \n",
      "    9      0.510357   0.488029   0.752101                    \n",
      "    10     0.549363   0.490817   0.763305                    \n",
      "    11     0.530247   0.4814     0.766106                    \n",
      "    12     0.515283   0.497648   0.767507                    \n",
      "    13     0.516862   0.479391   0.771709                    \n",
      "    14     0.496292   0.474485   0.772409                    \n",
      "    15     0.489294   0.475264   0.773109                    \n",
      "    16     0.479251   0.476885   0.773109                    \n",
      "    17     0.475946   0.474432   0.771008                    \n",
      "    18     0.473769   0.473341   0.77451                     \n",
      "    19     0.477243   0.472431   0.77451                     \n"
     ]
    },
    {
     "data": {
      "text/plain": [
       "[0.47243087532139627, 0.7745098256263412]"
      ]
     },
     "execution_count": 451,
     "metadata": {},
     "output_type": "execute_result"
    }
   ],
   "source": [
    "%timeit\n",
    "learn.fit(lrs, 1, wds=wd, use_clr=(32, 10), cycle_len=20)"
   ]
  },
  {
   "cell_type": "code",
   "execution_count": 452,
   "metadata": {},
   "outputs": [
    {
     "data": {
      "image/png": "[encoded data removed]",
      "text/plain": [
       "<Figure size 432x288 with 1 Axes>"
      ]
     },
     "metadata": {},
     "output_type": "display_data"
    }
   ],
   "source": [
    "learn.sched.plot_loss()"
   ]
  },
  {
   "cell_type": "code",
   "execution_count": 453,
   "metadata": {},
   "outputs": [
    {
     "data": {
      "image/png": "[encoded data removed]",
      "text/plain": [
       "<Figure size 432x288 with 1 Axes>"
      ]
     },
     "metadata": {},
     "output_type": "display_data"
    }
   ],
   "source": [
    "learn.sched.plot_lr()"
   ]
  },
  {
   "cell_type": "code",
   "execution_count": 454,
   "metadata": {},
   "outputs": [],
   "source": [
    "learn.save('clas_2')"
   ]
  },
  {
   "cell_type": "markdown",
   "metadata": {},
   "source": [
    "It took me ~1 minutes to train 1 epoch, roughly 8.00 iteration/s. The full training took me ~22 minutes."
   ]
  },
  {
   "cell_type": "markdown",
   "metadata": {},
   "source": [
    "## Validation Performance"
   ]
  },
  {
   "cell_type": "markdown",
   "metadata": {},
   "source": [
    "Accuracy: **0.7745098256263412**"
   ]
  },
  {
   "cell_type": "code",
   "execution_count": 458,
   "metadata": {},
   "outputs": [],
   "source": [
    "learn.load('clas_2')\n",
    "\n",
    "# Get validation performance\n",
    "probs, y = learner.predict_with_targs()\n",
    "preds = np.argmax(np.exp(probs), 1)"
   ]
  },
  {
   "cell_type": "code",
   "execution_count": null,
   "metadata": {},
   "outputs": [],
   "source": [
    "from sklearn.metrics import confusion_matrix\n",
    "\n",
    "most_frequent = np.array([0] * len(preds))\n",
    "print(f'Baseline Accuracy: {np.mean(y==most_frequent)}')\n",
    "print(f'Micro Accuracy: {np.mean(y==preds)}')\n",
    "cm = confusion_matrix(y,preds)\n",
    "# plot_confusion_matrix(cm,classes=['neg','pos'])"
   ]
  }
 ],
 "metadata": {
  "kernelspec": {
   "display_name": "Python 3",
   "language": "python",
   "name": "python3"
  },
  "language_info": {
   "codemirror_mode": {
    "name": "ipython",
    "version": 3
   },
   "file_extension": ".py",
   "mimetype": "text/x-python",
   "name": "python",
   "nbconvert_exporter": "python",
   "pygments_lexer": "ipython3",
   "version": "3.6.5"
  }
 },
 "nbformat": 4,
 "nbformat_minor": 2
}
