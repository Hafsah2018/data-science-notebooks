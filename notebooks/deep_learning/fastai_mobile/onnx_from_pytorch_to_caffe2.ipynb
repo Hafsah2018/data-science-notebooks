{
 "cells": [
  {
   "cell_type": "markdown",
   "metadata": {},
   "source": [
    "# Intro to Torch.ONNX—End-to-end AlexNet from PyTorch to Caffe2"
   ]
  },
  {
   "cell_type": "markdown",
   "metadata": {},
   "source": [
    "## Exporting model from PyTorch to ONNX."
   ]
  },
  {
   "cell_type": "markdown",
   "metadata": {},
   "source": [
    "In this tutorial, we describe how to use ONNX to convert a model defined in PyTorch into the ONNX format.\n",
    "\n",
    "ONNX is natively supported in PyTorch. However, ONNX exporter is **not yet** part of the [PyTorch repository](http://pytorch.org/docs/master/onnx.html) as what they mentioned.\n",
    "\n",
    "For working with this tutorial, you will need to install [ONNX](https://github.com/onnx/onnx). You can get binary builds of ONNX with `conda install onnx`.\n",
    "\n",
    "_NOTE: ONNX is under active development so for the best support consider building PyTorch master branch which can be installed by following [the instructions here](https://github.com/pytorch/pytorch#from-source) or install PyTorch preview using `conda install pytorch-nightly cuda92 -c pytorch`._"
   ]
  },
  {
   "cell_type": "markdown",
   "metadata": {},
   "source": [
    "We will export a pretrained AlexNet as defined in `torchvision` into ONNX. It runs a single round of inference and then saves the resulting traced model to `alexnet.onnx` file."
   ]
  },
  {
   "cell_type": "markdown",
   "metadata": {},
   "source": [
    "### Invoking exporter"
   ]
  },
  {
   "cell_type": "markdown",
   "metadata": {},
   "source": [
    "Pretty much it's a matter of replacing `my_model(input)` with `torch.onnx.export(my_model, input, \"my_model.onnx\")` in your script."
   ]
  },
  {
   "cell_type": "markdown",
   "metadata": {},
   "source": [
    "#### Limitations"
   ]
  },
  {
   "cell_type": "markdown",
   "metadata": {},
   "source": [
    "The ONNX exporter is a trace-based exporter, which means that it operates by executing your model once, and exporting the operators which were actually run during this run. This means that if your model is dynamic, e.g., changes behavior depending on input data, the export won’t be accurate.\n",
    "\n",
    "Similarly, a trace is might be valid only for a specific input size (which is one reason why we require explicit inputs on tracing). Most of the operators export size-agnostic versions and should work on different batch sizes or input sizes. We recommend examining the model trace and making sure the traced operators look reasonable."
   ]
  },
  {
   "cell_type": "code",
   "execution_count": 3,
   "metadata": {},
   "outputs": [],
   "source": [
    "import torch\n",
    "import torchvision"
   ]
  },
  {
   "cell_type": "markdown",
   "metadata": {},
   "source": [
    "### Trying it out on AlexNet"
   ]
  },
  {
   "cell_type": "markdown",
   "metadata": {},
   "source": [
    "If you already have your model built, it's just a few lines:"
   ]
  },
  {
   "cell_type": "code",
   "execution_count": 4,
   "metadata": {},
   "outputs": [],
   "source": [
    "# Standard ImageNet input - 3 channels, 224x224,\n",
    "# values don't matter as we care about network structure.\n",
    "# But they can also be real inputs.\n",
    "dummy_input = torch.rand(10, 3, 224, 224, device='cuda')\n",
    "# Obtain your model, it can be also constructed in your script explicitly\n",
    "model = torchvision.models.alexnet(pretrained=True).cuda()"
   ]
  },
  {
   "cell_type": "markdown",
   "metadata": {},
   "source": [
    "Providing input and output names sets the display names for values within the model's graph. Setting these does not change the semantics of the graph; it is only for readability.\n",
    "\n",
    "The inputs to the network consist of the flat list of inputs (i.e. the values you would pass to the forward() method) followed by the flat list of parameters. You can partially specify names, i.e. provide a list here shorter than the number of inputs to the model, and we will only set that subset of names, starting from the beginning."
   ]
  },
  {
   "cell_type": "code",
   "execution_count": 5,
   "metadata": {},
   "outputs": [],
   "source": [
    "input_names = [\"actual_input_1\"] + [\"learned_%d\" % i for i in range(16)]\n",
    "output_names = [\"output1\"]"
   ]
  },
  {
   "cell_type": "markdown",
   "metadata": {},
   "source": [
    "Invoke export:"
   ]
  },
  {
   "cell_type": "code",
   "execution_count": 6,
   "metadata": {
    "scrolled": true
   },
   "outputs": [
    {
     "name": "stdout",
     "output_type": "stream",
     "text": [
      "graph(%actual_input_1 : Float(10, 3, 224, 224)\n",
      "      %learned_0 : Float(64, 3, 11, 11)\n",
      "      %learned_1 : Float(64)\n",
      "      %learned_2 : Float(192, 64, 5, 5)\n",
      "      %learned_3 : Float(192)\n",
      "      %learned_4 : Float(384, 192, 3, 3)\n",
      "      %learned_5 : Float(384)\n",
      "      %learned_6 : Float(256, 384, 3, 3)\n",
      "      %learned_7 : Float(256)\n",
      "      %learned_8 : Float(256, 256, 3, 3)\n",
      "      %learned_9 : Float(256)\n",
      "      %learned_10 : Float(4096, 9216)\n",
      "      %learned_11 : Float(4096)\n",
      "      %learned_12 : Float(4096, 4096)\n",
      "      %learned_13 : Float(4096)\n",
      "      %learned_14 : Float(1000, 4096)\n",
      "      %learned_15 : Float(1000)) {\n",
      "  %17 : Float(10, 64, 55, 55) = onnx::Conv[dilations=[1, 1], group=1, kernel_shape=[11, 11], pads=[2, 2, 2, 2], strides=[4, 4]](%actual_input_1, %learned_0, %learned_1), scope: AlexNet/Sequential[features]/Conv2d[0]\n",
      "  %18 : Float(10, 64, 55, 55) = onnx::Relu(%17), scope: AlexNet/Sequential[features]/ReLU[1]\n",
      "  %19 : Float(10, 64, 27, 27) = onnx::MaxPool[kernel_shape=[3, 3], pads=[0, 0, 0, 0], strides=[2, 2]](%18), scope: AlexNet/Sequential[features]/MaxPool2d[2]\n",
      "  %20 : Float(10, 192, 27, 27) = onnx::Conv[dilations=[1, 1], group=1, kernel_shape=[5, 5], pads=[2, 2, 2, 2], strides=[1, 1]](%19, %learned_2, %learned_3), scope: AlexNet/Sequential[features]/Conv2d[3]\n",
      "  %21 : Float(10, 192, 27, 27) = onnx::Relu(%20), scope: AlexNet/Sequential[features]/ReLU[4]\n",
      "  %22 : Float(10, 192, 13, 13) = onnx::MaxPool[kernel_shape=[3, 3], pads=[0, 0, 0, 0], strides=[2, 2]](%21), scope: AlexNet/Sequential[features]/MaxPool2d[5]\n",
      "  %23 : Float(10, 384, 13, 13) = onnx::Conv[dilations=[1, 1], group=1, kernel_shape=[3, 3], pads=[1, 1, 1, 1], strides=[1, 1]](%22, %learned_4, %learned_5), scope: AlexNet/Sequential[features]/Conv2d[6]\n",
      "  %24 : Float(10, 384, 13, 13) = onnx::Relu(%23), scope: AlexNet/Sequential[features]/ReLU[7]\n",
      "  %25 : Float(10, 256, 13, 13) = onnx::Conv[dilations=[1, 1], group=1, kernel_shape=[3, 3], pads=[1, 1, 1, 1], strides=[1, 1]](%24, %learned_6, %learned_7), scope: AlexNet/Sequential[features]/Conv2d[8]\n",
      "  %26 : Float(10, 256, 13, 13) = onnx::Relu(%25), scope: AlexNet/Sequential[features]/ReLU[9]\n",
      "  %27 : Float(10, 256, 13, 13) = onnx::Conv[dilations=[1, 1], group=1, kernel_shape=[3, 3], pads=[1, 1, 1, 1], strides=[1, 1]](%26, %learned_8, %learned_9), scope: AlexNet/Sequential[features]/Conv2d[10]\n",
      "  %28 : Float(10, 256, 13, 13) = onnx::Relu(%27), scope: AlexNet/Sequential[features]/ReLU[11]\n",
      "  %29 : Float(10, 256, 6, 6) = onnx::MaxPool[kernel_shape=[3, 3], pads=[0, 0, 0, 0], strides=[2, 2]](%28), scope: AlexNet/Sequential[features]/MaxPool2d[12]\n",
      "  %30 : Long() = onnx::Constant[value={0}]()\n",
      "  %31 : Dynamic = onnx::Shape(%29), scope: AlexNet\n",
      "  %32 : Long() = onnx::Gather[axis=0](%31, %30), scope: AlexNet\n",
      "  %33 : Long() = onnx::Constant[value={9216}]()\n",
      "  %34 : Dynamic = onnx::Unsqueeze[axes=[0]](%32), scope: AlexNet\n",
      "  %35 : Dynamic = onnx::Unsqueeze[axes=[0]](%33), scope: AlexNet\n",
      "  %36 : int[] = onnx::Concat[axis=0](%34, %35), scope: AlexNet\n",
      "  %37 : Float(10, 9216) = onnx::Reshape(%29, %36), scope: AlexNet\n",
      "  %38 : Float(10, 9216), %39 : Dynamic = onnx::Dropout[ratio=0.5](%37), scope: AlexNet/Sequential[classifier]/Dropout[0]\n",
      "  %40 : Float(10, 4096) = onnx::Gemm[alpha=1, beta=1, transB=1](%38, %learned_10, %learned_11)\n",
      "  %41 : Float(10, 4096) = onnx::Relu(%40), scope: AlexNet/Sequential[classifier]/ReLU[2]\n",
      "  %42 : Float(10, 4096), %43 : Dynamic = onnx::Dropout[ratio=0.5](%41), scope: AlexNet/Sequential[classifier]/Dropout[3]\n",
      "  %44 : Float(10, 4096) = onnx::Gemm[alpha=1, beta=1, transB=1](%42, %learned_12, %learned_13)\n",
      "  %45 : Float(10, 4096) = onnx::Relu(%44), scope: AlexNet/Sequential[classifier]/ReLU[5]\n",
      "  %output1 : Float(10, 1000) = onnx::Gemm[alpha=1, beta=1, transB=1](%45, %learned_14, %learned_15)\n",
      "  return (%output1);\n",
      "}\n",
      "\n"
     ]
    }
   ],
   "source": [
    "torch.onnx.export(model, dummy_input, \"alexnet.onnx\", verbose=True, input_names=input_names,\n",
    "                  output_names=output_names)"
   ]
  },
  {
   "cell_type": "markdown",
   "metadata": {},
   "source": [
    "**That's it!**"
   ]
  },
  {
   "cell_type": "markdown",
   "metadata": {},
   "source": [
    "The resulting ``alexnet.onnx`` is a **binary protobuf file** which contains both\n",
    "the network structure and parameters of the model you exported\n",
    "(in this case, AlexNet).  The keyword argument ``verbose=True`` causes the\n",
    "exporter to print out a human-readable representation of the network:"
   ]
  },
  {
   "cell_type": "markdown",
   "metadata": {},
   "source": [
    "### Inspecting model"
   ]
  },
  {
   "cell_type": "markdown",
   "metadata": {},
   "source": [
    "You can also use ONNX tooling to check the validity of the resulting model or inspect the details.\n",
    "\n",
    "You can verify the protobuf using the ONNX library."
   ]
  },
  {
   "cell_type": "markdown",
   "metadata": {},
   "source": [
    "#### Install ONNX"
   ]
  },
  {
   "cell_type": "markdown",
   "metadata": {},
   "source": [
    "First, we need to install ONNX library:"
   ]
  },
  {
   "cell_type": "markdown",
   "metadata": {},
   "source": [
    "You can install onnx with conda:\n",
    "\n",
    "`conda install -c conda-forge onnx`"
   ]
  },
  {
   "cell_type": "code",
   "execution_count": 5,
   "metadata": {},
   "outputs": [
    {
     "ename": "ModuleNotFoundError",
     "evalue": "No module named 'onnx'",
     "output_type": "error",
     "traceback": [
      "\u001b[0;31m---------------------------------------------------------------------------\u001b[0m",
      "\u001b[0;31mModuleNotFoundError\u001b[0m                       Traceback (most recent call last)",
      "\u001b[0;32m<ipython-input-5-6f9566fa2ea7>\u001b[0m in \u001b[0;36m<module>\u001b[0;34m\u001b[0m\n\u001b[0;32m----> 1\u001b[0;31m \u001b[0;32mimport\u001b[0m \u001b[0monnx\u001b[0m\u001b[0;34m\u001b[0m\u001b[0m\n\u001b[0m",
      "\u001b[0;31mModuleNotFoundError\u001b[0m: No module named 'onnx'"
     ]
    }
   ],
   "source": [
    "import onnx"
   ]
  },
  {
   "cell_type": "markdown",
   "metadata": {},
   "source": [
    "**Fix the previous error**"
   ]
  },
  {
   "cell_type": "markdown",
   "metadata": {},
   "source": [
    "_WARNING: Don't install `onnx` from conda-forge channel. Run this command instead:_\n",
    "\n",
    "`conda install onnx`"
   ]
  },
  {
   "cell_type": "code",
   "execution_count": 7,
   "metadata": {},
   "outputs": [],
   "source": [
    "import onnx"
   ]
  },
  {
   "cell_type": "markdown",
   "metadata": {},
   "source": [
    "Load the ONNX model:"
   ]
  },
  {
   "cell_type": "code",
   "execution_count": 8,
   "metadata": {},
   "outputs": [],
   "source": [
    "model = onnx.load(\"alexnet.onnx\")"
   ]
  },
  {
   "cell_type": "markdown",
   "metadata": {},
   "source": [
    "Check that the IR is well formed:"
   ]
  },
  {
   "cell_type": "code",
   "execution_count": 9,
   "metadata": {},
   "outputs": [],
   "source": [
    "onnx.checker.check_model(model)"
   ]
  },
  {
   "cell_type": "markdown",
   "metadata": {},
   "source": [
    "Print a human readable representation of the graph:"
   ]
  },
  {
   "cell_type": "code",
   "execution_count": 10,
   "metadata": {
    "scrolled": true
   },
   "outputs": [
    {
     "name": "stdout",
     "output_type": "stream",
     "text": [
      "graph torch-jit-export (\n",
      "  %actual_input_1[FLOAT, 10x3x224x224]\n",
      ") initializers (\n",
      "  %learned_0[FLOAT, 64x3x11x11]\n",
      "  %learned_1[FLOAT, 64]\n",
      "  %learned_2[FLOAT, 192x64x5x5]\n",
      "  %learned_3[FLOAT, 192]\n",
      "  %learned_4[FLOAT, 384x192x3x3]\n",
      "  %learned_5[FLOAT, 384]\n",
      "  %learned_6[FLOAT, 256x384x3x3]\n",
      "  %learned_7[FLOAT, 256]\n",
      "  %learned_8[FLOAT, 256x256x3x3]\n",
      "  %learned_9[FLOAT, 256]\n",
      "  %learned_10[FLOAT, 4096x9216]\n",
      "  %learned_11[FLOAT, 4096]\n",
      "  %learned_12[FLOAT, 4096x4096]\n",
      "  %learned_13[FLOAT, 4096]\n",
      "  %learned_14[FLOAT, 1000x4096]\n",
      "  %learned_15[FLOAT, 1000]\n",
      ") {\n",
      "  %17 = Conv[dilations = [1, 1], group = 1, kernel_shape = [11, 11], pads = [2, 2, 2, 2], strides = [4, 4]](%actual_input_1, %learned_0, %learned_1)\n",
      "  %18 = Relu(%17)\n",
      "  %19 = MaxPool[kernel_shape = [3, 3], pads = [0, 0, 0, 0], strides = [2, 2]](%18)\n",
      "  %20 = Conv[dilations = [1, 1], group = 1, kernel_shape = [5, 5], pads = [2, 2, 2, 2], strides = [1, 1]](%19, %learned_2, %learned_3)\n",
      "  %21 = Relu(%20)\n",
      "  %22 = MaxPool[kernel_shape = [3, 3], pads = [0, 0, 0, 0], strides = [2, 2]](%21)\n",
      "  %23 = Conv[dilations = [1, 1], group = 1, kernel_shape = [3, 3], pads = [1, 1, 1, 1], strides = [1, 1]](%22, %learned_4, %learned_5)\n",
      "  %24 = Relu(%23)\n",
      "  %25 = Conv[dilations = [1, 1], group = 1, kernel_shape = [3, 3], pads = [1, 1, 1, 1], strides = [1, 1]](%24, %learned_6, %learned_7)\n",
      "  %26 = Relu(%25)\n",
      "  %27 = Conv[dilations = [1, 1], group = 1, kernel_shape = [3, 3], pads = [1, 1, 1, 1], strides = [1, 1]](%26, %learned_8, %learned_9)\n",
      "  %28 = Relu(%27)\n",
      "  %29 = MaxPool[kernel_shape = [3, 3], pads = [0, 0, 0, 0], strides = [2, 2]](%28)\n",
      "  %30 = Constant[value = <Scalar Tensor []>]()\n",
      "  %31 = Shape(%29)\n",
      "  %32 = Gather[axis = 0](%31, %30)\n",
      "  %33 = Constant[value = <Scalar Tensor []>]()\n",
      "  %34 = Unsqueeze[axes = [0]](%32)\n",
      "  %35 = Unsqueeze[axes = [0]](%33)\n",
      "  %36 = Concat[axis = 0](%34, %35)\n",
      "  %37 = Reshape(%29, %36)\n",
      "  %38, %39 = Dropout[ratio = 0.5](%37)\n",
      "  %40 = Gemm[alpha = 1, beta = 1, transB = 1](%38, %learned_10, %learned_11)\n",
      "  %41 = Relu(%40)\n",
      "  %42, %43 = Dropout[ratio = 0.5](%41)\n",
      "  %44 = Gemm[alpha = 1, beta = 1, transB = 1](%42, %learned_12, %learned_13)\n",
      "  %45 = Relu(%44)\n",
      "  %output1 = Gemm[alpha = 1, beta = 1, transB = 1](%45, %learned_14, %learned_15)\n",
      "  return %output1\n",
      "}\n"
     ]
    }
   ],
   "source": [
    "print(onnx.helper.printable_graph(model.graph))"
   ]
  },
  {
   "cell_type": "markdown",
   "metadata": {},
   "source": [
    "Notice that all parameters are listed as graph's inputs but they also have stored values initialized in `model.graph.initializers`."
   ]
  },
  {
   "cell_type": "markdown",
   "metadata": {},
   "source": [
    "### Caffe2"
   ]
  },
  {
   "cell_type": "markdown",
   "metadata": {},
   "source": [
    "To run the following code with [Caffe2](https://caffe2.ai/), you will need to install Caffe2: If you don’t have one already, Please [follow the install instructions](https://caffe2.ai/docs/getting-started.html).\n",
    "\n",
    "_**NOTE: actually Caffe2 is already installed when you install PyTorch.**_ The following describe why the confusion:\n",
    "\n",
    "I referenced the following GitHub issues because of the discrepancies in current PyTorch docs and Caffe2 docs. The PyTorch docs lacks Caffe2 information, not clear enough or outdated. This confusing state has spawned out a large chunk of GitHub issues, for examples:\n",
    "- [Why it is so difficult to install caffe2??? (Jan 2018)](https://github.com/caffe2/caffe2/issues/1811)\n",
    "- [How to intall and use Caffe2 from this Pytorch branch?](https://github.com/pytorch/pytorch/issues/7029)\n",
    "- [Caffe2 Installation inside Pytorch](https://github.com/pytorch/pytorch/issues/12646)\n",
    "\n",
    "Once these are installed, you can use the backend for Caffe2:"
   ]
  },
  {
   "cell_type": "code",
   "execution_count": 9,
   "metadata": {},
   "outputs": [
    {
     "ename": "ModuleNotFoundError",
     "evalue": "No module named 'past'",
     "output_type": "error",
     "traceback": [
      "\u001b[0;31m---------------------------------------------------------------------------\u001b[0m",
      "\u001b[0;31mModuleNotFoundError\u001b[0m                       Traceback (most recent call last)",
      "\u001b[0;32m<ipython-input-9-47e185e67870>\u001b[0m in \u001b[0;36m<module>\u001b[0;34m\u001b[0m\n\u001b[1;32m      1\u001b[0m \u001b[0;31m# ...continuing from above\u001b[0m\u001b[0;34m\u001b[0m\u001b[0;34m\u001b[0m\u001b[0m\n\u001b[0;32m----> 2\u001b[0;31m \u001b[0;32mimport\u001b[0m \u001b[0mcaffe2\u001b[0m\u001b[0;34m.\u001b[0m\u001b[0mpython\u001b[0m\u001b[0;34m.\u001b[0m\u001b[0monnx\u001b[0m\u001b[0;34m.\u001b[0m\u001b[0mbackend\u001b[0m \u001b[0;32mas\u001b[0m \u001b[0mbackend\u001b[0m\u001b[0;34m\u001b[0m\u001b[0m\n\u001b[0m\u001b[1;32m      3\u001b[0m \u001b[0;32mimport\u001b[0m \u001b[0mnumpy\u001b[0m \u001b[0;32mas\u001b[0m \u001b[0mnp\u001b[0m\u001b[0;34m\u001b[0m\u001b[0m\n",
      "\u001b[0;32m~/anaconda3/envs/fastai-v1/lib/python3.6/site-packages/caffe2/python/onnx/backend.py\u001b[0m in \u001b[0;36m<module>\u001b[0;34m\u001b[0m\n\u001b[1;32m     25\u001b[0m \u001b[0;34m\u001b[0m\u001b[0m\n\u001b[1;32m     26\u001b[0m \u001b[0;32mimport\u001b[0m \u001b[0mcaffe2\u001b[0m\u001b[0;34m\u001b[0m\u001b[0m\n\u001b[0;32m---> 27\u001b[0;31m \u001b[0;32mfrom\u001b[0m \u001b[0mcaffe2\u001b[0m\u001b[0;34m.\u001b[0m\u001b[0mpython\u001b[0m \u001b[0;32mimport\u001b[0m \u001b[0mcore\u001b[0m\u001b[0;34m,\u001b[0m \u001b[0mworkspace\u001b[0m\u001b[0;34m,\u001b[0m \u001b[0mrnn_cell\u001b[0m\u001b[0;34m,\u001b[0m \u001b[0mgru_cell\u001b[0m\u001b[0;34m\u001b[0m\u001b[0m\n\u001b[0m\u001b[1;32m     28\u001b[0m \u001b[0;32mfrom\u001b[0m \u001b[0mcaffe2\u001b[0m\u001b[0;34m.\u001b[0m\u001b[0mpython\u001b[0m\u001b[0;34m.\u001b[0m\u001b[0mcompatibility\u001b[0m \u001b[0;32mimport\u001b[0m \u001b[0mcontainer_abcs\u001b[0m\u001b[0;34m\u001b[0m\u001b[0m\n\u001b[1;32m     29\u001b[0m \u001b[0;32mfrom\u001b[0m \u001b[0mcaffe2\u001b[0m\u001b[0;34m.\u001b[0m\u001b[0mpython\u001b[0m\u001b[0;34m.\u001b[0m\u001b[0mmodel_helper\u001b[0m \u001b[0;32mimport\u001b[0m \u001b[0mModelHelper\u001b[0m\u001b[0;34m\u001b[0m\u001b[0m\n",
      "\u001b[0;32m~/anaconda3/envs/fastai-v1/lib/python3.6/site-packages/caffe2/python/core.py\u001b[0m in \u001b[0;36m<module>\u001b[0;34m\u001b[0m\n\u001b[1;32m      7\u001b[0m \u001b[0;34m\u001b[0m\u001b[0m\n\u001b[1;32m      8\u001b[0m \u001b[0;32mfrom\u001b[0m \u001b[0mcollections\u001b[0m \u001b[0;32mimport\u001b[0m \u001b[0mnamedtuple\u001b[0m\u001b[0;34m,\u001b[0m \u001b[0mOrderedDict\u001b[0m\u001b[0;34m,\u001b[0m \u001b[0mdefaultdict\u001b[0m\u001b[0;34m\u001b[0m\u001b[0m\n\u001b[0;32m----> 9\u001b[0;31m \u001b[0;32mfrom\u001b[0m \u001b[0mpast\u001b[0m\u001b[0;34m.\u001b[0m\u001b[0mbuiltins\u001b[0m \u001b[0;32mimport\u001b[0m \u001b[0mbasestring\u001b[0m\u001b[0;34m\u001b[0m\u001b[0m\n\u001b[0m\u001b[1;32m     10\u001b[0m \u001b[0;32mfrom\u001b[0m \u001b[0mfuture\u001b[0m\u001b[0;34m.\u001b[0m\u001b[0mutils\u001b[0m \u001b[0;32mimport\u001b[0m \u001b[0mviewitems\u001b[0m\u001b[0;34m,\u001b[0m \u001b[0mviewkeys\u001b[0m\u001b[0;34m,\u001b[0m \u001b[0mviewvalues\u001b[0m\u001b[0;34m\u001b[0m\u001b[0m\n\u001b[1;32m     11\u001b[0m \u001b[0;32mfrom\u001b[0m \u001b[0mitertools\u001b[0m \u001b[0;32mimport\u001b[0m \u001b[0mchain\u001b[0m\u001b[0;34m\u001b[0m\u001b[0m\n",
      "\u001b[0;31mModuleNotFoundError\u001b[0m: No module named 'past'"
     ]
    }
   ],
   "source": [
    "# ...continuing from above\n",
    "import caffe2.python.onnx.backend as backend\n",
    "import numpy as np"
   ]
  },
  {
   "cell_type": "markdown",
   "metadata": {},
   "source": [
    "Fix the previous error by installing the `future` package:\n",
    "\n",
    "`conda install future`\n",
    "\n",
    "Ref: https://github.com/caffe2/caffe2/issues/712#issuecomment-305962653"
   ]
  },
  {
   "cell_type": "code",
   "execution_count": 12,
   "metadata": {},
   "outputs": [],
   "source": [
    "# ...continuing from above\n",
    "import caffe2.python.onnx.backend as backend\n",
    "import numpy as np"
   ]
  },
  {
   "cell_type": "code",
   "execution_count": 13,
   "metadata": {},
   "outputs": [
    {
     "name": "stderr",
     "output_type": "stream",
     "text": [
      "CUDA operators do not support 64-bit doubles, please use arr.astype(np.float32) or np.int32 for ints. Blob: actual_input_1 type: float64\n"
     ]
    }
   ],
   "source": [
    "rep = backend.prepare(model, device=\"CUDA:0\") # or \"CPU\""
   ]
  },
  {
   "cell_type": "markdown",
   "metadata": {},
   "source": [
    "#### Get Predictions by Running the Model"
   ]
  },
  {
   "cell_type": "markdown",
   "metadata": {},
   "source": [
    "The results come back as a multidimensional array of probabilities. Essentially each row is a percentage chance that the object matches something that the neural net recognizes. For example, when you run the flower it should give you over 95% rating that the flower is a daisy."
   ]
  },
  {
   "cell_type": "code",
   "execution_count": 14,
   "metadata": {},
   "outputs": [],
   "source": [
    "# For the Caffe2 backend:\n",
    "#     rep.predict_net is the Caffe2 protobuf for the network\n",
    "#     rep.workspace is the Caffe2 workspace for the network\n",
    "#       (see the class caffe2.python.onnx.backend.Workspace)\n",
    "outputs = rep.run(np.random.randn(10, 3, 224, 224).astype(np.float32))"
   ]
  },
  {
   "cell_type": "code",
   "execution_count": 15,
   "metadata": {},
   "outputs": [
    {
     "name": "stdout",
     "output_type": "stream",
     "text": [
      "[[-0.16684037 -1.7584792  -1.6565322  ... -1.5301019  -0.83980227\n",
      "   0.8916631 ]\n",
      " [ 0.38660896 -0.897966   -1.2219435  ... -1.168266   -1.0750638\n",
      "   0.9224857 ]\n",
      " [ 0.0033838  -1.3918537  -1.6014808  ... -1.1375068  -1.1307131\n",
      "   1.1512557 ]\n",
      " ...\n",
      " [-0.04392347 -1.2045223  -1.4013005  ... -0.9982521  -1.0994978\n",
      "   1.2750273 ]\n",
      " [ 0.18175897 -1.5210615  -1.7670833  ... -1.3994161  -0.93560624\n",
      "   0.86104625]\n",
      " [ 0.4133255  -1.2434499  -1.2564434  ... -1.3632581  -0.90603685\n",
      "   1.039825  ]]\n"
     ]
    }
   ],
   "source": [
    "# To run networks with more than one input, pass a tuple\n",
    "# rather than a single numpy ndarray.\n",
    "print(outputs[0])"
   ]
  },
  {
   "cell_type": "code",
   "execution_count": 16,
   "metadata": {},
   "outputs": [
    {
     "data": {
      "text/plain": [
       "(10, 1000)"
      ]
     },
     "execution_count": 16,
     "metadata": {},
     "output_type": "execute_result"
    }
   ],
   "source": [
    "outputs[0].shape # 10 inputs and predictions (ImageNet 1000 classes) for each input"
   ]
  },
  {
   "cell_type": "markdown",
   "metadata": {},
   "source": [
    "### ========================== END OF TUTORIAL =========================="
   ]
  },
  {
   "cell_type": "markdown",
   "metadata": {},
   "source": [
    "---"
   ]
  },
  {
   "cell_type": "markdown",
   "metadata": {},
   "source": [
    "## More on ONNX"
   ]
  },
  {
   "cell_type": "markdown",
   "metadata": {},
   "source": [
    "#### LIMITATIONS"
   ]
  },
  {
   "cell_type": "markdown",
   "metadata": {},
   "source": [
    "- The ONNX exporter is a trace-based exporter, which means that it operates by executing your model once, and exporting the operators which were actually run during this run. This means that if your model is dynamic, e.g., changes behavior depending on input data, the export won’t be accurate. Similarly, a trace is likely to be valid only for a specific input size (which is one reason why we require explicit inputs on tracing.) We recommend examining the model trace and making sure the traced operators look reasonable.\n",
    "- PyTorch and Caffe2 often have implementations of operators with some numeric differences. Depending on model structure, these differences may be negligible, but they can also cause major divergences in behavior (especially on untrained models.) In a future release, we plan to allow Caffe2 to call directly to Torch implementations of operators, to help you smooth over these differences when precision is important, and to also document these differences."
   ]
  },
  {
   "cell_type": "markdown",
   "metadata": {},
   "source": [
    "#### SUPPORTED OPERATORS"
   ]
  },
  {
   "cell_type": "markdown",
   "metadata": {},
   "source": [
    "The following operators are supported:\n",
    "\n",
    "- add (nonzero alpha not supported)\n",
    "- sub (nonzero alpha not supported)\n",
    "- mul\n",
    "- div\n",
    "- cat\n",
    "- mm\n",
    "- addmm\n",
    "- neg\n",
    "- sqrt\n",
    "- tanh\n",
    "- sigmoid\n",
    "- mean\n",
    "- sum\n",
    "- prod\n",
    "- t\n",
    "- expand (only when used before a broadcasting ONNX operator; e.g., add)\n",
    "- transpose\n",
    "- view\n",
    "- split\n",
    "- squeeze\n",
    "- ...and many more\n",
    "\n",
    "The operator set above is sufficient to export the following models:\n",
    "\n",
    "- AlexNet\n",
    "- DCGAN\n",
    "- DenseNet\n",
    "- Inception (warning: this model is highly sensitive to changes in operator implementation)\n",
    "- ResNet\n",
    "- SuperResolution\n",
    "- VGG\n",
    "- word_language_model"
   ]
  },
  {
   "cell_type": "markdown",
   "metadata": {},
   "source": [
    "Adding export support for operators is an _advance_ usage. To achieve this, developers need to touch the source code of PyTorch. Please follow the [instructions](https://github.com/pytorch/pytorch#from-source) for installing PyTorch from source. If the wanted operator is standardized in ONNX, it should be easy to add support for exporting such operator (adding a symbolic function for the operator). To confirm whether the operator is standardized or not, please check the [ONNX operator list](https://github.com/onnx/onnx/blob/master/docs/Operators.md).\n",
    "\n",
    "If the operator is an ATen operator, which means you can find the declaration of the function in `torch/csrc/autograd/generated/VariableType.h` (available in generated code in PyTorch install dir), you should add the symbolic function in `torch/onnx/symbolic.py` and follow the instructions listed as below:\n",
    "\n",
    "- Define the symbolic function in [torch/onnx/symbolic.py](https://github.com/pytorch/pytorch/blob/master/torch/onnx/symbolic.py). Make sure the function has the same name as the ATen operator/function defined in `VariableType.h`.\n",
    "- The first parameter is always the exported ONNX graph. Parameter names must EXACTLY match the names in `VariableType.h`, because dispatch is done with keyword arguments.\n",
    "- Parameter ordering does NOT necessarily match what is in `VariableType.h`, tensors (inputs) are always first, then non-tensor arguments.\n",
    "- In the symbolic function, if the operator is already standardized in ONNX, we only need to create a node to represent the ONNX operator in the graph.\n",
    "- If the input argument is a tensor, but ONNX asks for a scalar, we have to explicitly do the conversion. The helper function `_scalar` can convert a scalar tensor into a python scalar, and `_if_scalar_type_as` can turn a Python scalar into a PyTorch tensor.\n",
    "\n",
    "If the operator is a non-ATen operator, the symbolic function has to be added in the corresponding PyTorch Function class. Please read the following instructions:\n",
    "\n",
    "- Create a symbolic function named `symbolic` in the corresponding Function class.\n",
    "- The first parameter is always the exported ONNX graph.\n",
    "- Parameter names except the first must EXACTLY match the names in `forward`.\n",
    "- The output tuple size must match the outputs of `forward`.\n",
    "- In the symbolic function, if the operator is already standardized in ONNX, we just need to create a node to represent the ONNX operator in the graph."
   ]
  },
  {
   "cell_type": "markdown",
   "metadata": {},
   "source": [
    "Symbolic functions should be implemented in Python. All of these functions interact with Python methods which are implemented via C++-Python bindings, but intuitively the interface they provide looks like this:"
   ]
  },
  {
   "cell_type": "code",
   "execution_count": null,
   "metadata": {},
   "outputs": [],
   "source": [
    "def operator/symbolic(g, *inputs):\n",
    "  \"\"\"\n",
    "  Modifies Graph (e.g., using \"op\"), adding the ONNX operations representing\n",
    "  this PyTorch function, and returning a Value or tuple of Values specifying the\n",
    "  ONNX outputs whose values correspond to the original PyTorch return values\n",
    "  of the autograd Function (or None if an output is not supported by ONNX).\n",
    "\n",
    "  Arguments:\n",
    "    g (Graph): graph to write the ONNX representation into\n",
    "    inputs (Value...): list of values representing the variables which contain\n",
    "        the inputs for this function\n",
    "  \"\"\"\n",
    "\n",
    "class Value(object):\n",
    "  \"\"\"Represents an intermediate tensor value computed in ONNX.\"\"\"\n",
    "  def type(self):\n",
    "    \"\"\"Returns the Type of the value.\"\"\"\n",
    "\n",
    "class Type(object):\n",
    "  def sizes(self):\n",
    "    \"\"\"Returns a tuple of ints representing the shape of a tensor this describes.\"\"\"\n",
    "\n",
    "class Graph(object):\n",
    "  def op(self, opname, *inputs, **attrs):\n",
    "    \"\"\"\n",
    "    Create an ONNX operator 'opname', taking 'args' as inputs\n",
    "    and attributes 'kwargs' and add it as a node to the current graph,\n",
    "    returning the value representing the single output of this\n",
    "    operator (see the `outputs` keyword argument for multi-return\n",
    "    nodes).\n",
    "\n",
    "    The set of operators and the inputs/attributes they take\n",
    "    is documented at https://github.com/onnx/onnx/blob/master/docs/Operators.md\n",
    "\n",
    "    Arguments:\n",
    "        opname (string): The ONNX operator name, e.g., `Abs` or `Add`.\n",
    "        args (Value...): The inputs to the operator; usually provided\n",
    "            as arguments to the `symbolic` definition.\n",
    "        kwargs: The attributes of the ONNX operator, with keys named\n",
    "            according to the following convention: `alpha_f` indicates\n",
    "            the `alpha` attribute with type `f`.  The valid type specifiers are\n",
    "            `f` (float), `i` (int), `s` (string) or `t` (Tensor).  An attribute\n",
    "            specified with type float accepts either a single float, or a\n",
    "            list of floats (e.g., you would say `dims_i` for a `dims` attribute\n",
    "            that takes a list of integers).\n",
    "        outputs (int, optional):  The number of outputs this operator returns;\n",
    "            by default an operator is assumed to return a single output.\n",
    "            If `outputs` is greater than one, this functions returns a tuple\n",
    "            of output `Value`, representing each output of the ONNX operator\n",
    "            in positional.\n",
    "    \"\"\""
   ]
  },
  {
   "cell_type": "markdown",
   "metadata": {},
   "source": [
    "The ONNX graph C++ definition is in `torch/csrc/jit/ir.h`.\n",
    "\n",
    "Here is an example of handling missing symbolic function for `elu` operator. We try to export the model and see the error message as below:\n",
    "\n",
    "```sh\n",
    "UserWarning: ONNX export failed on elu because torch.onnx.symbolic.elu does not exist\n",
    "RuntimeError: ONNX export failed: Couldn't export operator elu\n",
    "```"
   ]
  },
  {
   "cell_type": "markdown",
   "metadata": {},
   "source": [
    "The export fails because PyTorch does not support exporting `elu` operator. We find `virtual` `Tensor` `elu(const` `Tensor` `&` `input`, `Scalar` `alpha`, `bool` `inplace)` `const` `override;` in `VariableType.h`. This means `elu` is an ATen operator. We check the [ONNX operator list](http://https//github.com/onnx/onnx/blob/master/docs/Operators.md), and confirm that `Elu` is standardized in ONNX. We add the following lines to `symbolic.py`:"
   ]
  },
  {
   "cell_type": "code",
   "execution_count": null,
   "metadata": {},
   "outputs": [],
   "source": [
    "def elu(g, input, alpha, inplace=False):\n",
    "    return g.op(\"Elu\", input, alpha_f=_scalar(alpha))"
   ]
  },
  {
   "cell_type": "markdown",
   "metadata": {},
   "source": [
    "Now PyTorch is able to export `elu` operator.\n",
    "\n",
    "There are more examples in [symbolic.py](https://github.com/pytorch/pytorch/blob/master/torch/onnx/symbolic.py), [tensor.py](https://github.com/pytorch/pytorch/blob/99037d627da68cdf53d3d0315deceddfadf03bba/torch/autograd/_functions/tensor.py#L24), [padding.py](https://github.com/pytorch/pytorch/blob/99037d627da68cdf53d3d0315deceddfadf03bba/torch/nn/_functions/padding.py#L8).\n",
    "\n",
    "The interface for specifying operator definitions is experimental; adventurous users should note that the APIs will probably change in a future interface."
   ]
  },
  {
   "cell_type": "markdown",
   "metadata": {},
   "source": [
    "#### FUNCTIONS"
   ]
  },
  {
   "cell_type": "markdown",
   "metadata": {},
   "source": [
    "`torch.onnx.export(*args, **kwargs)`. [Source](https://pytorch.org/docs/master/_modules/torch/onnx.html#export)"
   ]
  },
  {
   "cell_type": "markdown",
   "metadata": {},
   "source": [
    "---"
   ]
  },
  {
   "cell_type": "markdown",
   "metadata": {},
   "source": [
    "## ONNX Issues"
   ]
  },
  {
   "cell_type": "markdown",
   "metadata": {},
   "source": [
    "I experienced the following issues related to ONNX or the old ONNX-Caffe2 integration along the way in this task:\n",
    "- [RESOLVED] Error: \"ONNX checker Bad node spec\" and GitHub issues referenced:\n",
    "  - https://github.com/onnx/onnx/issues/932\n",
    "- [RESOLVED] Error: \"onnx_cpp2py_export.cpython-36m-x86_64-linux-gnu.so: undefined symbol: ZNK6google8protobuf7Message11GetTypeNameB5cxx11Ev\" and GitHub issues referenced:\n",
    "  - [SOLUTION] https://github.com/onnx/onnx/issues/745\n",
    "  - https://github.com/onnx/onnx/issues/1516\n",
    "  - https://github.com/onnx/onnx-caffe2/issues/19"
   ]
  },
  {
   "cell_type": "markdown",
   "metadata": {},
   "source": [
    "#### Protocol Buffer Required by ONNX\n",
    "\n",
    "I experienced the following issues related to protobuf along the way in this task:\n",
    "- I am using Ubuntu 16.04 LTS. It came with a default protobuf library, `protobuf.so.9`. This is causing some serious conflicts wth the one ONNX trying to install and link to. I have not tested this with Ubuntu 18.04 LTS yet.\n",
    "- [RESOLVED] Error: \"... SIGABRT ...\"\n",
    " - https://github.com/BVLC/caffe/issues/5711\n",
    "- [RESOLVED] Error: \"Segmentation Fault on ONNX\"\n",
    "  - https://github.com/onnx/onnx/issues/875\n",
    "- [RESOLVED] Error: \"ValueError: The graph does not have an ir_version set properly.\"\n",
    "  - https://github.com/onnx/onnx/issues/95#issuecomment-335515684"
   ]
  },
  {
   "cell_type": "code",
   "execution_count": null,
   "metadata": {},
   "outputs": [],
   "source": []
  }
 ],
 "metadata": {
  "kernelspec": {
   "display_name": "Python 3",
   "language": "python",
   "name": "python3"
  },
  "language_info": {
   "codemirror_mode": {
    "name": "ipython",
    "version": 3
   },
   "file_extension": ".py",
   "mimetype": "text/x-python",
   "name": "python",
   "nbconvert_exporter": "python",
   "pygments_lexer": "ipython3",
   "version": "3.6.6"
  }
 },
 "nbformat": 4,
 "nbformat_minor": 2
}
