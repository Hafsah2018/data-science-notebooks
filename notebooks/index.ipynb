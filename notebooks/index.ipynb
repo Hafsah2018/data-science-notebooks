{
 "cells": [
  {
   "cell_type": "markdown",
   "metadata": {},
   "source": [
    "# Data Science Notebooks"
   ]
  },
  {
   "cell_type": "markdown",
   "metadata": {},
   "source": [
    "Data science Python notebooks is a collection of Jupyter notebooks on machine learning, deep learning, statistical inference, data analysis and visualization."
   ]
  },
  {
   "cell_type": "markdown",
   "metadata": {},
   "source": [
    "## Table of Contents"
   ]
  },
  {
   "cell_type": "markdown",
   "metadata": {},
   "source": [
    "### 1. Introduction to NumPy"
   ]
  },
  {
   "cell_type": "markdown",
   "metadata": {},
   "source": [
    "- Understanding Data Types in Python\n",
    "- The Basics of NumPy Arrays\n",
    "- Computation on NumPy Arrays: Universal Functions\n",
    "- Aggregations: Min, Max, and Everything In Between\n",
    "- Computation on Arrays: Broadcasting\n",
    "- Comparisons, Masks, and Boolean Logic\n",
    "- Fancy Indexing\n",
    "- Sorting Arrays\n",
    "- Structured Data: NumPy's Structured Arrays"
   ]
  },
  {
   "cell_type": "markdown",
   "metadata": {},
   "source": [
    "### 2. Data Manipulation with Pandas"
   ]
  },
  {
   "cell_type": "markdown",
   "metadata": {},
   "source": [
    "- Introducing Pandas Objects\n",
    "- Data Indexing and Selection\n",
    "- Operating on Data in Pandas\n",
    "- Handling Missing Data\n",
    "- Hierarchical Indexing\n",
    "- Combining Datasets: Concat and Append\n",
    "- Combining Datasets: Merge and Join\n",
    "- Aggregation and Grouping\n",
    "- Pivot Tables\n",
    "- Vectorized String Operations\n",
    "- Working with Time Series\n",
    "- High-Performance Pandas: eval() and query()\n",
    "- Further Resources"
   ]
  },
  {
   "cell_type": "markdown",
   "metadata": {},
   "source": [
    "### 3. Visualization with Matplotlib"
   ]
  },
  {
   "cell_type": "markdown",
   "metadata": {},
   "source": [
    "- Simple Line Plots\n",
    "- Simple Scatter Plots\n",
    "- Visualizing Errors\n",
    "- Density and Contour Plots\n",
    "- Histograms, Binnings, and Density\n",
    "- Customizing Plot Legends\n",
    "- Customizing Colorbars\n",
    "- Multiple Subplots\n",
    "- Text and Annotation\n",
    "- Customizing Ticks\n",
    "- Customizing Matplotlib: Configurations and Stylesheets\n",
    "- Three-Dimensional Plotting in Matplotlib\n",
    "- Geographic Data with Basemap\n",
    "- Visualization with Seaborn\n",
    "- Further Resources"
   ]
  },
  {
   "cell_type": "markdown",
   "metadata": {},
   "source": [
    "### 4. Machine Learning"
   ]
  },
  {
   "cell_type": "markdown",
   "metadata": {},
   "source": [
    "- What Is Machine Learning?\n",
    "- Introducing Scikit-Learn\n",
    "- Hyperparameters and Model Validation\n",
    "- Feature Engineering\n",
    "- In Depth: Naive Bayes Classification\n",
    "- In Depth: Linear Regression\n",
    "- In-Depth: Support Vector Machines\n",
    "- In-Depth: Decision Trees and Random Forests\n",
    "- In Depth: Principal Component Analysis\n",
    "- In-Depth: Manifold Learning\n",
    "- In Depth: k-Means Clustering\n",
    "- In Depth: Gaussian Mixture Models\n",
    "- In-Depth: Kernel Density Estimation\n",
    "- Application: A Face Detection Pipeline\n",
    "- Further Machine Learning Resources"
   ]
  },
  {
   "cell_type": "markdown",
   "metadata": {},
   "source": [
    "### 5. Deep Learning"
   ]
  },
  {
   "cell_type": "markdown",
   "metadata": {},
   "source": [
    "- fast.ai's Deep Learning Part 1: Practical Deep Learning for Coders\n",
    "    - Lesson 1 - Recognizing Cats and Dogs\n",
    "    - Lesson 2 - Improving Your Image Classifier\n",
    "    - Lesson 3 - Understanding Convolutions\n",
    "    - Lesson 4 - Structured Time Series and Language Models\n",
    "    - Lesson 5 - Collaborative Filtering; Inside the Training Loop\n",
    "    - Lesson 6 - Interpreting Embeddings; RNNs from Scratch\n",
    "    - Lesson 7 - ResNets from Scratch\n",
    "- fast.ai's Deep Learning Part 2: Cutting Edge Deep Learning for Coders\n",
    "  - [Deep Learning Part 2: 2017 Edition](https://github.com/cedrickchee/knowledge/blob/master/courses/fast.ai/deep-learning-part-2/2017-edition/README.md)\n",
    "    - [Lesson 8 - Artistic Style](https://github.com/cedrickchee/knowledge/blob/master/courses/fast.ai/deep-learning-part-2/2017-edition/lesson-8-artistic-style.md)\n",
    "    - [Lesson 9 - Generative Models](https://github.com/cedrickchee/knowledge/blob/master/courses/fast.ai/deep-learning-part-2/2017-edition/lesson-9-generative-models.md)\n",
    "    - [Lesson 10 - Multi-modal & GANs](https://github.com/cedrickchee/knowledge/blob/master/courses/fast.ai/deep-learning-part-2/2017-edition/lesson-10-multi-modal-and-gans.md)\n",
    "    - [Lesson 11 - Memory Networks](https://github.com/cedrickchee/knowledge/blob/master/courses/fast.ai/deep-learning-part-2/2017-edition/lesson-11-memory-networks.md)\n",
    "    - [Lesson 12 - Attentional Models](https://github.com/cedrickchee/knowledge/blob/master/courses/fast.ai/deep-learning-part-2/2017-edition/lesson-12-attentional-models.md)\n",
    "    - [Lesson 13 - Neural Translation](https://github.com/cedrickchee/knowledge/blob/master/courses/fast.ai/deep-learning-part-2/2017-edition/lesson-13-neural-translation.md)\n",
    "    - [Lesson 14 - Time Series & Segmentation](https://github.com/cedrickchee/knowledge/blob/master/courses/fast.ai/deep-learning-part-2/2017-edition/lesson-14-time-series-and-segmentation.md)\n",
    "  - [Deep Learning Part 2: 2018 Edition](https://github.com/cedrickchee/knowledge/blob/master/courses/fast.ai/deep-learning-part-2/2018-edition/README.md)\n",
    "    - [Lesson 8 - Object Detection](https://github.com/cedrickchee/knowledge/blob/master/courses/fast.ai/deep-learning-part-2/2018-edition/lesson-8-object-detection.md)\n",
    "    - [Lesson 9 - Single Shot Multibox Detector (SSD)](https://github.com/cedrickchee/knowledge/blob/master/courses/fast.ai/deep-learning-part-2/2018-edition/lesson-9-multi-object-detection.md)\n",
    "    - [Lesson 10 - Transfer Learning for NLP and NLP Classification](https://github.com/cedrickchee/knowledge/blob/master/courses/fast.ai/deep-learning-part-2/2018-edition/lesson-10-transfer-learning-nlp.md)\n",
    "    - [Lesson 11 - Neural Translation; Multi-modal Learning](https://github.com/cedrickchee/knowledge/blob/master/courses/fast.ai/deep-learning-part-2/2018-edition/lesson-11-neural-translation.md)\n",
    "    - [Lesson 12 - DarkNet; Generative Adversarial Networks \\(GANs\\)](https://github.com/cedrickchee/knowledge/blob/master/courses/fast.ai/deep-learning-part-2/2018-edition/lesson-12-gan.md)\n",
    "    - [Lesson 13 - Image Enhancement; Style Transfer; Data Ethics](https://github.com/cedrickchee/knowledge/blob/master/courses/fast.ai/deep-learning-part-2/2018-edition/lesson-13-image-enhancement.md)\n",
    "    - [Lesson 14 - Super Resolution; Image Segmentation with U-Net](https://github.com/cedrickchee/knowledge/blob/master/courses/fast.ai/deep-learning-part-2/2018-edition/lesson-14-image-segmentation.md)\n",
    "    - Projects\n",
    "        - [Deep Painterly Harmonization](deep_learning/deep_painterly_harmonization/harmonization.ipynb)\n",
    "        - [Universal Language Model Fine-tuning for Text Classification (ULMFiT) in Malay language for downstream NLP tasks](deep_learning/ULMFiT/malay_language_model.ipynb)"
   ]
  },
  {
   "cell_type": "code",
   "execution_count": null,
   "metadata": {},
   "outputs": [],
   "source": []
  }
 ],
 "metadata": {
  "kernelspec": {
   "display_name": "Python 3",
   "language": "python",
   "name": "python3"
  },
  "language_info": {
   "codemirror_mode": {
    "name": "ipython",
    "version": 3
   },
   "file_extension": ".py",
   "mimetype": "text/x-python",
   "name": "python",
   "nbconvert_exporter": "python",
   "pygments_lexer": "ipython3",
   "version": "3.6.5"
  }
 },
 "nbformat": 4,
 "nbformat_minor": 2
}
